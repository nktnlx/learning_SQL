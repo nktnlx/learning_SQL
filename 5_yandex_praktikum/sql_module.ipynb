{
 "cells": [
  {
   "cell_type": "markdown",
   "metadata": {},
   "source": [
    "### SQL Module From Yandex Praktikum Data Analyst Course"
   ]
  },
  {
   "cell_type": "markdown",
   "metadata": {},
   "source": [
    "Tasks were solved using **PostgreSQL**"
   ]
  },
  {
   "cell_type": "code",
   "execution_count": null,
   "metadata": {},
   "outputs": [],
   "source": []
  },
  {
   "cell_type": "markdown",
   "metadata": {},
   "source": [
    "###### SELECT"
   ]
  },
  {
   "cell_type": "code",
   "execution_count": null,
   "metadata": {},
   "outputs": [],
   "source": [
    "# Select columns: id_product, name, category, name_store \n",
    "# From: products_data_all\n",
    "SELECT \n",
    "  id_product, \n",
    "  name, \n",
    "  category, \n",
    "  name_store \n",
    "FROM \n",
    "  products_data_all;"
   ]
  },
  {
   "cell_type": "code",
   "execution_count": null,
   "metadata": {},
   "outputs": [],
   "source": [
    "# Retrieve all columns from products_data_all\n",
    "SELECT \n",
    "  * \n",
    "FROM \n",
    "  products_data_all;"
   ]
  },
  {
   "cell_type": "code",
   "execution_count": null,
   "metadata": {},
   "outputs": [],
   "source": [
    "# Retrieve all columns from transactions\n",
    "SELECT \n",
    "  * \n",
    "FROM \n",
    "  transactions;"
   ]
  },
  {
   "cell_type": "code",
   "execution_count": null,
   "metadata": {},
   "outputs": [],
   "source": [
    "# Retrieve all columns from weather\n",
    "SELECT \n",
    "  * \n",
    "FROM \n",
    "  weather;"
   ]
  },
  {
   "cell_type": "code",
   "execution_count": null,
   "metadata": {},
   "outputs": [],
   "source": []
  },
  {
   "cell_type": "markdown",
   "metadata": {},
   "source": [
    "###### WHERE"
   ]
  },
  {
   "cell_type": "code",
   "execution_count": null,
   "metadata": {},
   "outputs": [],
   "source": [
    "# Select data having category 'milk & cream' and update date 2019-06-01\n",
    "SELECT \n",
    "  name, \n",
    "  price, \n",
    "  name_store, \n",
    "  date_upd \n",
    "FROM \n",
    "  products_data_all \n",
    "WHERE \n",
    "  category = 'milk & cream' \n",
    "  AND date_upd = '2019-06-01';"
   ]
  },
  {
   "cell_type": "code",
   "execution_count": null,
   "metadata": {},
   "outputs": [],
   "source": [
    "# Select data having category 'milk & cream' and update date 2019-06-08, \n",
    "# 2019-06-15, 2019-06-22, 2019-06-29\n",
    "SELECT \n",
    "  name, \n",
    "  price, \n",
    "  name_store, \n",
    "  date_upd \n",
    "FROM \n",
    "  products_data_all \n",
    "WHERE \n",
    "  category = 'milk & cream' \n",
    "  AND date_upd IN (\n",
    "    '2019-06-08', '2019-06-15', '2019-06-22', \n",
    "    '2019-06-29'\n",
    "  );"
   ]
  },
  {
   "cell_type": "code",
   "execution_count": null,
   "metadata": {},
   "outputs": [],
   "source": [
    "# Select data having id_product from a provided list and \n",
    "# date 2019-06-01 and 2019-06-02\n",
    "SELECT \n",
    "  * \n",
    "FROM \n",
    "  transactions \n",
    "WHERE \n",
    "  date BETWEEN '2019-06-01' \n",
    "  AND '2019-06-02' \n",
    "  AND id_product IN (\n",
    "    0, 1, 2, 3, 4, 6, 7, 8, 9, 10, 11, 12, 13, 15, \n",
    "    16, 17, 18, 19, 20, 21, 22, 23, 24, 25, \n",
    "    26, 28, 29, 30, 31, 32, 34, 35, 36, 37, \n",
    "    38, 39, 40, 42, 43, 44, 45, 47, 48, 49, \n",
    "    50, 51, 52, 53, 54, 55, 56, 57, 58, 59, \n",
    "    60, 61, 63, 64, 65, 66, 67, 68, 69, 70, \n",
    "    71, 72, 73, 74, 75, 76, 77, 78, 80, 81, \n",
    "    82, 83, 84, 86, 88, 89, 90, 91, 92, 93, \n",
    "    95, 96, 97, 98, 99, 100, 102, 103, 104, \n",
    "    105, 106, 107, 108, 109, 110, 111, 112, \n",
    "    113, 114, 115, 116, 118, 119, 5, 14, 27, \n",
    "    33, 41, 46, 62, 79, 85, 87, 94, 101, 117\n",
    "  );"
   ]
  },
  {
   "cell_type": "code",
   "execution_count": null,
   "metadata": {},
   "outputs": [],
   "source": []
  },
  {
   "cell_type": "markdown",
   "metadata": {},
   "source": [
    "###### Aggregate Functions"
   ]
  },
  {
   "cell_type": "code",
   "execution_count": null,
   "metadata": {},
   "outputs": [],
   "source": [
    "# Count an overall number of rows of the products_data_all table\n",
    "SELECT \n",
    "  COUNT(*) AS cnt \n",
    "FROM \n",
    "  products_data_all;"
   ]
  },
  {
   "cell_type": "code",
   "execution_count": null,
   "metadata": {},
   "outputs": [],
   "source": [
    "# Count an overall number of rows, number of values and unque values of\n",
    "# the name column in the products_data_all table\n",
    "SELECT \n",
    "  COUNT(*) AS cnt, \n",
    "  COUNT(name) AS name_cnt, \n",
    "  COUNT(DISTINCT name) AS name_uniq_cnt \n",
    "FROM \n",
    "  products_data_all;"
   ]
  },
  {
   "cell_type": "code",
   "execution_count": null,
   "metadata": {},
   "outputs": [],
   "source": [
    "# Calculate an average price (products_data_all table) \n",
    "SELECT \n",
    "  AVG(price) AS average \n",
    "FROM \n",
    "  products_data_all;"
   ]
  },
  {
   "cell_type": "code",
   "execution_count": null,
   "metadata": {},
   "outputs": [],
   "source": [
    "# Calculate an average price of a product 'Мilk 2,5%, 930 ml' \n",
    "# in the 'Seventh store'\n",
    "SELECT \n",
    "  AVG(price) AS average \n",
    "FROM \n",
    "  products_data_all \n",
    "WHERE \n",
    "  name = 'Мilk 2,5%, 930 ml' \n",
    "  AND name_store = 'Seventh store';"
   ]
  },
  {
   "cell_type": "code",
   "execution_count": null,
   "metadata": {},
   "outputs": [],
   "source": [
    "# Calculate the total worth of all products in the 'Milky' store\n",
    "SELECT \n",
    "  SUM(price) AS summa \n",
    "FROM \n",
    "  products_data_all \n",
    "WHERE \n",
    "  name_store = 'Milky';"
   ]
  },
  {
   "cell_type": "code",
   "execution_count": null,
   "metadata": {},
   "outputs": [],
   "source": [
    "# Find the max price in the products_data_all table\n",
    "SELECT \n",
    "  MAX(price) AS max_price \n",
    "FROM \n",
    "  products_data_all;"
   ]
  },
  {
   "cell_type": "code",
   "execution_count": null,
   "metadata": {},
   "outputs": [],
   "source": [
    "# Find the difference between the max and min price of a product\n",
    "# 'Dairy Butter Ecotavush 99%, 500 g' in the 'TasteMall' store\n",
    "SELECT \n",
    "  MAX(price) - MIN(price) AS max_min_diff \n",
    "FROM \n",
    "  products_data_all \n",
    "WHERE \n",
    "  name = 'Dairy Butter Ecotavush 99%, 500 g' \n",
    "  AND name_store = 'TasteMall'"
   ]
  },
  {
   "cell_type": "code",
   "execution_count": null,
   "metadata": {},
   "outputs": [],
   "source": []
  },
  {
   "cell_type": "markdown",
   "metadata": {},
   "source": [
    "###### Data Types CASTing"
   ]
  },
  {
   "cell_type": "code",
   "execution_count": null,
   "metadata": {},
   "outputs": [],
   "source": [
    "# Calculate an average weight for products weighted in grams\n",
    "SELECT \n",
    "  AVG(\n",
    "    CAST(weight AS real)\n",
    "  ) AS average \n",
    "FROM \n",
    "  products_data_all \n",
    "WHERE \n",
    "  units = 'г';"
   ]
  },
  {
   "cell_type": "code",
   "execution_count": null,
   "metadata": {},
   "outputs": [],
   "source": [
    "# Find the max weight of a product in the category 'milk & cream'\n",
    "SELECT \n",
    "  MAX(\n",
    "    CAST(weight AS real)\n",
    "  ) AS max_weight \n",
    "FROM \n",
    "  products_data_all \n",
    "WHERE \n",
    "  category = 'milk & cream';"
   ]
  },
  {
   "cell_type": "code",
   "execution_count": null,
   "metadata": {},
   "outputs": [],
   "source": []
  },
  {
   "cell_type": "markdown",
   "metadata": {},
   "source": [
    "###### GROUP BY"
   ]
  },
  {
   "cell_type": "code",
   "execution_count": null,
   "metadata": {},
   "outputs": [],
   "source": [
    "# Count number of products and unique products in various stores \n",
    "# (group the result by store names)\n",
    "SELECT \n",
    "  name_store, \n",
    "  COUNT(name) AS name_cnt, \n",
    "  COUNT(DISTINCT name) AS name_uniq_cnt \n",
    "FROM \n",
    "  products_data_all \n",
    "GROUP BY \n",
    "  name_store;"
   ]
  },
  {
   "cell_type": "code",
   "execution_count": null,
   "metadata": {},
   "outputs": [],
   "source": [
    "# Count the max weight of a product for each products' category\n",
    "SELECT \n",
    "  category, \n",
    "  MAX(\n",
    "    CAST(weight AS real)\n",
    "  ) \n",
    "FROM \n",
    "  products_data_all \n",
    "GROUP BY \n",
    "  category;"
   ]
  },
  {
   "cell_type": "code",
   "execution_count": null,
   "metadata": {},
   "outputs": [],
   "source": [
    "# Calculate max, min and average price for products in each store\n",
    "SELECT \n",
    "  name_store, \n",
    "  AVG(price) AS average_price, \n",
    "  MAX(price) AS max_price, \n",
    "  MIN(price) AS min_price \n",
    "FROM \n",
    "  products_data_all \n",
    "GROUP BY \n",
    "  name_store;"
   ]
  },
  {
   "cell_type": "code",
   "execution_count": null,
   "metadata": {},
   "outputs": [],
   "source": [
    "# # Find the difference between the max and min price for each product\n",
    "# in the category 'dairy butter' on the 2019-06-10\n",
    "SELECT \n",
    "  name, \n",
    "  MAX(price) - MIN(price) AS max_min_diff \n",
    "FROM \n",
    "  products_data_all \n",
    "WHERE \n",
    "  category = 'dairy butter' \n",
    "  AND CAST(date_upd AS date) = '2019-06-10' \n",
    "GROUP BY \n",
    "  name;"
   ]
  },
  {
   "cell_type": "code",
   "execution_count": null,
   "metadata": {},
   "outputs": [],
   "source": []
  },
  {
   "cell_type": "markdown",
   "metadata": {},
   "source": [
    "###### ORDER BY"
   ]
  },
  {
   "cell_type": "code",
   "execution_count": null,
   "metadata": {},
   "outputs": [],
   "source": [
    "# Find the number of products in each category for the 2019-06-05.\n",
    "# Sort the result in ascending order.\n",
    "SELECT \n",
    "  CAST(date_upd AS date) AS update_date, \n",
    "  category, \n",
    "  COUNT(name) AS name_cnt \n",
    "FROM \n",
    "  products_data_all \n",
    "WHERE \n",
    "  CAST(date_upd AS date) = '2019-06-05' \n",
    "GROUP BY \n",
    "  category, \n",
    "  update_date \n",
    "ORDER BY \n",
    "  name_cnt ASC;"
   ]
  },
  {
   "cell_type": "code",
   "execution_count": null,
   "metadata": {},
   "outputs": [],
   "source": [
    "# Count the number of unique products in each category \n",
    "# in the 'Lentro' store on the '2019-06-30'.\n",
    "# Sort the result in descending order\n",
    "SELECT \n",
    "  CAST(date_upd AS date) AS update_date, \n",
    "  name_store, \n",
    "  category, \n",
    "  COUNT(DISTINCT name) AS uniq_name_cnt \n",
    "FROM \n",
    "  products_data_all \n",
    "WHERE \n",
    "  name_store = 'Lentro' \n",
    "  AND CAST(date_upd AS date) = '2019-06-30' \n",
    "GROUP BY \n",
    "  update_date, \n",
    "  name_store, \n",
    "  category \n",
    "ORDER BY \n",
    "  uniq_name_cnt DESC;"
   ]
  },
  {
   "cell_type": "code",
   "execution_count": null,
   "metadata": {},
   "outputs": [],
   "source": []
  },
  {
   "cell_type": "markdown",
   "metadata": {},
   "source": [
    "###### LIMIT"
   ]
  },
  {
   "cell_type": "code",
   "execution_count": null,
   "metadata": {},
   "outputs": [],
   "source": [
    "# Find the top-5 most expensive products.\n",
    "SELECT \n",
    "  name, \n",
    "  MAX(price) AS max_price \n",
    "FROM \n",
    "  products_data_all \n",
    "GROUP BY \n",
    "  name \n",
    "ORDER BY \n",
    "  max_price DESC \n",
    "LIMIT \n",
    "  5;"
   ]
  },
  {
   "cell_type": "code",
   "execution_count": null,
   "metadata": {},
   "outputs": [],
   "source": []
  },
  {
   "cell_type": "markdown",
   "metadata": {},
   "source": [
    "###### HAVING"
   ]
  },
  {
   "cell_type": "code",
   "execution_count": null,
   "metadata": {},
   "outputs": [],
   "source": [
    "# Find the max price of each product. Show the name and the max price\n",
    "# of the products having the max price > 500.\n",
    "SELECT \n",
    "  name, \n",
    "  MAX(price) AS max_price \n",
    "FROM \n",
    "  products_data_all \n",
    "GROUP BY \n",
    "  name \n",
    "HAVING \n",
    "  MAX(price) > 500;"
   ]
  },
  {
   "cell_type": "code",
   "execution_count": null,
   "metadata": {},
   "outputs": [],
   "source": [
    "# Find the amount of products having weight > 900 g for the '2019-06-03'\n",
    "# Group the result by store name and show only products having the \n",
    "# amount < 10.\n",
    "SELECT \n",
    "  CAST(date_upd AS date) AS update_date, \n",
    "  name_store, \n",
    "  COUNT(name) AS name_cnt \n",
    "FROM \n",
    "  products_data_all \n",
    "WHERE \n",
    "  (\n",
    "    CAST(date_upd AS date) = '2019-06-03' \n",
    "    AND units = 'г'\n",
    "  ) \n",
    "  AND CAST(weight AS real) > 900 \n",
    "GROUP BY \n",
    "  name_store, \n",
    "  CAST(date_upd AS date) \n",
    "HAVING \n",
    "  COUNT(name) < 10;"
   ]
  },
  {
   "cell_type": "code",
   "execution_count": null,
   "metadata": {},
   "outputs": [],
   "source": [
    "# Find the amount of unique products for each store. Reveal three\n",
    "# stores with the least amount of unique goods among stores having more\n",
    "# than 30 uniqe products.\n",
    "SELECT \n",
    "  name_store, \n",
    "  COUNT(DISTINCT name) AS name_uniq_cnt \n",
    "FROM \n",
    "  products_data_all \n",
    "GROUP BY \n",
    "  name_store \n",
    "HAVING \n",
    "  COUNT(DISTINCT name) > 30 \n",
    "ORDER BY \n",
    "  COUNT(DISTINCT name) ASC \n",
    "LIMIT \n",
    "  3;"
   ]
  },
  {
   "cell_type": "code",
   "execution_count": null,
   "metadata": {},
   "outputs": [],
   "source": []
  },
  {
   "cell_type": "markdown",
   "metadata": {},
   "source": [
    "###### EXTRACT"
   ]
  },
  {
   "cell_type": "code",
   "execution_count": null,
   "metadata": {},
   "outputs": [],
   "source": [
    "# Extract hours from the date column (transactions table)\n",
    "SELECT \n",
    "  EXTRACT(\n",
    "    HOUR \n",
    "    FROM \n",
    "      date\n",
    "  ) AS hours \n",
    "FROM \n",
    "  transactions;"
   ]
  },
  {
   "cell_type": "code",
   "execution_count": null,
   "metadata": {},
   "outputs": [],
   "source": [
    "# Extract hours from the date column (transactions table)\n",
    "# Group the data by hours and count the amount of products being sold.\n",
    "# Sort the data by hours in ascending order.\n",
    "SELECT \n",
    "  EXTRACT(\n",
    "    HOUR \n",
    "    FROM \n",
    "      date\n",
    "  ) AS hours, \n",
    "  COUNT(id_product) AS cnt \n",
    "FROM \n",
    "  transactions \n",
    "GROUP BY \n",
    "  hours \n",
    "ORDER BY \n",
    "  hours;"
   ]
  },
  {
   "cell_type": "code",
   "execution_count": null,
   "metadata": {},
   "outputs": [],
   "source": [
    "# Extract day values from the date column (transactions table)\n",
    "# Group the data by days and count the amount of products being sold.\n",
    "# Sort the data by days in ascending order. \n",
    "SELECT \n",
    "  EXTRACT(\n",
    "    DAY \n",
    "    FROM \n",
    "      date\n",
    "  ) AS days, \n",
    "  COUNT(id_product) AS cnt \n",
    "FROM \n",
    "  transactions \n",
    "GROUP BY \n",
    "  days \n",
    "ORDER BY \n",
    "  days ASC;"
   ]
  },
  {
   "cell_type": "code",
   "execution_count": null,
   "metadata": {},
   "outputs": [],
   "source": []
  },
  {
   "cell_type": "markdown",
   "metadata": {},
   "source": [
    "###### DATE_TRUNC"
   ]
  },
  {
   "cell_type": "code",
   "execution_count": null,
   "metadata": {},
   "outputs": [],
   "source": [
    "# Truncate the date to day. Group the data by days and \n",
    "# count the amount of products being sold.\n",
    "# Sort the data by days in ascending order.  \n",
    "SELECT \n",
    "  DATE_TRUNC('day', date) AS date_month, \n",
    "  COUNT(id_product) AS cnt \n",
    "FROM \n",
    "  transactions \n",
    "GROUP BY \n",
    "  date_month \n",
    "ORDER BY \n",
    "  date_month ASC;"
   ]
  },
  {
   "cell_type": "code",
   "execution_count": null,
   "metadata": {},
   "outputs": [],
   "source": []
  },
  {
   "cell_type": "markdown",
   "metadata": {},
   "source": [
    "###### Subqueries"
   ]
  },
  {
   "cell_type": "code",
   "execution_count": null,
   "metadata": {},
   "outputs": [],
   "source": [
    "# Query product ids from the table products_data_all\n",
    "# having category 'milk & cream' and the price > 120\n",
    "# or the category 'dairy butter' and the price > 354\n",
    "SELECT \n",
    "  id_product \n",
    "FROM \n",
    "  products_data_all \n",
    "WHERE \n",
    "  (\n",
    "    category = 'milk & cream' \n",
    "    AND price > 120\n",
    "  ) \n",
    "  OR (\n",
    "    category = 'dairy butter' \n",
    "    AND price > 354\n",
    "  );"
   ]
  },
  {
   "cell_type": "code",
   "execution_count": null,
   "metadata": {},
   "outputs": [],
   "source": [
    "# Find unique user ids who has bought products from the category 'milk & cream' \n",
    "# and having the price > 120 or from the category 'dairy butter' \n",
    "# and having the price > 354\n",
    "SELECT \n",
    "  DISTINCT(user_id) \n",
    "FROM \n",
    "  transactions \n",
    "WHERE \n",
    "  id_product IN (\n",
    "    SELECT \n",
    "      id_product \n",
    "    FROM \n",
    "      products_data_all \n",
    "    WHERE \n",
    "      (\n",
    "        category = 'milk & cream' \n",
    "        AND price > 120\n",
    "      ) \n",
    "      OR (\n",
    "        category = 'dairy butter' \n",
    "        AND price > 354\n",
    "      )\n",
    "  );"
   ]
  },
  {
   "cell_type": "code",
   "execution_count": null,
   "metadata": {},
   "outputs": [],
   "source": [
    "# Truncate the date to day and count unique transactions\n",
    "SELECT \n",
    "  COUNT(DISTINCT id_transaction) AS transaction_per_day, \n",
    "  DATE_TRUNC('day', date) AS trunc_date \n",
    "FROM \n",
    "  transactions \n",
    "GROUP BY \n",
    "  trunc_date;"
   ]
  },
  {
   "cell_type": "code",
   "execution_count": null,
   "metadata": {},
   "outputs": [],
   "source": [
    "# Use the previous query as a subquery to extract week numbers\n",
    "# and calculate an average number of transactions per day.\n",
    "# Group the result by week numbers.\n",
    "SELECT \n",
    "  EXTRACT(\n",
    "    WEEK \n",
    "    FROM \n",
    "      SUBQ.trunc_date\n",
    "  ) AS week_number, \n",
    "  AVG(SUBQ.transaction_per_day) AS avg_week_transaction \n",
    "FROM \n",
    "  (\n",
    "    SELECT \n",
    "      COUNT(DISTINCT id_transaction) AS transaction_per_day, \n",
    "      DATE_TRUNC('day', date) AS trunc_date \n",
    "    FROM \n",
    "      transactions \n",
    "    GROUP BY \n",
    "      trunc_date\n",
    "  ) AS SUBQ \n",
    "GROUP BY \n",
    "  week_number;"
   ]
  },
  {
   "cell_type": "code",
   "execution_count": null,
   "metadata": {},
   "outputs": [],
   "source": []
  },
  {
   "cell_type": "code",
   "execution_count": null,
   "metadata": {},
   "outputs": [],
   "source": [
    "tbc.."
   ]
  },
  {
   "cell_type": "code",
   "execution_count": null,
   "metadata": {},
   "outputs": [],
   "source": []
  },
  {
   "cell_type": "code",
   "execution_count": null,
   "metadata": {},
   "outputs": [],
   "source": []
  },
  {
   "cell_type": "code",
   "execution_count": null,
   "metadata": {},
   "outputs": [],
   "source": []
  },
  {
   "cell_type": "code",
   "execution_count": null,
   "metadata": {},
   "outputs": [],
   "source": []
  },
  {
   "cell_type": "code",
   "execution_count": null,
   "metadata": {},
   "outputs": [],
   "source": []
  },
  {
   "cell_type": "code",
   "execution_count": null,
   "metadata": {},
   "outputs": [],
   "source": []
  },
  {
   "cell_type": "code",
   "execution_count": null,
   "metadata": {},
   "outputs": [],
   "source": []
  },
  {
   "cell_type": "code",
   "execution_count": null,
   "metadata": {},
   "outputs": [],
   "source": []
  },
  {
   "cell_type": "code",
   "execution_count": null,
   "metadata": {},
   "outputs": [],
   "source": []
  },
  {
   "cell_type": "code",
   "execution_count": null,
   "metadata": {},
   "outputs": [],
   "source": []
  },
  {
   "cell_type": "code",
   "execution_count": null,
   "metadata": {},
   "outputs": [],
   "source": []
  },
  {
   "cell_type": "code",
   "execution_count": null,
   "metadata": {},
   "outputs": [],
   "source": []
  },
  {
   "cell_type": "code",
   "execution_count": null,
   "metadata": {},
   "outputs": [],
   "source": []
  },
  {
   "cell_type": "code",
   "execution_count": null,
   "metadata": {},
   "outputs": [],
   "source": []
  },
  {
   "cell_type": "code",
   "execution_count": null,
   "metadata": {},
   "outputs": [],
   "source": []
  },
  {
   "cell_type": "code",
   "execution_count": null,
   "metadata": {},
   "outputs": [],
   "source": []
  },
  {
   "cell_type": "code",
   "execution_count": null,
   "metadata": {},
   "outputs": [],
   "source": []
  }
 ],
 "metadata": {
  "kernelspec": {
   "display_name": "Python 3",
   "language": "python",
   "name": "python3"
  },
  "language_info": {
   "codemirror_mode": {
    "name": "ipython",
    "version": 3
   },
   "file_extension": ".py",
   "mimetype": "text/x-python",
   "name": "python",
   "nbconvert_exporter": "python",
   "pygments_lexer": "ipython3",
   "version": "3.7.6"
  }
 },
 "nbformat": 4,
 "nbformat_minor": 4
}
