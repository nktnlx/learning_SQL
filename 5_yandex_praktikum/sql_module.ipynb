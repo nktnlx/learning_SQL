{
 "cells": [
  {
   "cell_type": "markdown",
   "metadata": {},
   "source": [
    "### SQL Module From Yandex Praktikum Data Analyst Course"
   ]
  },
  {
   "cell_type": "markdown",
   "metadata": {},
   "source": [
    "Tasks were solved using **PostgreSQL**"
   ]
  },
  {
   "cell_type": "markdown",
   "metadata": {},
   "source": [
    "###### SELECT"
   ]
  },
  {
   "cell_type": "code",
   "execution_count": null,
   "metadata": {},
   "outputs": [],
   "source": [
    "# Select columns: id_product, name, category, name_store \n",
    "# From: products_data_all\n",
    "SELECT \n",
    "  id_product, \n",
    "  name, \n",
    "  category, \n",
    "  name_store \n",
    "FROM \n",
    "  products_data_all;"
   ]
  },
  {
   "cell_type": "code",
   "execution_count": null,
   "metadata": {},
   "outputs": [],
   "source": [
    "# Retrieve all columns from products_data_all\n",
    "SELECT \n",
    "  * \n",
    "FROM \n",
    "  products_data_all;"
   ]
  },
  {
   "cell_type": "code",
   "execution_count": null,
   "metadata": {},
   "outputs": [],
   "source": [
    "# Retrieve all columns from transactions\n",
    "SELECT \n",
    "  * \n",
    "FROM \n",
    "  transactions;"
   ]
  },
  {
   "cell_type": "code",
   "execution_count": null,
   "metadata": {},
   "outputs": [],
   "source": [
    "# Retrieve all columns from weather\n",
    "SELECT \n",
    "  * \n",
    "FROM \n",
    "  weather;"
   ]
  },
  {
   "cell_type": "code",
   "execution_count": null,
   "metadata": {},
   "outputs": [],
   "source": []
  },
  {
   "cell_type": "markdown",
   "metadata": {},
   "source": [
    "###### WHERE"
   ]
  },
  {
   "cell_type": "code",
   "execution_count": null,
   "metadata": {},
   "outputs": [],
   "source": [
    "# Select data having category 'milk & cream' and update date 2019-06-01\n",
    "SELECT \n",
    "  name, \n",
    "  price, \n",
    "  name_store, \n",
    "  date_upd \n",
    "FROM \n",
    "  products_data_all \n",
    "WHERE \n",
    "  category = 'milk & cream' \n",
    "  AND date_upd = '2019-06-01';"
   ]
  },
  {
   "cell_type": "code",
   "execution_count": null,
   "metadata": {},
   "outputs": [],
   "source": [
    "# Select data having category 'milk & cream' and update date 2019-06-08, \n",
    "# 2019-06-15, 2019-06-22, 2019-06-29\n",
    "SELECT \n",
    "  name, \n",
    "  price, \n",
    "  name_store, \n",
    "  date_upd \n",
    "FROM \n",
    "  products_data_all \n",
    "WHERE \n",
    "  category = 'milk & cream' \n",
    "  AND date_upd IN (\n",
    "    '2019-06-08', '2019-06-15', '2019-06-22', \n",
    "    '2019-06-29'\n",
    "  );"
   ]
  },
  {
   "cell_type": "code",
   "execution_count": null,
   "metadata": {},
   "outputs": [],
   "source": [
    "# Select data having id_product from a provided list and \n",
    "# date 2019-06-01 and 2019-06-02\n",
    "SELECT \n",
    "  * \n",
    "FROM \n",
    "  transactions \n",
    "WHERE \n",
    "  date BETWEEN '2019-06-01' \n",
    "  AND '2019-06-02' \n",
    "  AND id_product IN (\n",
    "    0, 1, 2, 3, 4, 6, 7, 8, 9, 10, 11, 12, 13, 15, \n",
    "    16, 17, 18, 19, 20, 21, 22, 23, 24, 25, \n",
    "    26, 28, 29, 30, 31, 32, 34, 35, 36, 37, \n",
    "    38, 39, 40, 42, 43, 44, 45, 47, 48, 49, \n",
    "    50, 51, 52, 53, 54, 55, 56, 57, 58, 59, \n",
    "    60, 61, 63, 64, 65, 66, 67, 68, 69, 70, \n",
    "    71, 72, 73, 74, 75, 76, 77, 78, 80, 81, \n",
    "    82, 83, 84, 86, 88, 89, 90, 91, 92, 93, \n",
    "    95, 96, 97, 98, 99, 100, 102, 103, 104, \n",
    "    105, 106, 107, 108, 109, 110, 111, 112, \n",
    "    113, 114, 115, 116, 118, 119, 5, 14, 27, \n",
    "    33, 41, 46, 62, 79, 85, 87, 94, 101, 117\n",
    "  );"
   ]
  },
  {
   "cell_type": "code",
   "execution_count": null,
   "metadata": {},
   "outputs": [],
   "source": []
  },
  {
   "cell_type": "markdown",
   "metadata": {},
   "source": [
    "###### Aggregate Functions"
   ]
  },
  {
   "cell_type": "code",
   "execution_count": null,
   "metadata": {},
   "outputs": [],
   "source": [
    "# Count an overall number of rows of the products_data_all table\n",
    "SELECT \n",
    "  COUNT(*) AS cnt \n",
    "FROM \n",
    "  products_data_all;"
   ]
  },
  {
   "cell_type": "code",
   "execution_count": null,
   "metadata": {},
   "outputs": [],
   "source": [
    "# Count an overall number of rows, number of values and unque values of\n",
    "# the name column in the products_data_all table\n",
    "SELECT \n",
    "  COUNT(*) AS cnt, \n",
    "  COUNT(name) AS name_cnt, \n",
    "  COUNT(DISTINCT name) AS name_uniq_cnt \n",
    "FROM \n",
    "  products_data_all;"
   ]
  },
  {
   "cell_type": "code",
   "execution_count": null,
   "metadata": {},
   "outputs": [],
   "source": [
    "# Calculate an average price (products_data_all table) \n",
    "SELECT \n",
    "  AVG(price) AS average \n",
    "FROM \n",
    "  products_data_all;"
   ]
  },
  {
   "cell_type": "code",
   "execution_count": null,
   "metadata": {},
   "outputs": [],
   "source": [
    "# Calculate an average price of a product 'Мilk 2,5%, 930 ml' \n",
    "# in the 'Seventh store'\n",
    "SELECT \n",
    "  AVG(price) AS average \n",
    "FROM \n",
    "  products_data_all \n",
    "WHERE \n",
    "  name = 'Мilk 2,5%, 930 ml' \n",
    "  AND name_store = 'Seventh store';"
   ]
  },
  {
   "cell_type": "code",
   "execution_count": null,
   "metadata": {},
   "outputs": [],
   "source": [
    "# Calculate the total worth of all products in the 'Milky' store\n",
    "SELECT \n",
    "  SUM(price) AS summa \n",
    "FROM \n",
    "  products_data_all \n",
    "WHERE \n",
    "  name_store = 'Milky';"
   ]
  },
  {
   "cell_type": "code",
   "execution_count": null,
   "metadata": {},
   "outputs": [],
   "source": [
    "# Find the max price in the products_data_all table\n",
    "SELECT \n",
    "  MAX(price) AS max_price \n",
    "FROM \n",
    "  products_data_all;"
   ]
  },
  {
   "cell_type": "code",
   "execution_count": null,
   "metadata": {},
   "outputs": [],
   "source": [
    "# Find the difference between the max and min price of a product\n",
    "# 'Dairy Butter Ecotavush 99%, 500 g' in the 'TasteMall' store\n",
    "SELECT \n",
    "  MAX(price) - MIN(price) AS max_min_diff \n",
    "FROM \n",
    "  products_data_all \n",
    "WHERE \n",
    "  name = 'Dairy Butter Ecotavush 99%, 500 g' \n",
    "  AND name_store = 'TasteMall'"
   ]
  },
  {
   "cell_type": "code",
   "execution_count": null,
   "metadata": {},
   "outputs": [],
   "source": []
  },
  {
   "cell_type": "markdown",
   "metadata": {},
   "source": [
    "###### Data Types CASTing"
   ]
  },
  {
   "cell_type": "code",
   "execution_count": null,
   "metadata": {},
   "outputs": [],
   "source": [
    "# Calculate an average weight for products weighted in grams\n",
    "SELECT \n",
    "  AVG(\n",
    "    CAST(weight AS real)\n",
    "  ) AS average \n",
    "FROM \n",
    "  products_data_all \n",
    "WHERE \n",
    "  units = 'г';"
   ]
  },
  {
   "cell_type": "code",
   "execution_count": null,
   "metadata": {},
   "outputs": [],
   "source": [
    "# Find the max weight of a product in the category 'milk & cream'\n",
    "SELECT \n",
    "  MAX(\n",
    "    CAST(weight AS real)\n",
    "  ) AS max_weight \n",
    "FROM \n",
    "  products_data_all \n",
    "WHERE \n",
    "  category = 'milk & cream';"
   ]
  },
  {
   "cell_type": "code",
   "execution_count": null,
   "metadata": {},
   "outputs": [],
   "source": []
  },
  {
   "cell_type": "markdown",
   "metadata": {},
   "source": [
    "###### GROUP BY"
   ]
  },
  {
   "cell_type": "code",
   "execution_count": null,
   "metadata": {},
   "outputs": [],
   "source": [
    "# Count number of products and unique products in various stores \n",
    "# (group the result by store names)\n",
    "SELECT \n",
    "  name_store, \n",
    "  COUNT(name) AS name_cnt, \n",
    "  COUNT(DISTINCT name) AS name_uniq_cnt \n",
    "FROM \n",
    "  products_data_all \n",
    "GROUP BY \n",
    "  name_store;"
   ]
  },
  {
   "cell_type": "code",
   "execution_count": null,
   "metadata": {},
   "outputs": [],
   "source": [
    "# Count the max weight of a product for each products' category\n",
    "SELECT \n",
    "  category, \n",
    "  MAX(\n",
    "    CAST(weight AS real)\n",
    "  ) \n",
    "FROM \n",
    "  products_data_all \n",
    "GROUP BY \n",
    "  category;"
   ]
  },
  {
   "cell_type": "code",
   "execution_count": null,
   "metadata": {},
   "outputs": [],
   "source": [
    "# Calculate max, min and average price for products in each store\n",
    "SELECT \n",
    "  name_store, \n",
    "  AVG(price) AS average_price, \n",
    "  MAX(price) AS max_price, \n",
    "  MIN(price) AS min_price \n",
    "FROM \n",
    "  products_data_all \n",
    "GROUP BY \n",
    "  name_store;"
   ]
  },
  {
   "cell_type": "code",
   "execution_count": null,
   "metadata": {},
   "outputs": [],
   "source": [
    "# Find the difference between the max and min price for each product\n",
    "# in the category 'dairy butter' on the 2019-06-10\n",
    "SELECT \n",
    "  name, \n",
    "  MAX(price) - MIN(price) AS max_min_diff \n",
    "FROM \n",
    "  products_data_all \n",
    "WHERE \n",
    "  category = 'dairy butter' \n",
    "  AND CAST(date_upd AS date) = '2019-06-10' \n",
    "GROUP BY \n",
    "  name;"
   ]
  },
  {
   "cell_type": "code",
   "execution_count": null,
   "metadata": {},
   "outputs": [],
   "source": []
  },
  {
   "cell_type": "markdown",
   "metadata": {},
   "source": [
    "###### ORDER BY"
   ]
  },
  {
   "cell_type": "code",
   "execution_count": null,
   "metadata": {},
   "outputs": [],
   "source": [
    "# Find the number of products in each category for the 2019-06-05.\n",
    "# Sort the result in ascending order.\n",
    "SELECT \n",
    "  CAST(date_upd AS date) AS update_date, \n",
    "  category, \n",
    "  COUNT(name) AS name_cnt \n",
    "FROM \n",
    "  products_data_all \n",
    "WHERE \n",
    "  CAST(date_upd AS date) = '2019-06-05' \n",
    "GROUP BY \n",
    "  category, \n",
    "  update_date \n",
    "ORDER BY \n",
    "  name_cnt ASC;"
   ]
  },
  {
   "cell_type": "code",
   "execution_count": null,
   "metadata": {},
   "outputs": [],
   "source": [
    "# Count the number of unique products in each category \n",
    "# in the 'Lentro' store on the '2019-06-30'.\n",
    "# Sort the result in descending order\n",
    "SELECT \n",
    "  CAST(date_upd AS date) AS update_date, \n",
    "  name_store, \n",
    "  category, \n",
    "  COUNT(DISTINCT name) AS uniq_name_cnt \n",
    "FROM \n",
    "  products_data_all \n",
    "WHERE \n",
    "  name_store = 'Lentro' \n",
    "  AND CAST(date_upd AS date) = '2019-06-30' \n",
    "GROUP BY \n",
    "  update_date, \n",
    "  name_store, \n",
    "  category \n",
    "ORDER BY \n",
    "  uniq_name_cnt DESC;"
   ]
  },
  {
   "cell_type": "code",
   "execution_count": null,
   "metadata": {},
   "outputs": [],
   "source": []
  },
  {
   "cell_type": "markdown",
   "metadata": {},
   "source": [
    "###### LIMIT"
   ]
  },
  {
   "cell_type": "code",
   "execution_count": null,
   "metadata": {},
   "outputs": [],
   "source": [
    "# Find the top-5 most expensive products.\n",
    "SELECT \n",
    "  name, \n",
    "  MAX(price) AS max_price \n",
    "FROM \n",
    "  products_data_all \n",
    "GROUP BY \n",
    "  name \n",
    "ORDER BY \n",
    "  max_price DESC \n",
    "LIMIT \n",
    "  5;"
   ]
  },
  {
   "cell_type": "code",
   "execution_count": null,
   "metadata": {},
   "outputs": [],
   "source": []
  },
  {
   "cell_type": "markdown",
   "metadata": {},
   "source": [
    "###### HAVING"
   ]
  },
  {
   "cell_type": "code",
   "execution_count": null,
   "metadata": {},
   "outputs": [],
   "source": [
    "# Find the max price of each product. Show the name and the max price\n",
    "# of the products having the max price > 500.\n",
    "SELECT \n",
    "  name, \n",
    "  MAX(price) AS max_price \n",
    "FROM \n",
    "  products_data_all \n",
    "GROUP BY \n",
    "  name \n",
    "HAVING \n",
    "  MAX(price) > 500;"
   ]
  },
  {
   "cell_type": "code",
   "execution_count": null,
   "metadata": {},
   "outputs": [],
   "source": [
    "# Find the amount of products having weight > 900 g for the '2019-06-03'\n",
    "# Group the result by store name and show only products having the \n",
    "# amount < 10.\n",
    "SELECT \n",
    "  CAST(date_upd AS date) AS update_date, \n",
    "  name_store, \n",
    "  COUNT(name) AS name_cnt \n",
    "FROM \n",
    "  products_data_all \n",
    "WHERE \n",
    "  (\n",
    "    CAST(date_upd AS date) = '2019-06-03' \n",
    "    AND units = 'г'\n",
    "  ) \n",
    "  AND CAST(weight AS real) > 900 \n",
    "GROUP BY \n",
    "  name_store, \n",
    "  CAST(date_upd AS date) \n",
    "HAVING \n",
    "  COUNT(name) < 10;"
   ]
  },
  {
   "cell_type": "code",
   "execution_count": null,
   "metadata": {},
   "outputs": [],
   "source": [
    "# Find the amount of unique products for each store. Reveal three\n",
    "# stores with the least amount of unique goods among stores having more\n",
    "# than 30 uniqe products.\n",
    "SELECT \n",
    "  name_store, \n",
    "  COUNT(DISTINCT name) AS name_uniq_cnt \n",
    "FROM \n",
    "  products_data_all \n",
    "GROUP BY \n",
    "  name_store \n",
    "HAVING \n",
    "  COUNT(DISTINCT name) > 30 \n",
    "ORDER BY \n",
    "  COUNT(DISTINCT name) ASC \n",
    "LIMIT \n",
    "  3;"
   ]
  },
  {
   "cell_type": "code",
   "execution_count": null,
   "metadata": {},
   "outputs": [],
   "source": []
  },
  {
   "cell_type": "markdown",
   "metadata": {},
   "source": [
    "###### EXTRACT"
   ]
  },
  {
   "cell_type": "code",
   "execution_count": null,
   "metadata": {},
   "outputs": [],
   "source": [
    "# Extract hours from the date column (transactions table)\n",
    "SELECT \n",
    "  EXTRACT(\n",
    "    HOUR \n",
    "    FROM \n",
    "      date\n",
    "  ) AS hours \n",
    "FROM \n",
    "  transactions;"
   ]
  },
  {
   "cell_type": "code",
   "execution_count": null,
   "metadata": {},
   "outputs": [],
   "source": [
    "# Extract hours from the date column (transactions table)\n",
    "# Group the data by hours and count the amount of products being sold.\n",
    "# Sort the data by hours in ascending order.\n",
    "SELECT \n",
    "  EXTRACT(\n",
    "    HOUR \n",
    "    FROM \n",
    "      date\n",
    "  ) AS hours, \n",
    "  COUNT(id_product) AS cnt \n",
    "FROM \n",
    "  transactions \n",
    "GROUP BY \n",
    "  hours \n",
    "ORDER BY \n",
    "  hours;"
   ]
  },
  {
   "cell_type": "code",
   "execution_count": null,
   "metadata": {},
   "outputs": [],
   "source": [
    "# Extract day values from the date column (transactions table)\n",
    "# Group the data by days and count the amount of products being sold.\n",
    "# Sort the data by days in ascending order. \n",
    "SELECT \n",
    "  EXTRACT(\n",
    "    DAY \n",
    "    FROM \n",
    "      date\n",
    "  ) AS days, \n",
    "  COUNT(id_product) AS cnt \n",
    "FROM \n",
    "  transactions \n",
    "GROUP BY \n",
    "  days \n",
    "ORDER BY \n",
    "  days ASC;"
   ]
  },
  {
   "cell_type": "code",
   "execution_count": null,
   "metadata": {},
   "outputs": [],
   "source": []
  },
  {
   "cell_type": "markdown",
   "metadata": {},
   "source": [
    "###### DATE_TRUNC"
   ]
  },
  {
   "cell_type": "code",
   "execution_count": null,
   "metadata": {},
   "outputs": [],
   "source": [
    "# Truncate the date to day. Group the data by days and \n",
    "# count the amount of products being sold.\n",
    "# Sort the data by days in ascending order.  \n",
    "SELECT \n",
    "  DATE_TRUNC('day', date) AS date_month, \n",
    "  COUNT(id_product) AS cnt \n",
    "FROM \n",
    "  transactions \n",
    "GROUP BY \n",
    "  date_month \n",
    "ORDER BY \n",
    "  date_month ASC;"
   ]
  },
  {
   "cell_type": "code",
   "execution_count": null,
   "metadata": {},
   "outputs": [],
   "source": []
  },
  {
   "cell_type": "markdown",
   "metadata": {},
   "source": [
    "###### Subqueries"
   ]
  },
  {
   "cell_type": "code",
   "execution_count": null,
   "metadata": {},
   "outputs": [],
   "source": [
    "# Query product ids from the table products_data_all\n",
    "# having category 'milk & cream' and the price > 120\n",
    "# or the category 'dairy butter' and the price > 354\n",
    "SELECT \n",
    "  id_product \n",
    "FROM \n",
    "  products_data_all \n",
    "WHERE \n",
    "  (\n",
    "    category = 'milk & cream' \n",
    "    AND price > 120\n",
    "  ) \n",
    "  OR (\n",
    "    category = 'dairy butter' \n",
    "    AND price > 354\n",
    "  );"
   ]
  },
  {
   "cell_type": "code",
   "execution_count": null,
   "metadata": {},
   "outputs": [],
   "source": [
    "# Find unique user ids who has bought products from the category 'milk & cream' \n",
    "# and having the price > 120 or from the category 'dairy butter' \n",
    "# and having the price > 354\n",
    "SELECT \n",
    "  DISTINCT(user_id) \n",
    "FROM \n",
    "  transactions \n",
    "WHERE \n",
    "  id_product IN (\n",
    "    SELECT \n",
    "      id_product \n",
    "    FROM \n",
    "      products_data_all \n",
    "    WHERE \n",
    "      (\n",
    "        category = 'milk & cream' \n",
    "        AND price > 120\n",
    "      ) \n",
    "      OR (\n",
    "        category = 'dairy butter' \n",
    "        AND price > 354\n",
    "      )\n",
    "  );"
   ]
  },
  {
   "cell_type": "code",
   "execution_count": null,
   "metadata": {},
   "outputs": [],
   "source": [
    "# Truncate the date to day and count unique transactions\n",
    "SELECT \n",
    "  COUNT(DISTINCT id_transaction) AS transaction_per_day, \n",
    "  DATE_TRUNC('day', date) AS trunc_date \n",
    "FROM \n",
    "  transactions \n",
    "GROUP BY \n",
    "  trunc_date;"
   ]
  },
  {
   "cell_type": "code",
   "execution_count": null,
   "metadata": {},
   "outputs": [],
   "source": [
    "# Use the previous query as a subquery to extract week numbers\n",
    "# and calculate an average number of transactions per day.\n",
    "# Group the result by week numbers.\n",
    "SELECT \n",
    "  EXTRACT(\n",
    "    WEEK \n",
    "    FROM \n",
    "      SUBQ.trunc_date\n",
    "  ) AS week_number, \n",
    "  AVG(SUBQ.transaction_per_day) AS avg_week_transaction \n",
    "FROM \n",
    "  (\n",
    "    SELECT \n",
    "      COUNT(DISTINCT id_transaction) AS transaction_per_day, \n",
    "      DATE_TRUNC('day', date) AS trunc_date \n",
    "    FROM \n",
    "      transactions \n",
    "    GROUP BY \n",
    "      trunc_date\n",
    "  ) AS SUBQ \n",
    "GROUP BY \n",
    "  week_number;"
   ]
  },
  {
   "cell_type": "code",
   "execution_count": null,
   "metadata": {},
   "outputs": [],
   "source": []
  },
  {
   "cell_type": "markdown",
   "metadata": {},
   "source": [
    "###### CASE WHEN ... THEN ... ELSE ... END"
   ]
  },
  {
   "cell_type": "code",
   "execution_count": null,
   "metadata": {},
   "outputs": [],
   "source": [
    "# Check for NULL values in the column weight table products.\n",
    "SELECT \n",
    "  id_product, \n",
    "  units, \n",
    "  weight \n",
    "FROM \n",
    "  products \n",
    "WHERE \n",
    "  weight IS NULL"
   ]
  },
  {
   "cell_type": "code",
   "execution_count": null,
   "metadata": {},
   "outputs": [],
   "source": [
    "# Find the number of NULL values in the column weight table products.\n",
    "SELECT \n",
    "  COUNT(*) \n",
    "FROM \n",
    "  products \n",
    "WHERE \n",
    "  weight IS NULL"
   ]
  },
  {
   "cell_type": "code",
   "execution_count": null,
   "metadata": {},
   "outputs": [],
   "source": [
    "# Find an average weigth of products grouped by units of measurements (column units)\n",
    "SELECT \n",
    "  AVG(\n",
    "    CAST(weight AS real)\n",
    "  ) AS avg_weight, \n",
    "  units \n",
    "FROM \n",
    "  products \n",
    "GROUP BY \n",
    "  units"
   ]
  },
  {
   "cell_type": "code",
   "execution_count": null,
   "metadata": {},
   "outputs": [],
   "source": [
    "# Substitute NULL values with average values calculted on the previous step.\n",
    "SELECT \n",
    "  name, \n",
    "  CASE WHEN units = '%' \n",
    "  AND weight IS NULL THEN '72' WHEN units = 'kg' \n",
    "  AND weight IS NULL THEN '1' WHEN units = 'l' \n",
    "  AND weight IS NULL THEN '1' WHEN units = 'ml' \n",
    "  AND weight IS NULL THEN '805' WHEN units = 'g' \n",
    "  AND weight IS NULL THEN '402' ELSE weight END AS weight_info \n",
    "FROM \n",
    "  products"
   ]
  },
  {
   "cell_type": "code",
   "execution_count": null,
   "metadata": {},
   "outputs": [],
   "source": []
  },
  {
   "cell_type": "markdown",
   "metadata": {},
   "source": [
    "###### LIKE"
   ]
  },
  {
   "cell_type": "code",
   "execution_count": null,
   "metadata": {},
   "outputs": [],
   "source": [
    "# Find a row with '%' in units column\n",
    "SELECT \n",
    "  * \n",
    "FROM \n",
    "  products \n",
    "WHERE \n",
    "  units LIKE '!%' ESCAPE '!';"
   ]
  },
  {
   "cell_type": "code",
   "execution_count": null,
   "metadata": {},
   "outputs": [],
   "source": [
    "# Find products names having 'My' and 'My-My' in their names.\n",
    "SELECT \n",
    "  * \n",
    "FROM \n",
    "  products \n",
    "WHERE \n",
    "  name LIKE '%Му%';"
   ]
  },
  {
   "cell_type": "code",
   "execution_count": null,
   "metadata": {},
   "outputs": [],
   "source": [
    "# Calculate an average price of the products in category 'milk & cream' \n",
    "# sold on the 2019-06-01 and having 'My' and 'My-My' in their names.\n",
    "SELECT \n",
    "  AVG(price) AS avg_price \n",
    "FROM \n",
    "  products_stores \n",
    "WHERE \n",
    "  date_upd = '2019-06-01' \n",
    "  AND id_product IN (\n",
    "    SELECT \n",
    "      id_product \n",
    "    FROM \n",
    "      products \n",
    "    WHERE \n",
    "      name LIKE '%Му%' \n",
    "      AND category = 'milk & cream'\n",
    "  );"
   ]
  },
  {
   "cell_type": "code",
   "execution_count": null,
   "metadata": {},
   "outputs": [],
   "source": []
  },
  {
   "cell_type": "markdown",
   "metadata": {},
   "source": [
    "###### JOINS"
   ]
  },
  {
   "cell_type": "code",
   "execution_count": null,
   "metadata": {},
   "outputs": [],
   "source": [
    "# Inner join two tables on id_product field. Order the result by id_transaction (ascending)\n",
    "# and limit the output to 10 items.\n",
    "SELECT \n",
    "  id_transaction, \n",
    "  category, \n",
    "  name \n",
    "FROM \n",
    "  transactions \n",
    "  INNER JOIN products ON products.id_product = transactions.id_product \n",
    "ORDER BY \n",
    "  id_transaction ASC \n",
    "LIMIT \n",
    "  10"
   ]
  },
  {
   "cell_type": "code",
   "execution_count": null,
   "metadata": {},
   "outputs": [],
   "source": [
    "# Show temperature and rain values from the weather table for transactions stored \n",
    "# in the transactions column. Sort the result by the date of transaction \n",
    "# in descending order.\n",
    "SELECT \n",
    "  DISTINCT transactions.date AS date, \n",
    "  weather.temp AS temp, \n",
    "  weather.rain AS rain, \n",
    "  transactions.id_transaction \n",
    "FROM \n",
    "  transactions \n",
    "  INNER JOIN weather ON CAST(weather.date AS date) = CAST(transactions.date AS date) \n",
    "ORDER BY \n",
    "  date DESC;"
   ]
  },
  {
   "cell_type": "code",
   "execution_count": null,
   "metadata": {},
   "outputs": [],
   "source": [
    "# Select unique products having price > 300 \n",
    "SELECT \n",
    "  DISTINCT products.name AS name \n",
    "FROM \n",
    "  products \n",
    "  INNER JOIN products_stores ON products_stores.id_product = products.id_product \n",
    "WHERE \n",
    "  products_stores.price > 300;"
   ]
  },
  {
   "cell_type": "code",
   "execution_count": null,
   "metadata": {},
   "outputs": [],
   "source": [
    "# Select transactions in category 'dairy butter' made on the 2019-06-20. \n",
    "SELECT \n",
    "  transactions.date AS date, \n",
    "  transactions.id_transaction AS id_transaction, \n",
    "  products.category AS category, \n",
    "  products.name AS name \n",
    "FROM \n",
    "  transactions \n",
    "  INNER JOIN products ON products.id_product = transactions.id_product \n",
    "WHERE \n",
    "  products.category = 'dairy butter' \n",
    "  AND CAST(transactions.date AS date) = '2019-06-20'"
   ]
  },
  {
   "cell_type": "code",
   "execution_count": null,
   "metadata": {},
   "outputs": [],
   "source": [
    "# Find the price of products sold on 2019-06-13 having unit of measurments 'ml'\n",
    "SELECT \n",
    "  products.name AS name, \n",
    "  products.category AS category, \n",
    "  products.units AS units, \n",
    "  products.weight AS weight, \n",
    "  products_stores.price AS price \n",
    "FROM \n",
    "  products \n",
    "  INNER JOIN products_stores ON products_stores.id_product = products.id_product \n",
    "WHERE \n",
    "  products.units = 'мл' \n",
    "  AND CAST(products_stores.date_upd AS date) = '2019-06-13'"
   ]
  },
  {
   "cell_type": "code",
   "execution_count": null,
   "metadata": {},
   "outputs": [],
   "source": [
    "# Select unique id_products and name from the products table and id_store from\n",
    "# the products_store table using left join.\n",
    "SELECT \n",
    "  DISTINCT products.id_product AS id_product, \n",
    "  products.name AS name, \n",
    "  products_stores.id_store AS id_store \n",
    "FROM \n",
    "  products \n",
    "  LEFT JOIN products_stores ON products_stores.id_product = products.id_product"
   ]
  },
  {
   "cell_type": "code",
   "execution_count": null,
   "metadata": {},
   "outputs": [],
   "source": [
    "# Show unique products names that haven't been sold in the store that has \n",
    "# id_store equal to 3. Use left join to solve the task.\n",
    "SELECT \n",
    "  DISTINCT products.name AS name \n",
    "FROM \n",
    "  products \n",
    "  LEFT JOIN (\n",
    "    SELECT \n",
    "      DISTINCT id_product \n",
    "    FROM \n",
    "      transactions \n",
    "    WHERE \n",
    "      id_store = '3'\n",
    "  ) AS subquery ON subquery.id_product = products.id_product \n",
    "WHERE \n",
    "  subquery.id_product IS NULL"
   ]
  },
  {
   "cell_type": "code",
   "execution_count": null,
   "metadata": {},
   "outputs": [],
   "source": [
    "# Show unique products names that haven't been sold in none of the stores\n",
    "# on 2019-06-11\n",
    "SELECT \n",
    "  DISTINCT products.name AS name \n",
    "FROM \n",
    "  products \n",
    "  LEFT JOIN (\n",
    "    SELECT \n",
    "      DISTINCT id_product, \n",
    "      id_store \n",
    "    FROM \n",
    "      transactions \n",
    "    WHERE \n",
    "      CAST(transactions.date AS date) = '2019-06-11'\n",
    "  ) AS subquery ON subquery.id_product = products.id_product \n",
    "WHERE \n",
    "  subquery.id_product IS NULL"
   ]
  },
  {
   "cell_type": "code",
   "execution_count": null,
   "metadata": {},
   "outputs": [],
   "source": [
    "# Retrieve dates when we have weather data but do not have any transactions data. Use\n",
    "# right join.\n",
    "SELECT \n",
    "  CAST(weather.date AS date) AS date \n",
    "FROM \n",
    "  transactions \n",
    "  RIGHT JOIN weather ON CAST(weather.date AS date) = CAST(transactions.date AS date) \n",
    "WHERE \n",
    "  transactions.date IS NULL"
   ]
  },
  {
   "cell_type": "code",
   "execution_count": null,
   "metadata": {},
   "outputs": [],
   "source": [
    "# Show unique products names that haven't been sold in the store that has \n",
    "# id_store equal to 3. Use right join to solve the task.\n",
    "SELECT \n",
    "  DISTINCT products.name AS name \n",
    "FROM \n",
    "  (\n",
    "    SELECT \n",
    "      DISTINCT id_product \n",
    "    FROM \n",
    "      transactions \n",
    "    WHERE \n",
    "      id_store = '3'\n",
    "  ) AS subquery \n",
    "  RIGHT JOIN products ON products.id_product = subquery.id_product \n",
    "WHERE \n",
    "  subquery.id_product IS NULL"
   ]
  },
  {
   "cell_type": "code",
   "execution_count": null,
   "metadata": {},
   "outputs": [],
   "source": [
    "# Retrieve id_transaction, name_store, category and products' name for all\n",
    "# the transactions made on the 2019-06-05\n",
    "SELECT \n",
    "  transactions.id_transaction AS id_transaction, \n",
    "  stores.name_store AS name_store, \n",
    "  products.category AS category, \n",
    "  products.name AS name \n",
    "FROM \n",
    "  transactions \n",
    "  INNER JOIN products ON products.id_product = transactions.id_product \n",
    "  INNER JOIN stores ON stores.id_store = transactions.id_store \n",
    "WHERE \n",
    "  CAST(transactions.date AS date) = '2019-06-05'"
   ]
  },
  {
   "cell_type": "code",
   "execution_count": null,
   "metadata": {},
   "outputs": [],
   "source": [
    "# Find the info about the weather and sold products.\n",
    "# Sort the output by date (descending) and name (ascending) \n",
    "# and limit the outup to 30 rows.\n",
    "SELECT \n",
    "  CAST(weather.date AS date) AS date, \n",
    "  weather.temp AS temp, \n",
    "  weather.rain AS rain, \n",
    "  products.name AS name \n",
    "FROM \n",
    "  weather \n",
    "  LEFT JOIN transactions ON CAST(transactions.date AS date) = CAST(weather.date AS date) \n",
    "  LEFT JOIN products ON transactions.id_product = products.id_product \n",
    "ORDER BY \n",
    "  date DESC, \n",
    "  name ASC \n",
    "LIMIT \n",
    "  30"
   ]
  },
  {
   "cell_type": "code",
   "execution_count": null,
   "metadata": {},
   "outputs": [],
   "source": [
    "# Show id_transaction and products' name for items sold on days when there were no rain.\n",
    "SELECT \n",
    "  transactions.id_transaction AS id_transaction, \n",
    "  products.name AS name \n",
    "FROM \n",
    "  transactions \n",
    "  INNER JOIN products ON products.id_product = transactions.id_product \n",
    "  INNER JOIN weather ON CAST(weather.date AS date) = CAST(transactions.date AS date) \n",
    "WHERE \n",
    "  weather.rain = '0'"
   ]
  },
  {
   "cell_type": "code",
   "execution_count": null,
   "metadata": {},
   "outputs": [],
   "source": [
    "# Count the number of products an the number of unique products for each transaction.\n",
    "# Limit the output to 10 rows.\n",
    "SELECT \n",
    "  transactions.id_transaction AS id_transaction, \n",
    "  COUNT(products.name) AS name_cnt, \n",
    "  COUNT(DISTINCT products.name) AS name_uniq_cnt \n",
    "FROM \n",
    "  transactions \n",
    "  INNER JOIN products ON transactions.id_product = products.id_product \n",
    "GROUP BY \n",
    "  transactions.id_transaction \n",
    "LIMIT \n",
    "  10"
   ]
  },
  {
   "cell_type": "code",
   "execution_count": null,
   "metadata": {},
   "outputs": [],
   "source": [
    "# Find transactions having non-unique products sold.\n",
    "SELECT \n",
    "  transactions.id_transaction AS id_transaction, \n",
    "  COUNT(products.name) AS name_cnt, \n",
    "  COUNT(DISTINCT products.name) AS name_uniq_cnt \n",
    "FROM \n",
    "  transactions \n",
    "  INNER JOIN products ON products.id_product = transactions.id_product \n",
    "GROUP BY \n",
    "  id_transaction \n",
    "HAVING \n",
    "  COUNT(products.name) != COUNT(DISTINCT products.name)"
   ]
  },
  {
   "cell_type": "code",
   "execution_count": null,
   "metadata": {},
   "outputs": [],
   "source": [
    "# Count the number of transaction made on sunny and on rainy days.\n",
    "# Group the output by the column rain (weather table).\n",
    "SELECT \n",
    "  weather.rain AS rain, \n",
    "  COUNT(\n",
    "    DISTINCT transactions.id_transaction\n",
    "  ) AS id_transaction \n",
    "FROM \n",
    "  transactions \n",
    "  INNER JOIN weather ON CAST(weather.date AS date) = CAST(transactions.date AS date) \n",
    "GROUP BY \n",
    "  weather.rain"
   ]
  },
  {
   "cell_type": "code",
   "execution_count": null,
   "metadata": {},
   "outputs": [],
   "source": [
    "# Retrieve the temperature and the number of transactions.\n",
    "# Group the output by date and temperature.\n",
    "# Sort the values by date in the ascending order.\n",
    "SELECT \n",
    "  CAST(weather.date AS date) AS date, \n",
    "  weather.temp AS temp, \n",
    "  COUNT(\n",
    "    DISTINCT transactions.id_transaction\n",
    "  ) AS uniq_transactions \n",
    "FROM \n",
    "  weather \n",
    "  LEFT JOIN transactions ON CAST(transactions.date AS date) = CAST(weather.date AS date) \n",
    "GROUP BY \n",
    "  CAST(weather.date AS date), \n",
    "  weather.temp \n",
    "ORDER BY \n",
    "  CAST(weather.date AS date) ASC"
   ]
  },
  {
   "cell_type": "code",
   "execution_count": null,
   "metadata": {},
   "outputs": [],
   "source": [
    "# Calculate the number of items and the total price for every transaction.\n",
    "# Reveal only transactions having the total price > 1000.\n",
    "SELECT \n",
    "  transactions.id_transaction AS id_transaction, \n",
    "  SUM(products_stores.price) AS total, \n",
    "  COUNT(products_stores.id_product) AS amount \n",
    "FROM \n",
    "  transactions \n",
    "  LEFT JOIN products_stores ON CAST(products_stores.date_upd AS date) = CAST(transactions.date AS date) \n",
    "  AND products_stores.id_product = transactions.id_product \n",
    "  AND products_stores.id_store = transactions.id_store \n",
    "GROUP BY \n",
    "  transactions.id_transaction \n",
    "HAVING \n",
    "  SUM(products_stores.price) > 1000"
   ]
  },
  {
   "cell_type": "code",
   "execution_count": null,
   "metadata": {},
   "outputs": [],
   "source": []
  },
  {
   "cell_type": "markdown",
   "metadata": {},
   "source": [
    "###### UNION"
   ]
  },
  {
   "cell_type": "code",
   "execution_count": null,
   "metadata": {},
   "outputs": [],
   "source": [
    "# SELECT unique products' name for transactions made on 2019-06-01.\n",
    "SELECT \n",
    "  DISTINCT products.name AS name \n",
    "FROM \n",
    "  products \n",
    "  LEFT JOIN (\n",
    "    SELECT \n",
    "      transactions.id_product \n",
    "    FROM \n",
    "      transactions \n",
    "    WHERE \n",
    "      CAST(transactions.date AS date) = '2019-06-01'\n",
    "  ) AS subq ON products.id_product = subq.id_product \n",
    "WHERE \n",
    "  subq.id_product IS NOT NULL;"
   ]
  },
  {
   "cell_type": "code",
   "execution_count": null,
   "metadata": {},
   "outputs": [],
   "source": [
    "# SELECT unique products' name for transactions made on 2019-06-08.\n",
    "SELECT \n",
    "  DISTINCT products.name AS name \n",
    "FROM \n",
    "  products \n",
    "  LEFT JOIN (\n",
    "    SELECT \n",
    "      transactions.id_product \n",
    "    FROM \n",
    "      transactions \n",
    "    WHERE \n",
    "      CAST(transactions.date AS date) = '2019-06-08'\n",
    "  ) AS subq ON products.id_product = subq.id_product \n",
    "WHERE \n",
    "  subq.id_product IS NOT NULL;"
   ]
  },
  {
   "cell_type": "code",
   "execution_count": null,
   "metadata": {},
   "outputs": [],
   "source": [
    "# Merge two queries (from the previous steps) together.\n",
    "# Remove duplicates.\n",
    "SELECT \n",
    "  DISTINCT products.name AS name \n",
    "FROM \n",
    "  products \n",
    "  LEFT JOIN (\n",
    "    SELECT \n",
    "      id_product \n",
    "    FROM \n",
    "      transactions \n",
    "    WHERE \n",
    "      CAST(transactions.date AS date) = '2019-06-01'\n",
    "  ) AS SUBQ1 ON products.id_product = SUBQ1.id_product \n",
    "WHERE \n",
    "  SUBQ1.id_product IS NOT NULL \n",
    "UNION \n",
    "SELECT \n",
    "  DISTINCT products.name AS name \n",
    "FROM \n",
    "  products \n",
    "  LEFT JOIN (\n",
    "    SELECT \n",
    "      id_product \n",
    "    FROM \n",
    "      transactions \n",
    "    WHERE \n",
    "      CAST(transactions.date AS date) = '2019-06-08'\n",
    "  ) AS SUBQ2 ON products.id_product = SUBQ2.id_product \n",
    "WHERE \n",
    "  SUBQ2.id_product IS NOT NULL;"
   ]
  },
  {
   "cell_type": "code",
   "execution_count": null,
   "metadata": {},
   "outputs": [],
   "source": [
    "# Count the number of products using the previous query as a sub-query.\n",
    "SELECT \n",
    "  COUNT(SUBQ.name) \n",
    "FROM \n",
    "  (\n",
    "    SELECT \n",
    "      DISTINCT products.name AS name \n",
    "    FROM \n",
    "      products \n",
    "      LEFT JOIN (\n",
    "        SELECT \n",
    "          id_product \n",
    "        FROM \n",
    "          transactions \n",
    "        WHERE \n",
    "          CAST(transactions.date AS date) = '2019-06-01'\n",
    "      ) AS SUBQ1 ON products.id_product = SUBQ1.id_product \n",
    "    WHERE \n",
    "      SUBQ1.id_product IS NOT NULL \n",
    "    UNION \n",
    "    SELECT \n",
    "      DISTINCT products.name AS name \n",
    "    FROM \n",
    "      products \n",
    "      LEFT JOIN (\n",
    "        SELECT \n",
    "          id_product \n",
    "        FROM \n",
    "          transactions \n",
    "        WHERE \n",
    "          CAST(transactions.date AS date) = '2019-06-08'\n",
    "      ) AS SUBQ2 ON products.id_product = SUBQ2.id_product \n",
    "    WHERE \n",
    "      SUBQ2.id_product IS NOT NULL\n",
    "  ) AS SUBQ"
   ]
  },
  {
   "cell_type": "code",
   "execution_count": null,
   "metadata": {},
   "outputs": [],
   "source": [
    "# Merge two queries (from the previous steps) together without removing duplicates.\n",
    "# Count the number of products using the merged queries as a sub-query.\n",
    "SELECT \n",
    "  COUNT(SUBQ.name) \n",
    "FROM \n",
    "  (\n",
    "    SELECT \n",
    "      DISTINCT products.name AS name \n",
    "    FROM \n",
    "      products \n",
    "      LEFT JOIN (\n",
    "        SELECT \n",
    "          id_product \n",
    "        FROM \n",
    "          transactions \n",
    "        WHERE \n",
    "          CAST(transactions.date AS date) = '2019-06-01'\n",
    "      ) AS SUBQ1 ON products.id_product = SUBQ1.id_product \n",
    "    WHERE \n",
    "      SUBQ1.id_product IS NOT NULL \n",
    "    UNION ALL \n",
    "    SELECT \n",
    "      DISTINCT products.name AS name \n",
    "    FROM \n",
    "      products \n",
    "      LEFT JOIN (\n",
    "        SELECT \n",
    "          id_product \n",
    "        FROM \n",
    "          transactions \n",
    "        WHERE \n",
    "          CAST(transactions.date AS date) = '2019-06-08'\n",
    "      ) AS SUBQ2 ON products.id_product = SUBQ2.id_product \n",
    "    WHERE \n",
    "      SUBQ2.id_product IS NOT NULL\n",
    "  ) AS SUBQ;"
   ]
  }
 ],
 "metadata": {
  "kernelspec": {
   "display_name": "Python 3",
   "language": "python",
   "name": "python3"
  },
  "language_info": {
   "codemirror_mode": {
    "name": "ipython",
    "version": 3
   },
   "file_extension": ".py",
   "mimetype": "text/x-python",
   "name": "python",
   "nbconvert_exporter": "python",
   "pygments_lexer": "ipython3",
   "version": "3.7.6"
  }
 },
 "nbformat": 4,
 "nbformat_minor": 4
}
