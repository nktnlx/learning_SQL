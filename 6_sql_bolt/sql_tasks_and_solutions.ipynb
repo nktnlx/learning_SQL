{
 "cells": [
  {
   "cell_type": "markdown",
   "metadata": {},
   "source": [
    "# SQL Bolt  "
   ]
  },
  {
   "cell_type": "markdown",
   "metadata": {},
   "source": [
    "## Interactive Tutorial"
   ]
  },
  {
   "cell_type": "markdown",
   "metadata": {},
   "source": [
    "[https://sqlbolt.com/](https://sqlbolt.com/)"
   ]
  },
  {
   "cell_type": "markdown",
   "metadata": {},
   "source": [
    "### Table of Contents  \n",
    "[1. SELECT queries](#SQL-Lesson-1:-SELECT-queries)  \n",
    "[2. Queries with constraints (Pt. 1)](#SQL-Lesson-2:-Queries-with-constraints-(Pt.-1))  \n",
    "[3. Queries with constraints (Pt. 2)](#SQL-Lesson-3:-Queries-with-constraints-(Pt.-2))  \n",
    "[4. Filtering and sorting Query results](#SQL-Lesson-4:-Filtering-and-sorting-Query-results)  \n",
    "[5. Simple SELECT Queries Review](#SQL-Lesson-5:-Simple-SELECT-Queries-Review)  \n",
    "[6. Multi-table queries with JOINs](#SQL-Lesson-6:-Multi-table-queries-with-JOINs)  \n",
    "[7. OUTER JOINs](#SQL-Lesson-7:-OUTER-JOINs)  \n",
    "[8. A short note on NULLs](#SQL-Lesson-8:-A-short-note-on-NULLs)  \n",
    "[9. Queries with expressions](#SQL-Lesson-9:-Queries-with-expressions)  \n",
    "[10. Queries with aggregates (Pt. 1)](#SQL-Lesson-10:-Queries-with-aggregates-(Pt.-1))  \n",
    "[11. Queries with aggregates (Pt. 2)](#SQL-Lesson-11:-Queries-with-aggregates-(Pt.-2))  \n",
    "[12. Order of execution of a Query](#SQL-Lesson-12:-Order-of-execution-of-a-Query)  \n",
    "[13. Inserting rows](#SQL-Lesson-13:-Inserting-rows)  \n",
    "[14. Updating rows](#SQL-Lesson-14:-Updating-rows)  \n",
    "[15. Deleting rows](#SQL-Lesson-15:-Deleting-rows)  \n",
    "[16. Creating tables](#SQL-Lesson-16:-Creating-tables)  \n",
    "[17. Altering tables](#SQL-Lesson-17:-Altering-tables)  \n",
    "[18. Dropping tables](#SQL-Lesson-18:-Dropping-tables)  \n",
    "[19. Subqueries](#SQL-Lesson-19:-Subqueries)  \n",
    "[20. Unions, Intersections & Exceptions](#SQL-Extra:-Unions,-Intersections-&-Exceptions)  "
   ]
  },
  {
   "cell_type": "markdown",
   "metadata": {},
   "source": [
    "### SQL Lesson 1: SELECT queries"
   ]
  },
  {
   "cell_type": "markdown",
   "metadata": {},
   "source": [
    "#### Task 1"
   ]
  },
  {
   "cell_type": "markdown",
   "metadata": {},
   "source": [
    "Find the title of each film"
   ]
  },
  {
   "cell_type": "markdown",
   "metadata": {},
   "source": [
    "`SELECT title \n",
    "FROM movies;`"
   ]
  },
  {
   "cell_type": "markdown",
   "metadata": {},
   "source": [
    "#### Task 2"
   ]
  },
  {
   "cell_type": "markdown",
   "metadata": {},
   "source": [
    "Find the director of each film "
   ]
  },
  {
   "cell_type": "markdown",
   "metadata": {},
   "source": [
    "`SELECT director \n",
    "FROM movies;`"
   ]
  },
  {
   "cell_type": "markdown",
   "metadata": {},
   "source": [
    "#### Task 3"
   ]
  },
  {
   "cell_type": "markdown",
   "metadata": {},
   "source": [
    "Find the title and director of each film"
   ]
  },
  {
   "cell_type": "markdown",
   "metadata": {},
   "source": [
    "`SELECT \n",
    "    title,\n",
    "    director \n",
    "FROM movies;`"
   ]
  },
  {
   "cell_type": "markdown",
   "metadata": {},
   "source": [
    "#### Task 4"
   ]
  },
  {
   "cell_type": "markdown",
   "metadata": {},
   "source": [
    "Find the title and year of each film "
   ]
  },
  {
   "cell_type": "markdown",
   "metadata": {},
   "source": [
    "`SELECT \n",
    "    title,\n",
    "    year \n",
    "FROM movies;`"
   ]
  },
  {
   "cell_type": "markdown",
   "metadata": {},
   "source": [
    "#### Task 5"
   ]
  },
  {
   "cell_type": "markdown",
   "metadata": {},
   "source": [
    "Find all the information about each film"
   ]
  },
  {
   "cell_type": "markdown",
   "metadata": {},
   "source": [
    "`SELECT * \n",
    "FROM movies;`"
   ]
  },
  {
   "cell_type": "markdown",
   "metadata": {},
   "source": [
    "### SQL Lesson 2: Queries with constraints (Pt. 1) "
   ]
  },
  {
   "cell_type": "markdown",
   "metadata": {},
   "source": [
    "#### Task 1"
   ]
  },
  {
   "cell_type": "markdown",
   "metadata": {},
   "source": [
    "Find the movie with a row id of 6 "
   ]
  },
  {
   "cell_type": "markdown",
   "metadata": {},
   "source": [
    "`\n",
    "SELECT *\n",
    "FROM \n",
    "    movies\n",
    "WHERE \n",
    "    id = 6;\n",
    "`"
   ]
  },
  {
   "cell_type": "markdown",
   "metadata": {},
   "source": [
    "#### Task 2"
   ]
  },
  {
   "cell_type": "markdown",
   "metadata": {},
   "source": [
    "Find the movies released in the years between 2000 and 2010 "
   ]
  },
  {
   "cell_type": "markdown",
   "metadata": {},
   "source": [
    "`SELECT * \n",
    "FROM \n",
    "    movies\n",
    "WHERE \n",
    "    year BETWEEN 2000 and 2010;`"
   ]
  },
  {
   "cell_type": "markdown",
   "metadata": {},
   "source": [
    "#### Task 3"
   ]
  },
  {
   "cell_type": "markdown",
   "metadata": {},
   "source": [
    "Find the movies not released in the years between 2000 and 2010 "
   ]
  },
  {
   "cell_type": "markdown",
   "metadata": {},
   "source": [
    "`SELECT * \n",
    "FROM \n",
    "    movies\n",
    "WHERE \n",
    "    year NOT BETWEEN 2000 and 2010;`"
   ]
  },
  {
   "cell_type": "markdown",
   "metadata": {},
   "source": [
    "#### Task 4"
   ]
  },
  {
   "cell_type": "markdown",
   "metadata": {},
   "source": [
    "Find the first 5 Pixar movies and their release year"
   ]
  },
  {
   "cell_type": "markdown",
   "metadata": {},
   "source": [
    "`SELECT \n",
    "    title,\n",
    "    year\n",
    "FROM \n",
    "    movies\n",
    "WHERE \n",
    "    year < 2004;`"
   ]
  },
  {
   "cell_type": "markdown",
   "metadata": {},
   "source": [
    "### SQL Lesson 3: Queries with constraints (Pt. 2) "
   ]
  },
  {
   "cell_type": "markdown",
   "metadata": {},
   "source": [
    "#### Task 1"
   ]
  },
  {
   "cell_type": "markdown",
   "metadata": {},
   "source": [
    " Find all the Toy Story movies"
   ]
  },
  {
   "cell_type": "markdown",
   "metadata": {},
   "source": [
    "`\n",
    "SELECT * \n",
    "FROM \n",
    "    movies\n",
    "WHERE\n",
    "    title LIKE 'Toy Story%';\n",
    "`"
   ]
  },
  {
   "cell_type": "markdown",
   "metadata": {},
   "source": [
    "#### Task 2"
   ]
  },
  {
   "cell_type": "markdown",
   "metadata": {},
   "source": [
    "Find all the movies directed by John Lasseter "
   ]
  },
  {
   "cell_type": "markdown",
   "metadata": {},
   "source": [
    "`SELECT * \n",
    "FROM \n",
    "    movies\n",
    "WHERE\n",
    "    director = 'John Lasseter';`"
   ]
  },
  {
   "cell_type": "markdown",
   "metadata": {},
   "source": [
    "#### Task 3"
   ]
  },
  {
   "cell_type": "markdown",
   "metadata": {},
   "source": [
    "Find all the movies (and director) not directed by John Lasseter "
   ]
  },
  {
   "cell_type": "markdown",
   "metadata": {},
   "source": [
    "`SELECT\n",
    "    title,\n",
    "    director\n",
    "FROM \n",
    "    movies\n",
    "WHERE\n",
    "    director != 'John Lasseter';`"
   ]
  },
  {
   "cell_type": "markdown",
   "metadata": {},
   "source": [
    "#### Task 4"
   ]
  },
  {
   "cell_type": "markdown",
   "metadata": {},
   "source": [
    "Find all the WALL-* movies "
   ]
  },
  {
   "cell_type": "markdown",
   "metadata": {},
   "source": [
    "`SELECT *\n",
    "FROM \n",
    "    movies\n",
    "WHERE\n",
    "    title LIKE 'WALL-_';`"
   ]
  },
  {
   "cell_type": "markdown",
   "metadata": {},
   "source": [
    "### SQL Lesson 4: Filtering and sorting Query results "
   ]
  },
  {
   "cell_type": "markdown",
   "metadata": {},
   "source": [
    "#### Task 1"
   ]
  },
  {
   "cell_type": "markdown",
   "metadata": {},
   "source": [
    "List all directors of Pixar movies (alphabetically), without duplicates"
   ]
  },
  {
   "cell_type": "markdown",
   "metadata": {},
   "source": [
    "`\n",
    "SELECT\n",
    "    DISTINCT(director)\n",
    "FROM \n",
    "    movies\n",
    "ORDER BY director ASC;\n",
    "`"
   ]
  },
  {
   "cell_type": "markdown",
   "metadata": {},
   "source": [
    "#### Task 2"
   ]
  },
  {
   "cell_type": "markdown",
   "metadata": {},
   "source": [
    "List the last four Pixar movies released (ordered from most recent to least)"
   ]
  },
  {
   "cell_type": "markdown",
   "metadata": {},
   "source": [
    "`SELECT *\n",
    "FROM \n",
    "    movies\n",
    "ORDER BY year DESC\n",
    "LIMIT 4;`"
   ]
  },
  {
   "cell_type": "markdown",
   "metadata": {},
   "source": [
    "#### Task 3"
   ]
  },
  {
   "cell_type": "markdown",
   "metadata": {},
   "source": [
    "List the first five Pixar movies sorted alphabetically "
   ]
  },
  {
   "cell_type": "markdown",
   "metadata": {},
   "source": [
    "`SELECT *\n",
    "FROM \n",
    "    movies\n",
    "ORDER BY title ASC\n",
    "LIMIT 5;`"
   ]
  },
  {
   "cell_type": "markdown",
   "metadata": {},
   "source": [
    "#### Task 4"
   ]
  },
  {
   "cell_type": "markdown",
   "metadata": {},
   "source": [
    "List the next five Pixar movies sorted alphabetically "
   ]
  },
  {
   "cell_type": "markdown",
   "metadata": {},
   "source": [
    "`SELECT *\n",
    "FROM \n",
    "    movies\n",
    "ORDER BY title ASC\n",
    "LIMIT 5 OFFSET 5;`"
   ]
  },
  {
   "cell_type": "markdown",
   "metadata": {},
   "source": [
    "### SQL Lesson 5: Simple SELECT Queries Review"
   ]
  },
  {
   "cell_type": "markdown",
   "metadata": {},
   "source": [
    "#### Task 1"
   ]
  },
  {
   "cell_type": "markdown",
   "metadata": {},
   "source": [
    "List all the Canadian cities and their populations "
   ]
  },
  {
   "cell_type": "markdown",
   "metadata": {},
   "source": [
    "`SELECT\n",
    "    city, \n",
    "    country, \n",
    "    population\n",
    "FROM \n",
    "    north_american_cities\n",
    "WHERE\n",
    "    country = 'Canada';`"
   ]
  },
  {
   "cell_type": "markdown",
   "metadata": {},
   "source": [
    "#### Task 2"
   ]
  },
  {
   "cell_type": "markdown",
   "metadata": {},
   "source": [
    "Order all the cities in the United States by their latitude from north to south"
   ]
  },
  {
   "cell_type": "markdown",
   "metadata": {},
   "source": [
    "`SELECT\n",
    "    city, \n",
    "    country, \n",
    "    latitude\n",
    "FROM \n",
    "    north_american_cities\n",
    "WHERE\n",
    "    country = 'United States'\n",
    "ORDER BY\n",
    "    latitude DESC;`"
   ]
  },
  {
   "cell_type": "markdown",
   "metadata": {},
   "source": [
    "#### Task 3"
   ]
  },
  {
   "cell_type": "markdown",
   "metadata": {},
   "source": [
    "List all the cities west of Chicago, ordered from west to east "
   ]
  },
  {
   "cell_type": "markdown",
   "metadata": {},
   "source": [
    "`SELECT\n",
    "    city, \n",
    "    country, \n",
    "    longitude\n",
    "FROM \n",
    "    north_american_cities\n",
    "WHERE\n",
    "    longitude < -87.629798\n",
    "ORDER BY\n",
    "    longitude ASC;`"
   ]
  },
  {
   "cell_type": "markdown",
   "metadata": {},
   "source": [
    "#### Task 4"
   ]
  },
  {
   "cell_type": "markdown",
   "metadata": {},
   "source": [
    "List the two largest cities in Mexico (by population) "
   ]
  },
  {
   "cell_type": "markdown",
   "metadata": {},
   "source": [
    "`SELECT\n",
    "    city, \n",
    "    country, \n",
    "    population\n",
    "FROM \n",
    "    north_american_cities\n",
    "WHERE\n",
    "    country = 'Mexico'\n",
    "ORDER BY\n",
    "    population DESC\n",
    "LIMIT \n",
    "    2;`"
   ]
  },
  {
   "cell_type": "markdown",
   "metadata": {},
   "source": [
    "#### Task 5"
   ]
  },
  {
   "cell_type": "markdown",
   "metadata": {},
   "source": [
    "List the third and fourth largest cities (by population) in the United States and their population "
   ]
  },
  {
   "cell_type": "markdown",
   "metadata": {},
   "source": [
    "`SELECT\n",
    "    city, \n",
    "    country, \n",
    "    population\n",
    "FROM \n",
    "    north_american_cities\n",
    "WHERE\n",
    "    country = 'United States'\n",
    "ORDER BY\n",
    "    population DESC\n",
    "LIMIT \n",
    "    2\n",
    "OFFSET \n",
    "    2;`"
   ]
  },
  {
   "cell_type": "markdown",
   "metadata": {},
   "source": [
    "### SQL Lesson 6: Multi-table queries with JOINs "
   ]
  },
  {
   "cell_type": "markdown",
   "metadata": {},
   "source": [
    "#### Task 1"
   ]
  },
  {
   "cell_type": "markdown",
   "metadata": {},
   "source": [
    "Find the domestic and international sales for each movie "
   ]
  },
  {
   "cell_type": "markdown",
   "metadata": {},
   "source": [
    "`SELECT \n",
    "    title,\n",
    "    domestic_sales,\n",
    "    international_sales\n",
    "FROM \n",
    "    movies\n",
    "INNER JOIN boxoffice\n",
    "    ON movies.id = boxoffice.movie_id;`"
   ]
  },
  {
   "cell_type": "markdown",
   "metadata": {},
   "source": [
    "#### Task 2"
   ]
  },
  {
   "cell_type": "markdown",
   "metadata": {},
   "source": [
    "Show the sales numbers for each movie that did better internationally rather than domestically "
   ]
  },
  {
   "cell_type": "markdown",
   "metadata": {},
   "source": [
    "`SELECT \n",
    "    title,\n",
    "    domestic_sales,\n",
    "    international_sales\n",
    "FROM \n",
    "    movies\n",
    "INNER JOIN boxoffice\n",
    "    ON movies.id = boxoffice.movie_id\n",
    "WHERE \n",
    "    international_sales > domestic_sales;`"
   ]
  },
  {
   "cell_type": "markdown",
   "metadata": {},
   "source": [
    "#### Task 3"
   ]
  },
  {
   "cell_type": "markdown",
   "metadata": {},
   "source": [
    "List all the movies by their ratings in descending order "
   ]
  },
  {
   "cell_type": "markdown",
   "metadata": {},
   "source": [
    "`SELECT \n",
    "    title,\n",
    "    rating\n",
    "FROM \n",
    "    movies\n",
    "INNER JOIN boxoffice\n",
    "    ON movies.id = boxoffice.movie_id\n",
    "ORDER BY\n",
    "    rating DESC;`"
   ]
  },
  {
   "cell_type": "markdown",
   "metadata": {},
   "source": [
    "###  SQL Lesson 7: OUTER JOINs "
   ]
  },
  {
   "cell_type": "markdown",
   "metadata": {},
   "source": [
    "#### Task 1"
   ]
  },
  {
   "cell_type": "markdown",
   "metadata": {},
   "source": [
    "Find the list of all buildings that have employees "
   ]
  },
  {
   "cell_type": "markdown",
   "metadata": {},
   "source": [
    "`SELECT \n",
    "    DISTINCT(building_name)\n",
    "FROM \n",
    "    buildings AS l\n",
    "INNER JOIN employees AS r\n",
    "    ON l.building_name = r.building;`"
   ]
  },
  {
   "cell_type": "markdown",
   "metadata": {},
   "source": [
    "#### Task 2"
   ]
  },
  {
   "cell_type": "markdown",
   "metadata": {},
   "source": [
    "Find the list of all buildings and their capacity"
   ]
  },
  {
   "cell_type": "markdown",
   "metadata": {},
   "source": [
    "`SELECT \n",
    "    DISTINCT(building_name),\n",
    "    capacity\n",
    "FROM \n",
    "    buildings AS l\n",
    "LEFT JOIN employees AS r\n",
    "    ON l.building_name = r.building;`"
   ]
  },
  {
   "cell_type": "markdown",
   "metadata": {},
   "source": [
    "#### Task 3"
   ]
  },
  {
   "cell_type": "markdown",
   "metadata": {},
   "source": [
    "List all buildings and the distinct employee roles in each building (including empty buildings)"
   ]
  },
  {
   "cell_type": "markdown",
   "metadata": {},
   "source": [
    "`SELECT \n",
    "    DISTINCT(building_name),\n",
    "    role\n",
    "FROM \n",
    "    buildings AS l\n",
    "LEFT JOIN employees AS r\n",
    "    ON l.building_name = r.building;`"
   ]
  },
  {
   "cell_type": "markdown",
   "metadata": {},
   "source": [
    "###  SQL Lesson 8: A short note on NULLs "
   ]
  },
  {
   "cell_type": "markdown",
   "metadata": {},
   "source": [
    "#### Task 1"
   ]
  },
  {
   "cell_type": "markdown",
   "metadata": {},
   "source": [
    "Find the name and role of all employees who have not been assigned to a building "
   ]
  },
  {
   "cell_type": "markdown",
   "metadata": {},
   "source": [
    "`SELECT\n",
    "    name,\n",
    "    role,\n",
    "    building\n",
    "FROM \n",
    "    employees\n",
    "WHERE\n",
    "    building IS NULL;`"
   ]
  },
  {
   "cell_type": "markdown",
   "metadata": {},
   "source": [
    "#### Task 2"
   ]
  },
  {
   "cell_type": "markdown",
   "metadata": {},
   "source": [
    "Find the names of the buildings that hold no employees "
   ]
  },
  {
   "cell_type": "markdown",
   "metadata": {},
   "source": [
    "`SELECT\n",
    "    building_name,\n",
    "    name\n",
    "FROM \n",
    "    buildings AS l\n",
    "LEFT JOIN\n",
    "    employees AS r\n",
    "    ON l.building_name = r.building\n",
    "WHERE\n",
    "    name IS NULL;`"
   ]
  },
  {
   "cell_type": "markdown",
   "metadata": {},
   "source": [
    "###  SQL Lesson 9: Queries with expressions "
   ]
  },
  {
   "cell_type": "markdown",
   "metadata": {},
   "source": [
    "#### Task 1"
   ]
  },
  {
   "cell_type": "markdown",
   "metadata": {},
   "source": [
    "List all movies and their combined sales in millions of dollars "
   ]
  },
  {
   "cell_type": "markdown",
   "metadata": {},
   "source": [
    "`SELECT\n",
    "    title,\n",
    "    (domestic_sales + international_sales) / 1000000 AS combined_sales\n",
    "FROM \n",
    "    movies\n",
    "INNER JOIN\n",
    "    boxoffice\n",
    "    ON movies.id = boxoffice.movie_id\n",
    "ORDER BY \n",
    "    combined_sales DESC;`"
   ]
  },
  {
   "cell_type": "markdown",
   "metadata": {},
   "source": [
    "#### Task 2"
   ]
  },
  {
   "cell_type": "markdown",
   "metadata": {},
   "source": [
    "List all movies and their ratings in percent"
   ]
  },
  {
   "cell_type": "markdown",
   "metadata": {},
   "source": [
    "`SELECT\n",
    "    title,\n",
    "    rating * 10 AS ratings_pct\n",
    "FROM \n",
    "    movies\n",
    "INNER JOIN\n",
    "    boxoffice\n",
    "    ON movies.id = boxoffice.movie_id\n",
    "ORDER BY\n",
    "    ratings_pct DESC;`"
   ]
  },
  {
   "cell_type": "markdown",
   "metadata": {},
   "source": [
    "#### Task 3"
   ]
  },
  {
   "cell_type": "markdown",
   "metadata": {},
   "source": [
    "List all movies that were released on even number years"
   ]
  },
  {
   "cell_type": "markdown",
   "metadata": {},
   "source": [
    "`SELECT\n",
    "    title,\n",
    "    year\n",
    "FROM \n",
    "    movies\n",
    "WHERE\n",
    "    year % 2 = 0\n",
    "ORDER BY \n",
    "    year ASC;`"
   ]
  },
  {
   "cell_type": "markdown",
   "metadata": {},
   "source": [
    "###  SQL Lesson 10: Queries with aggregates (Pt. 1) "
   ]
  },
  {
   "cell_type": "markdown",
   "metadata": {},
   "source": [
    "#### Task 1"
   ]
  },
  {
   "cell_type": "markdown",
   "metadata": {},
   "source": [
    "Find the longest time that an employee has been at the studio "
   ]
  },
  {
   "cell_type": "markdown",
   "metadata": {},
   "source": [
    "`SELECT \n",
    "    MAX(years_employed) \n",
    "FROM \n",
    "    employees;`"
   ]
  },
  {
   "cell_type": "markdown",
   "metadata": {},
   "source": [
    "#### Task 2"
   ]
  },
  {
   "cell_type": "markdown",
   "metadata": {},
   "source": [
    "For each role, find the average number of years employed by employees in that role "
   ]
  },
  {
   "cell_type": "markdown",
   "metadata": {},
   "source": [
    "`SELECT \n",
    "    role,\n",
    "    AVG(years_employed) AS avg_years_empl\n",
    "FROM \n",
    "    employees\n",
    "GROUP BY\n",
    "    role;`"
   ]
  },
  {
   "cell_type": "markdown",
   "metadata": {},
   "source": [
    "#### Task 3"
   ]
  },
  {
   "cell_type": "markdown",
   "metadata": {},
   "source": [
    "Find the total number of employee years worked in each building "
   ]
  },
  {
   "cell_type": "markdown",
   "metadata": {},
   "source": [
    "`SELECT \n",
    "    building,\n",
    "    SUM(years_employed)\n",
    "FROM \n",
    "    employees\n",
    "GROUP BY\n",
    "    building;`"
   ]
  },
  {
   "cell_type": "markdown",
   "metadata": {},
   "source": [
    "###  SQL Lesson 11: Queries with aggregates (Pt. 2) "
   ]
  },
  {
   "cell_type": "markdown",
   "metadata": {},
   "source": [
    "#### Task 1"
   ]
  },
  {
   "cell_type": "markdown",
   "metadata": {},
   "source": [
    "Find the number of Artists in the studio (without a HAVING clause) "
   ]
  },
  {
   "cell_type": "markdown",
   "metadata": {},
   "source": [
    "`SELECT \n",
    "    COUNT(role)\n",
    "FROM \n",
    "    employees\n",
    "WHERE\n",
    "    role = 'Artist';`"
   ]
  },
  {
   "cell_type": "markdown",
   "metadata": {},
   "source": [
    "#### Task 2"
   ]
  },
  {
   "cell_type": "markdown",
   "metadata": {},
   "source": [
    "Find the number of Employees of each role in the studio "
   ]
  },
  {
   "cell_type": "markdown",
   "metadata": {},
   "source": [
    "`SELECT \n",
    "    role,\n",
    "    COUNT(role)\n",
    "FROM \n",
    "    employees\n",
    "GROUP BY\n",
    "    role;`"
   ]
  },
  {
   "cell_type": "markdown",
   "metadata": {},
   "source": [
    "#### Task 3"
   ]
  },
  {
   "cell_type": "markdown",
   "metadata": {},
   "source": [
    "Find the total number of years employed by all Engineers "
   ]
  },
  {
   "cell_type": "markdown",
   "metadata": {},
   "source": [
    "`SELECT \n",
    "    role,\n",
    "    SUM(years_employed)\n",
    "FROM \n",
    "    employees\n",
    "GROUP BY\n",
    "    role\n",
    "HAVING\n",
    "    role = 'Engineer';`"
   ]
  },
  {
   "cell_type": "markdown",
   "metadata": {},
   "source": [
    "###  SQL Lesson 12: Order of execution of a Query"
   ]
  },
  {
   "cell_type": "markdown",
   "metadata": {},
   "source": [
    "#### Task 1"
   ]
  },
  {
   "cell_type": "markdown",
   "metadata": {},
   "source": [
    "Find the number of movies each director has directed "
   ]
  },
  {
   "cell_type": "markdown",
   "metadata": {},
   "source": [
    "`SELECT\n",
    "    director,\n",
    "    COUNT(title) AS num_movies\n",
    "FROM \n",
    "    movies\n",
    "GROUP BY\n",
    "    director\n",
    "ORDER BY\n",
    "    num_movies DESC;`"
   ]
  },
  {
   "cell_type": "markdown",
   "metadata": {},
   "source": [
    "#### Task 2"
   ]
  },
  {
   "cell_type": "markdown",
   "metadata": {},
   "source": [
    "Find the total domestic and international sales that can be attributed to each director "
   ]
  },
  {
   "cell_type": "markdown",
   "metadata": {},
   "source": [
    "`SELECT\n",
    "    director,\n",
    "    SUM(domestic_sales) + SUM(international_sales) AS total_revenue\n",
    "FROM \n",
    "    movies AS l\n",
    "LEFT JOIN boxoffice AS r\n",
    "    ON l.id = r.movie_id\n",
    "GROUP BY\n",
    "    director\n",
    "ORDER BY\n",
    "    total_revenue DESC;`"
   ]
  },
  {
   "cell_type": "markdown",
   "metadata": {},
   "source": [
    "###  SQL Lesson 13: Inserting rows"
   ]
  },
  {
   "cell_type": "markdown",
   "metadata": {},
   "source": [
    "#### Task 1"
   ]
  },
  {
   "cell_type": "markdown",
   "metadata": {},
   "source": [
    "Add the studio's new production, Toy Story 4 to the list of movies (you can use any director)"
   ]
  },
  {
   "cell_type": "markdown",
   "metadata": {},
   "source": [
    "`INSERT INTO movies\n",
    "(title, director, year, length_minutes)\n",
    "VALUES ('Toy Story 4', 'Josh Cooley', 2019, 100);`"
   ]
  },
  {
   "cell_type": "markdown",
   "metadata": {},
   "source": [
    "#### Task 2"
   ]
  },
  {
   "cell_type": "markdown",
   "metadata": {},
   "source": [
    "Toy Story 4 has been released to critical acclaim! It had a rating of 8.7, and made 340 million domestically and 270 million internationally. Add the record to the BoxOffice table. "
   ]
  },
  {
   "cell_type": "markdown",
   "metadata": {},
   "source": [
    "`INSERT INTO boxoffice\n",
    "(movie_id, rating, domestic_sales, international_sales)\n",
    "VALUES (15, 8.7, 340000000, 270000000);`"
   ]
  },
  {
   "cell_type": "markdown",
   "metadata": {},
   "source": [
    "###  SQL Lesson 14: Updating rows "
   ]
  },
  {
   "cell_type": "markdown",
   "metadata": {},
   "source": [
    "#### Task 1"
   ]
  },
  {
   "cell_type": "markdown",
   "metadata": {},
   "source": [
    "The director for A Bug's Life is incorrect, it was actually directed by John Lasseter"
   ]
  },
  {
   "cell_type": "markdown",
   "metadata": {},
   "source": [
    "`UPDATE \n",
    "    movies\n",
    "SET\n",
    "    director = 'John Lasseter'\n",
    "WHERE\n",
    "    title = \"A Bug's Life\";`"
   ]
  },
  {
   "cell_type": "markdown",
   "metadata": {},
   "source": [
    "#### Task 2"
   ]
  },
  {
   "cell_type": "markdown",
   "metadata": {},
   "source": [
    "The year that Toy Story 2 was released is incorrect, it was actually released in 1999"
   ]
  },
  {
   "cell_type": "markdown",
   "metadata": {},
   "source": [
    "`UPDATE\n",
    "    movies\n",
    "SET\n",
    "    year = 1999\n",
    "WHERE\n",
    "    title = 'Toy Story 2';`"
   ]
  },
  {
   "cell_type": "markdown",
   "metadata": {},
   "source": [
    "#### Task 3"
   ]
  },
  {
   "cell_type": "markdown",
   "metadata": {},
   "source": [
    "Both the title and director for Toy Story 8 is incorrect! The title should be \"Toy Story 3\" and it was directed by Lee Unkrich"
   ]
  },
  {
   "cell_type": "markdown",
   "metadata": {},
   "source": [
    "`UPDATE\n",
    "    movies\n",
    "SET\n",
    "    title = 'Toy Story 3',\n",
    "    director = 'Lee Unkrich'\n",
    "WHERE \n",
    "    title = 'Toy Story 8';`"
   ]
  },
  {
   "cell_type": "markdown",
   "metadata": {},
   "source": [
    "###  SQL Lesson 15: Deleting rows "
   ]
  },
  {
   "cell_type": "markdown",
   "metadata": {},
   "source": [
    "#### Task 1"
   ]
  },
  {
   "cell_type": "markdown",
   "metadata": {},
   "source": [
    "This database is getting too big, lets remove all movies that were released before 2005"
   ]
  },
  {
   "cell_type": "markdown",
   "metadata": {},
   "source": [
    "`DELETE FROM \n",
    "    movies\n",
    "WHERE \n",
    "    year < 2005;`"
   ]
  },
  {
   "cell_type": "markdown",
   "metadata": {},
   "source": [
    "#### Task 2"
   ]
  },
  {
   "cell_type": "markdown",
   "metadata": {},
   "source": [
    "Andrew Stanton has also left the studio, so please remove all movies directed by him"
   ]
  },
  {
   "cell_type": "markdown",
   "metadata": {},
   "source": [
    "`DELETE FROM\n",
    "    movies\n",
    "WHERE\n",
    "    director = 'Andrew Stanton';`"
   ]
  },
  {
   "cell_type": "markdown",
   "metadata": {},
   "source": [
    "###  SQL Lesson 16: Creating tables "
   ]
  },
  {
   "cell_type": "markdown",
   "metadata": {},
   "source": [
    "#### Task 1"
   ]
  },
  {
   "cell_type": "markdown",
   "metadata": {},
   "source": [
    "Create a new table named Database with the following columns:\n",
    "* Name A string (text) describing the name of the database\n",
    "* Version A number (floating point) of the latest version of this database\n",
    "* Download_count An integer count of the number of times this database was downloaded  \n",
    "\n",
    "This table has no constraints. "
   ]
  },
  {
   "cell_type": "markdown",
   "metadata": {},
   "source": [
    "`CREATE TABLE IF NOT EXISTS Database (\n",
    "    Name text,\n",
    "    Version float,\n",
    "    Download_count int\n",
    ");`"
   ]
  },
  {
   "cell_type": "markdown",
   "metadata": {},
   "source": [
    "###  SQL Lesson 17: Altering tables "
   ]
  },
  {
   "cell_type": "markdown",
   "metadata": {},
   "source": [
    "#### Task 1"
   ]
  },
  {
   "cell_type": "markdown",
   "metadata": {},
   "source": [
    "Add a column named Aspect_ratio with a FLOAT data type to store the aspect-ratio each movie was released in."
   ]
  },
  {
   "cell_type": "markdown",
   "metadata": {},
   "source": [
    "`ALTER TABLE\n",
    "    movies\n",
    "ADD \n",
    "    Aspect_ratio float;`"
   ]
  },
  {
   "cell_type": "markdown",
   "metadata": {},
   "source": [
    "#### Task 2"
   ]
  },
  {
   "cell_type": "markdown",
   "metadata": {},
   "source": [
    "Add another column named Language with a TEXT data type to store the language that the movie was released in. Ensure that the default for this language is English. "
   ]
  },
  {
   "cell_type": "markdown",
   "metadata": {},
   "source": [
    "`ALTER TABLE\n",
    "    movies\n",
    "ADD\n",
    "    Language text DEFAULT 'English';`"
   ]
  },
  {
   "cell_type": "markdown",
   "metadata": {},
   "source": [
    "#### Task 3"
   ]
  },
  {
   "cell_type": "markdown",
   "metadata": {},
   "source": [
    "Altering table to remove column(s)."
   ]
  },
  {
   "cell_type": "markdown",
   "metadata": {},
   "source": [
    "`ALTER TABLE \n",
    "    mytable\n",
    "DROP \n",
    "    column_to_be_deleted;`"
   ]
  },
  {
   "cell_type": "markdown",
   "metadata": {},
   "source": [
    "#### Task 4"
   ]
  },
  {
   "cell_type": "markdown",
   "metadata": {},
   "source": [
    "Rename the table itself."
   ]
  },
  {
   "cell_type": "markdown",
   "metadata": {},
   "source": [
    "`ALTER TABLE \n",
    "    mytable\n",
    "RENAME TO \n",
    "    new_table_name;`"
   ]
  },
  {
   "cell_type": "markdown",
   "metadata": {},
   "source": [
    "###  SQL Lesson 18: Dropping tables "
   ]
  },
  {
   "cell_type": "markdown",
   "metadata": {},
   "source": [
    "#### Task 1"
   ]
  },
  {
   "cell_type": "markdown",
   "metadata": {},
   "source": [
    "We've sadly reached the end of our lessons, lets clean up by removing the Movies table "
   ]
  },
  {
   "cell_type": "markdown",
   "metadata": {},
   "source": [
    "`DROP TABLE IF EXISTS movies;`"
   ]
  },
  {
   "cell_type": "markdown",
   "metadata": {},
   "source": [
    "#### Task 2"
   ]
  },
  {
   "cell_type": "markdown",
   "metadata": {},
   "source": [
    "And drop the BoxOffice table as well "
   ]
  },
  {
   "cell_type": "markdown",
   "metadata": {},
   "source": [
    "`DROP TABLE IF EXISTS boxoffice;`"
   ]
  },
  {
   "cell_type": "markdown",
   "metadata": {},
   "source": [
    "###  SQL Lesson 19: Subqueries  "
   ]
  },
  {
   "cell_type": "markdown",
   "metadata": {},
   "source": [
    "#### Task 1"
   ]
  },
  {
   "cell_type": "markdown",
   "metadata": {},
   "source": [
    "Find out which of your Associates are costing the company more than the average revenue brought per Associate. "
   ]
  },
  {
   "cell_type": "markdown",
   "metadata": {},
   "source": [
    "`\n",
    "SELECT *\n",
    "FROM \n",
    "    sales_associates\n",
    "WHERE \n",
    "    salary > (\n",
    "        SELECT \n",
    "           AVG(revenue_generated)\n",
    "        FROM \n",
    "            sales_associates\n",
    "    );\n",
    "`"
   ]
  },
  {
   "cell_type": "markdown",
   "metadata": {},
   "source": [
    "#### Task 2"
   ]
  },
  {
   "cell_type": "markdown",
   "metadata": {},
   "source": [
    "For each employee, you would need to calculate their cost relative to the average revenue generated by all people in their department."
   ]
  },
  {
   "cell_type": "markdown",
   "metadata": {},
   "source": [
    "`SELECT * \n",
    "FROM \n",
    "    employees \n",
    "WHERE \n",
    "    salary > (\n",
    "        SELECT \n",
    "            AVG(revenue_generated) \n",
    "        FROM \n",
    "            employees AS dept_employees \n",
    "        WHERE \n",
    "            dept_employees.department = employees.department\n",
    "    );`"
   ]
  },
  {
   "cell_type": "markdown",
   "metadata": {},
   "source": [
    "### SQL Extra: Unions, Intersections & Exceptions "
   ]
  },
  {
   "cell_type": "markdown",
   "metadata": {},
   "source": [
    "The **UNION** and **UNION ALL** operator allows you to append the results of one query to another assuming that they have the same column count, order and data type. If you use the UNION without the ALL, duplicate rows between the tables will be removed from the result."
   ]
  },
  {
   "cell_type": "markdown",
   "metadata": {},
   "source": [
    "The **INTERSECT** operator will ensure that only rows that are identical in both result sets are returned."
   ]
  },
  {
   "cell_type": "markdown",
   "metadata": {},
   "source": [
    "The **EXCEPT** operator will ensure that only rows in the first result set that aren't in the second are returned."
   ]
  },
  {
   "cell_type": "markdown",
   "metadata": {},
   "source": [
    "Both **INTERSECT** and **EXCEPT** also discard duplicate rows after their respective operations, though some databases also support **INTERSECT ALL** and **EXCEPT ALL** to allow duplicates to be retained and returned."
   ]
  },
  {
   "cell_type": "markdown",
   "metadata": {},
   "source": [
    "-- Select query with set operators  \n",
    "\n",
    "`\n",
    "SELECT column, another_column\n",
    "   FROM mytable\n",
    "UNION / UNION ALL / INTERSECT / EXCEPT\n",
    "SELECT other_column, yet_another_column\n",
    "   FROM another_table\n",
    "ORDER BY column DESC\n",
    "LIMIT n;\n",
    "`"
   ]
  }
 ],
 "metadata": {
  "kernelspec": {
   "display_name": "Python 3",
   "language": "python",
   "name": "python3"
  },
  "language_info": {
   "codemirror_mode": {
    "name": "ipython",
    "version": 3
   },
   "file_extension": ".py",
   "mimetype": "text/x-python",
   "name": "python",
   "nbconvert_exporter": "python",
   "pygments_lexer": "ipython3",
   "version": "3.7.6"
  }
 },
 "nbformat": 4,
 "nbformat_minor": 4
}
