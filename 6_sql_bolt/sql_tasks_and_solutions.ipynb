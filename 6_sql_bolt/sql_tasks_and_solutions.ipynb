{
 "cells": [
  {
   "cell_type": "markdown",
   "metadata": {},
   "source": [
    "# SQL Bolt  "
   ]
  },
  {
   "cell_type": "markdown",
   "metadata": {},
   "source": [
    "## Interactive Tutorial"
   ]
  },
  {
   "cell_type": "markdown",
   "metadata": {},
   "source": [
    "[https://sqlbolt.com/](https://sqlbolt.com/)"
   ]
  },
  {
   "cell_type": "markdown",
   "metadata": {},
   "source": [
    "### SQL Lesson 1: SELECT queries"
   ]
  },
  {
   "cell_type": "markdown",
   "metadata": {},
   "source": [
    "#### Task 1"
   ]
  },
  {
   "cell_type": "markdown",
   "metadata": {},
   "source": [
    "Find the title of each film"
   ]
  },
  {
   "cell_type": "markdown",
   "metadata": {},
   "source": [
    "`SELECT title \n",
    "FROM movies;`"
   ]
  },
  {
   "cell_type": "markdown",
   "metadata": {},
   "source": [
    "#### Task 2"
   ]
  },
  {
   "cell_type": "markdown",
   "metadata": {},
   "source": [
    "Find the director of each film "
   ]
  },
  {
   "cell_type": "markdown",
   "metadata": {},
   "source": [
    "`SELECT director \n",
    "FROM movies;`"
   ]
  },
  {
   "cell_type": "markdown",
   "metadata": {},
   "source": [
    "#### Task 3"
   ]
  },
  {
   "cell_type": "markdown",
   "metadata": {},
   "source": [
    "Find the title and director of each film"
   ]
  },
  {
   "cell_type": "markdown",
   "metadata": {},
   "source": [
    "`SELECT \n",
    "    title,\n",
    "    director \n",
    "FROM movies;`"
   ]
  },
  {
   "cell_type": "markdown",
   "metadata": {},
   "source": [
    "#### Task 4"
   ]
  },
  {
   "cell_type": "markdown",
   "metadata": {},
   "source": [
    "Find the title and year of each film "
   ]
  },
  {
   "cell_type": "markdown",
   "metadata": {},
   "source": [
    "`SELECT \n",
    "    title,\n",
    "    year \n",
    "FROM movies;`"
   ]
  },
  {
   "cell_type": "markdown",
   "metadata": {},
   "source": [
    "#### Task 5"
   ]
  },
  {
   "cell_type": "markdown",
   "metadata": {},
   "source": [
    "Find all the information about each film"
   ]
  },
  {
   "cell_type": "markdown",
   "metadata": {},
   "source": [
    "`SELECT * \n",
    "FROM movies;`"
   ]
  },
  {
   "cell_type": "markdown",
   "metadata": {},
   "source": [
    "### SQL Lesson 2: Queries with constraints (Pt. 1) "
   ]
  },
  {
   "cell_type": "markdown",
   "metadata": {},
   "source": [
    "#### Task 1"
   ]
  },
  {
   "cell_type": "markdown",
   "metadata": {},
   "source": [
    "Find the movie with a row id of 6 "
   ]
  },
  {
   "cell_type": "markdown",
   "metadata": {},
   "source": [
    "`\n",
    "SELECT *\n",
    "FROM \n",
    "    movies\n",
    "WHERE \n",
    "    id = 6;\n",
    "`"
   ]
  },
  {
   "cell_type": "markdown",
   "metadata": {},
   "source": [
    "#### Task 2"
   ]
  },
  {
   "cell_type": "markdown",
   "metadata": {},
   "source": [
    "Find the movies released in the years between 2000 and 2010 "
   ]
  },
  {
   "cell_type": "markdown",
   "metadata": {},
   "source": [
    "`SELECT * \n",
    "FROM \n",
    "    movies\n",
    "WHERE \n",
    "    year BETWEEN 2000 and 2010;`"
   ]
  },
  {
   "cell_type": "markdown",
   "metadata": {},
   "source": [
    "#### Task 3"
   ]
  },
  {
   "cell_type": "markdown",
   "metadata": {},
   "source": [
    "Find the movies not released in the years between 2000 and 2010 "
   ]
  },
  {
   "cell_type": "markdown",
   "metadata": {},
   "source": [
    "`SELECT * \n",
    "FROM \n",
    "    movies\n",
    "WHERE \n",
    "    year NOT BETWEEN 2000 and 2010;`"
   ]
  },
  {
   "cell_type": "markdown",
   "metadata": {},
   "source": [
    "#### Task 4"
   ]
  },
  {
   "cell_type": "markdown",
   "metadata": {},
   "source": [
    "Find the first 5 Pixar movies and their release year"
   ]
  },
  {
   "cell_type": "markdown",
   "metadata": {},
   "source": [
    "`SELECT \n",
    "    title,\n",
    "    year\n",
    "FROM \n",
    "    movies\n",
    "WHERE \n",
    "    year < 2004;`"
   ]
  },
  {
   "cell_type": "markdown",
   "metadata": {},
   "source": [
    "### SQL Lesson 3: Queries with constraints (Pt. 2) "
   ]
  },
  {
   "cell_type": "markdown",
   "metadata": {},
   "source": [
    "#### Task 1"
   ]
  },
  {
   "cell_type": "markdown",
   "metadata": {},
   "source": [
    " Find all the Toy Story movies"
   ]
  },
  {
   "cell_type": "markdown",
   "metadata": {},
   "source": [
    "`\n",
    "SELECT * \n",
    "FROM \n",
    "    movies\n",
    "WHERE\n",
    "    title LIKE 'Toy Story%';\n",
    "`"
   ]
  },
  {
   "cell_type": "markdown",
   "metadata": {},
   "source": [
    "#### Task 2"
   ]
  },
  {
   "cell_type": "markdown",
   "metadata": {},
   "source": [
    "Find all the movies directed by John Lasseter "
   ]
  },
  {
   "cell_type": "markdown",
   "metadata": {},
   "source": [
    "`SELECT * \n",
    "FROM \n",
    "    movies\n",
    "WHERE\n",
    "    director = 'John Lasseter';`"
   ]
  },
  {
   "cell_type": "markdown",
   "metadata": {},
   "source": [
    "#### Task 3"
   ]
  },
  {
   "cell_type": "markdown",
   "metadata": {},
   "source": [
    "Find all the movies (and director) not directed by John Lasseter "
   ]
  },
  {
   "cell_type": "markdown",
   "metadata": {},
   "source": [
    "`SELECT\n",
    "    title,\n",
    "    director\n",
    "FROM \n",
    "    movies\n",
    "WHERE\n",
    "    director != 'John Lasseter';`"
   ]
  },
  {
   "cell_type": "markdown",
   "metadata": {},
   "source": [
    "#### Task 4"
   ]
  },
  {
   "cell_type": "markdown",
   "metadata": {},
   "source": [
    "Find all the WALL-* movies "
   ]
  },
  {
   "cell_type": "markdown",
   "metadata": {},
   "source": [
    "`SELECT *\n",
    "FROM \n",
    "    movies\n",
    "WHERE\n",
    "    title LIKE 'WALL-_';`"
   ]
  },
  {
   "cell_type": "markdown",
   "metadata": {},
   "source": [
    "### SQL Lesson 4: Filtering and sorting Query results "
   ]
  },
  {
   "cell_type": "markdown",
   "metadata": {},
   "source": [
    "#### Task 1"
   ]
  },
  {
   "cell_type": "markdown",
   "metadata": {},
   "source": [
    "List all directors of Pixar movies (alphabetically), without duplicates"
   ]
  },
  {
   "cell_type": "markdown",
   "metadata": {},
   "source": [
    "`\n",
    "SELECT\n",
    "    DISTINCT(director)\n",
    "FROM \n",
    "    movies\n",
    "ORDER BY director ASC;\n",
    "`"
   ]
  },
  {
   "cell_type": "markdown",
   "metadata": {},
   "source": [
    "#### Task 2"
   ]
  },
  {
   "cell_type": "markdown",
   "metadata": {},
   "source": [
    "List the last four Pixar movies released (ordered from most recent to least)"
   ]
  },
  {
   "cell_type": "markdown",
   "metadata": {},
   "source": [
    "`SELECT *\n",
    "FROM \n",
    "    movies\n",
    "ORDER BY year DESC\n",
    "LIMIT 4;`"
   ]
  },
  {
   "cell_type": "markdown",
   "metadata": {},
   "source": [
    "#### Task 3"
   ]
  },
  {
   "cell_type": "markdown",
   "metadata": {},
   "source": [
    "List the first five Pixar movies sorted alphabetically "
   ]
  },
  {
   "cell_type": "markdown",
   "metadata": {},
   "source": [
    "`SELECT *\n",
    "FROM \n",
    "    movies\n",
    "ORDER BY title ASC\n",
    "LIMIT 5;`"
   ]
  },
  {
   "cell_type": "markdown",
   "metadata": {},
   "source": [
    "#### Task 4"
   ]
  },
  {
   "cell_type": "markdown",
   "metadata": {},
   "source": [
    "List the next five Pixar movies sorted alphabetically "
   ]
  },
  {
   "cell_type": "markdown",
   "metadata": {},
   "source": [
    "`SELECT *\n",
    "FROM \n",
    "    movies\n",
    "ORDER BY title ASC\n",
    "LIMIT 5 OFFSET 5;`"
   ]
  },
  {
   "cell_type": "markdown",
   "metadata": {},
   "source": [
    "### SQL Lesson 5: Simple SELECT Queries Review"
   ]
  },
  {
   "cell_type": "markdown",
   "metadata": {},
   "source": [
    "#### Task 1"
   ]
  },
  {
   "cell_type": "markdown",
   "metadata": {},
   "source": [
    "List all the Canadian cities and their populations "
   ]
  },
  {
   "cell_type": "markdown",
   "metadata": {},
   "source": [
    "`SELECT\n",
    "    city, \n",
    "    country, \n",
    "    population\n",
    "FROM \n",
    "    north_american_cities\n",
    "WHERE\n",
    "    country = 'Canada';`"
   ]
  },
  {
   "cell_type": "markdown",
   "metadata": {},
   "source": [
    "#### Task 2"
   ]
  },
  {
   "cell_type": "markdown",
   "metadata": {},
   "source": [
    "Order all the cities in the United States by their latitude from north to south"
   ]
  },
  {
   "cell_type": "markdown",
   "metadata": {},
   "source": [
    "`SELECT\n",
    "    city, \n",
    "    country, \n",
    "    latitude\n",
    "FROM \n",
    "    north_american_cities\n",
    "WHERE\n",
    "    country = 'United States'\n",
    "ORDER BY\n",
    "    latitude DESC;`"
   ]
  },
  {
   "cell_type": "markdown",
   "metadata": {},
   "source": [
    "#### Task 3"
   ]
  },
  {
   "cell_type": "markdown",
   "metadata": {},
   "source": [
    "List all the cities west of Chicago, ordered from west to east "
   ]
  },
  {
   "cell_type": "markdown",
   "metadata": {},
   "source": [
    "`SELECT\n",
    "    city, \n",
    "    country, \n",
    "    longitude\n",
    "FROM \n",
    "    north_american_cities\n",
    "WHERE\n",
    "    longitude < -87.629798\n",
    "ORDER BY\n",
    "    longitude ASC;`"
   ]
  },
  {
   "cell_type": "markdown",
   "metadata": {},
   "source": [
    "#### Task 4"
   ]
  },
  {
   "cell_type": "markdown",
   "metadata": {},
   "source": [
    "List the two largest cities in Mexico (by population) "
   ]
  },
  {
   "cell_type": "markdown",
   "metadata": {},
   "source": [
    "`SELECT\n",
    "    city, \n",
    "    country, \n",
    "    population\n",
    "FROM \n",
    "    north_american_cities\n",
    "WHERE\n",
    "    country = 'Mexico'\n",
    "ORDER BY\n",
    "    population DESC\n",
    "LIMIT \n",
    "    2;`"
   ]
  },
  {
   "cell_type": "markdown",
   "metadata": {},
   "source": [
    "#### Task 5"
   ]
  },
  {
   "cell_type": "markdown",
   "metadata": {},
   "source": [
    "List the third and fourth largest cities (by population) in the United States and their population "
   ]
  },
  {
   "cell_type": "markdown",
   "metadata": {},
   "source": [
    "`SELECT\n",
    "    city, \n",
    "    country, \n",
    "    population\n",
    "FROM \n",
    "    north_american_cities\n",
    "WHERE\n",
    "    country = 'United States'\n",
    "ORDER BY\n",
    "    population DESC\n",
    "LIMIT \n",
    "    2\n",
    "OFFSET \n",
    "    2;`"
   ]
  },
  {
   "cell_type": "markdown",
   "metadata": {},
   "source": [
    "### SQL Lesson 6: Multi-table queries with JOINs "
   ]
  },
  {
   "cell_type": "markdown",
   "metadata": {},
   "source": [
    "#### Task 1"
   ]
  },
  {
   "cell_type": "markdown",
   "metadata": {},
   "source": [
    "Find the domestic and international sales for each movie "
   ]
  },
  {
   "cell_type": "markdown",
   "metadata": {},
   "source": [
    "`SELECT \n",
    "    title,\n",
    "    domestic_sales,\n",
    "    international_sales\n",
    "FROM \n",
    "    movies\n",
    "INNER JOIN boxoffice\n",
    "    ON movies.id = boxoffice.movie_id;`"
   ]
  },
  {
   "cell_type": "markdown",
   "metadata": {},
   "source": [
    "#### Task 2"
   ]
  },
  {
   "cell_type": "markdown",
   "metadata": {},
   "source": [
    "Show the sales numbers for each movie that did better internationally rather than domestically "
   ]
  },
  {
   "cell_type": "markdown",
   "metadata": {},
   "source": [
    "`SELECT \n",
    "    title,\n",
    "    domestic_sales,\n",
    "    international_sales\n",
    "FROM \n",
    "    movies\n",
    "INNER JOIN boxoffice\n",
    "    ON movies.id = boxoffice.movie_id\n",
    "WHERE \n",
    "    international_sales > domestic_sales;`"
   ]
  },
  {
   "cell_type": "markdown",
   "metadata": {},
   "source": [
    "#### Task 3"
   ]
  },
  {
   "cell_type": "markdown",
   "metadata": {},
   "source": [
    "List all the movies by their ratings in descending order "
   ]
  },
  {
   "cell_type": "markdown",
   "metadata": {},
   "source": [
    "`SELECT \n",
    "    title,\n",
    "    rating\n",
    "FROM \n",
    "    movies\n",
    "INNER JOIN boxoffice\n",
    "    ON movies.id = boxoffice.movie_id\n",
    "ORDER BY\n",
    "    rating DESC;`"
   ]
  },
  {
   "cell_type": "markdown",
   "metadata": {},
   "source": [
    "###  SQL Lesson 7: OUTER JOINs "
   ]
  },
  {
   "cell_type": "markdown",
   "metadata": {},
   "source": [
    "#### Task 1"
   ]
  },
  {
   "cell_type": "markdown",
   "metadata": {},
   "source": [
    "Find the list of all buildings that have employees "
   ]
  },
  {
   "cell_type": "markdown",
   "metadata": {},
   "source": [
    "`SELECT \n",
    "    DISTINCT(building_name)\n",
    "FROM \n",
    "    buildings AS l\n",
    "INNER JOIN employees AS r\n",
    "    ON l.building_name = r.building;`"
   ]
  },
  {
   "cell_type": "markdown",
   "metadata": {},
   "source": [
    "#### Task 2"
   ]
  },
  {
   "cell_type": "markdown",
   "metadata": {},
   "source": [
    "Find the list of all buildings and their capacity"
   ]
  },
  {
   "cell_type": "markdown",
   "metadata": {},
   "source": [
    "`SELECT \n",
    "    DISTINCT(building_name),\n",
    "    capacity\n",
    "FROM \n",
    "    buildings AS l\n",
    "LEFT JOIN employees AS r\n",
    "    ON l.building_name = r.building;`"
   ]
  },
  {
   "cell_type": "markdown",
   "metadata": {},
   "source": [
    "#### Task 3"
   ]
  },
  {
   "cell_type": "markdown",
   "metadata": {},
   "source": [
    "List all buildings and the distinct employee roles in each building (including empty buildings)"
   ]
  },
  {
   "cell_type": "markdown",
   "metadata": {},
   "source": [
    "`SELECT \n",
    "    DISTINCT(building_name),\n",
    "    role\n",
    "FROM \n",
    "    buildings AS l\n",
    "LEFT JOIN employees AS r\n",
    "    ON l.building_name = r.building;`"
   ]
  },
  {
   "cell_type": "markdown",
   "metadata": {},
   "source": [
    "###  SQL Lesson 8: A short note on NULLs "
   ]
  },
  {
   "cell_type": "markdown",
   "metadata": {},
   "source": [
    "#### Task 1"
   ]
  },
  {
   "cell_type": "markdown",
   "metadata": {},
   "source": [
    "Find the name and role of all employees who have not been assigned to a building "
   ]
  },
  {
   "cell_type": "markdown",
   "metadata": {},
   "source": [
    "`SELECT\n",
    "    name,\n",
    "    role,\n",
    "    building\n",
    "FROM \n",
    "    employees\n",
    "WHERE\n",
    "    building IS NULL;`"
   ]
  },
  {
   "cell_type": "markdown",
   "metadata": {},
   "source": [
    "#### Task 2"
   ]
  },
  {
   "cell_type": "markdown",
   "metadata": {},
   "source": [
    "Find the names of the buildings that hold no employees "
   ]
  },
  {
   "cell_type": "markdown",
   "metadata": {},
   "source": [
    "`SELECT\n",
    "    building_name,\n",
    "    name\n",
    "FROM \n",
    "    buildings AS l\n",
    "LEFT JOIN\n",
    "    employees AS r\n",
    "    ON l.building_name = r.building\n",
    "WHERE\n",
    "    name IS NULL`"
   ]
  },
  {
   "cell_type": "markdown",
   "metadata": {},
   "source": [
    "###  SQL Lesson 9: Queries with expressions "
   ]
  },
  {
   "cell_type": "markdown",
   "metadata": {},
   "source": [
    "#### Task 1"
   ]
  },
  {
   "cell_type": "markdown",
   "metadata": {},
   "source": [
    "List all movies and their combined sales in millions of dollars "
   ]
  },
  {
   "cell_type": "markdown",
   "metadata": {},
   "source": [
    "`SELECT\n",
    "    title,\n",
    "    (domestic_sales + international_sales) / 1000000 AS combined_sales\n",
    "FROM \n",
    "    movies\n",
    "INNER JOIN\n",
    "    boxoffice\n",
    "    ON movies.id = boxoffice.movie_id\n",
    "ORDER BY \n",
    "    combined_sales DESC;`"
   ]
  },
  {
   "cell_type": "markdown",
   "metadata": {},
   "source": [
    "#### Task 2"
   ]
  },
  {
   "cell_type": "markdown",
   "metadata": {},
   "source": [
    "List all movies and their ratings in percent"
   ]
  },
  {
   "cell_type": "markdown",
   "metadata": {},
   "source": [
    "`SELECT\n",
    "    title,\n",
    "    rating * 10 AS ratings_pct\n",
    "FROM \n",
    "    movies\n",
    "INNER JOIN\n",
    "    boxoffice\n",
    "    ON movies.id = boxoffice.movie_id\n",
    "ORDER BY\n",
    "    ratings_pct DESC;`"
   ]
  },
  {
   "cell_type": "markdown",
   "metadata": {},
   "source": [
    "#### Task 3"
   ]
  },
  {
   "cell_type": "markdown",
   "metadata": {},
   "source": [
    "List all movies that were released on even number years"
   ]
  },
  {
   "cell_type": "markdown",
   "metadata": {},
   "source": [
    "`SELECT\n",
    "    title,\n",
    "    year\n",
    "FROM \n",
    "    movies\n",
    "WHERE\n",
    "    year % 2 = 0\n",
    "ORDER BY \n",
    "    year ASC;`"
   ]
  },
  {
   "cell_type": "markdown",
   "metadata": {},
   "source": [
    "###  SQL Lesson 10: Queries with aggregates (Pt. 1) "
   ]
  },
  {
   "cell_type": "markdown",
   "metadata": {},
   "source": [
    "#### Task 1"
   ]
  },
  {
   "cell_type": "markdown",
   "metadata": {},
   "source": [
    "Find the longest time that an employee has been at the studio "
   ]
  },
  {
   "cell_type": "markdown",
   "metadata": {},
   "source": [
    "`SELECT \n",
    "    MAX(years_employed) \n",
    "FROM \n",
    "    employees;`"
   ]
  },
  {
   "cell_type": "markdown",
   "metadata": {},
   "source": [
    "#### Task 2"
   ]
  },
  {
   "cell_type": "markdown",
   "metadata": {},
   "source": [
    "For each role, find the average number of years employed by employees in that role "
   ]
  },
  {
   "cell_type": "markdown",
   "metadata": {},
   "source": [
    "`SELECT \n",
    "    role,\n",
    "    AVG(years_employed) AS avg_years_empl\n",
    "FROM \n",
    "    employees\n",
    "GROUP BY\n",
    "    role;`"
   ]
  },
  {
   "cell_type": "markdown",
   "metadata": {},
   "source": [
    "#### Task 3"
   ]
  },
  {
   "cell_type": "markdown",
   "metadata": {},
   "source": [
    "Find the total number of employee years worked in each building "
   ]
  },
  {
   "cell_type": "markdown",
   "metadata": {},
   "source": [
    "`SELECT \n",
    "    building,\n",
    "    SUM(years_employed)\n",
    "FROM \n",
    "    employees\n",
    "GROUP BY\n",
    "    building;`"
   ]
  },
  {
   "cell_type": "markdown",
   "metadata": {},
   "source": [
    "###  SQL Lesson 11: Queries with aggregates (Pt. 2) "
   ]
  },
  {
   "cell_type": "markdown",
   "metadata": {},
   "source": [
    "#### Task 1"
   ]
  },
  {
   "cell_type": "markdown",
   "metadata": {},
   "source": [
    "Find the number of Artists in the studio (without a HAVING clause) "
   ]
  },
  {
   "cell_type": "markdown",
   "metadata": {},
   "source": [
    "`SELECT \n",
    "    COUNT(role)\n",
    "FROM \n",
    "    employees\n",
    "WHERE\n",
    "    role = 'Artist';`"
   ]
  },
  {
   "cell_type": "markdown",
   "metadata": {},
   "source": [
    "#### Task 2"
   ]
  },
  {
   "cell_type": "markdown",
   "metadata": {},
   "source": [
    "Find the number of Employees of each role in the studio "
   ]
  },
  {
   "cell_type": "markdown",
   "metadata": {},
   "source": [
    "`SELECT \n",
    "    role,\n",
    "    COUNT(role)\n",
    "FROM \n",
    "    employees\n",
    "GROUP BY\n",
    "    role;`"
   ]
  },
  {
   "cell_type": "markdown",
   "metadata": {},
   "source": [
    "#### Task 3"
   ]
  },
  {
   "cell_type": "markdown",
   "metadata": {},
   "source": [
    "Find the total number of years employed by all Engineers "
   ]
  },
  {
   "cell_type": "markdown",
   "metadata": {},
   "source": [
    "`SELECT \n",
    "    role,\n",
    "    SUM(years_employed)\n",
    "FROM \n",
    "    employees\n",
    "GROUP BY\n",
    "    role\n",
    "HAVING\n",
    "    role = 'Engineer';`"
   ]
  },
  {
   "cell_type": "code",
   "execution_count": null,
   "metadata": {},
   "outputs": [],
   "source": []
  },
  {
   "cell_type": "code",
   "execution_count": null,
   "metadata": {},
   "outputs": [],
   "source": []
  },
  {
   "cell_type": "code",
   "execution_count": null,
   "metadata": {},
   "outputs": [],
   "source": []
  },
  {
   "cell_type": "code",
   "execution_count": null,
   "metadata": {},
   "outputs": [],
   "source": []
  },
  {
   "cell_type": "code",
   "execution_count": null,
   "metadata": {},
   "outputs": [],
   "source": []
  },
  {
   "cell_type": "code",
   "execution_count": null,
   "metadata": {},
   "outputs": [],
   "source": []
  },
  {
   "cell_type": "code",
   "execution_count": null,
   "metadata": {},
   "outputs": [],
   "source": []
  },
  {
   "cell_type": "code",
   "execution_count": null,
   "metadata": {},
   "outputs": [],
   "source": []
  },
  {
   "cell_type": "code",
   "execution_count": null,
   "metadata": {},
   "outputs": [],
   "source": []
  },
  {
   "cell_type": "code",
   "execution_count": null,
   "metadata": {},
   "outputs": [],
   "source": []
  },
  {
   "cell_type": "code",
   "execution_count": null,
   "metadata": {},
   "outputs": [],
   "source": []
  },
  {
   "cell_type": "code",
   "execution_count": null,
   "metadata": {},
   "outputs": [],
   "source": []
  },
  {
   "cell_type": "code",
   "execution_count": null,
   "metadata": {},
   "outputs": [],
   "source": []
  },
  {
   "cell_type": "code",
   "execution_count": null,
   "metadata": {},
   "outputs": [],
   "source": []
  },
  {
   "cell_type": "code",
   "execution_count": null,
   "metadata": {},
   "outputs": [],
   "source": []
  },
  {
   "cell_type": "code",
   "execution_count": null,
   "metadata": {},
   "outputs": [],
   "source": []
  }
 ],
 "metadata": {
  "kernelspec": {
   "display_name": "Python 3",
   "language": "python",
   "name": "python3"
  },
  "language_info": {
   "codemirror_mode": {
    "name": "ipython",
    "version": 3
   },
   "file_extension": ".py",
   "mimetype": "text/x-python",
   "name": "python",
   "nbconvert_exporter": "python",
   "pygments_lexer": "ipython3",
   "version": "3.7.6"
  }
 },
 "nbformat": 4,
 "nbformat_minor": 4
}
