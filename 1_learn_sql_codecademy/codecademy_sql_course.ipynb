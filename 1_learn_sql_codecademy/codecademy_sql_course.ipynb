{
 "cells": [
  {
   "cell_type": "markdown",
   "metadata": {},
   "source": [
    "SQL (Structured Query Language) is a programming language used to communicate with data stored in a relational database management system. SQL syntax is similar to the English language, which makes it relatively easy to write, read, and interpret. \n"
   ]
  },
  {
   "cell_type": "markdown",
   "metadata": {},
   "source": [
    "SQL COMMANDS Overview:"
   ]
  },
  {
   "cell_type": "code",
   "execution_count": null,
   "metadata": {},
   "outputs": [],
   "source": [
    "# ALTER TABLE lets you add columns to a table in a database.\n",
    "ALTER TABLE \n",
    "  table_name \n",
    "ADD \n",
    "  column_name datatype;"
   ]
  },
  {
   "cell_type": "code",
   "execution_count": null,
   "metadata": {},
   "outputs": [],
   "source": [
    "# AND is an operator that combines two conditions. \n",
    "# Both conditions must be true for the row to be included in the result set.\n",
    "SELECT column_name(s)\n",
    "FROM table_name\n",
    "WHERE column_1 = value_1\n",
    "  AND column_2 = value_2;"
   ]
  },
  {
   "cell_type": "code",
   "execution_count": null,
   "metadata": {},
   "outputs": [],
   "source": [
    "# AS is a keyword in SQL that allows you to rename a column or table using an alias.\n",
    "SELECT \n",
    "  column_name(s) \n",
    "FROM \n",
    "  table_name \n",
    "WHERE \n",
    "  column_1 = value_1 \n",
    "  AND column_2 = value_2;"
   ]
  },
  {
   "cell_type": "code",
   "execution_count": null,
   "metadata": {},
   "outputs": [],
   "source": [
    "# AVG() is an aggregate function that returns the average value for a numeric column.\n",
    "SELECT \n",
    "  AVG(column_name) \n",
    "FROM \n",
    "  table_name;"
   ]
  },
  {
   "cell_type": "code",
   "execution_count": null,
   "metadata": {},
   "outputs": [],
   "source": [
    "# The BETWEEN operator is used to filter the result set within a certain range. \n",
    "# The values can be numbers, text or dates.\n",
    "SELECT \n",
    "  column_name(s) \n",
    "FROM \n",
    "  table_name \n",
    "WHERE \n",
    "  column_name BETWEEN value_1 \n",
    "  AND value_2;"
   ]
  },
  {
   "cell_type": "code",
   "execution_count": null,
   "metadata": {},
   "outputs": [],
   "source": [
    "# CASE statements are used to create different outputs (usually in the SELECT statement). \n",
    "# It is SQL’s way of handling if-then logic.\n",
    "SELECT column_name,\n",
    "  CASE\n",
    "    WHEN condition THEN 'Result_1'\n",
    "    WHEN condition THEN 'Result_2'\n",
    "    ELSE 'Result_3'\n",
    "  END\n",
    "FROM table_name;"
   ]
  },
  {
   "cell_type": "code",
   "execution_count": null,
   "metadata": {},
   "outputs": [],
   "source": [
    "# COUNT() is a function that takes the name of a column as an argument and \n",
    "# counts the number of rows where the column is not NULL.\n",
    "SELECT \n",
    "  COUNT(column_name) \n",
    "FROM \n",
    "  table_name;"
   ]
  },
  {
   "cell_type": "code",
   "execution_count": null,
   "metadata": {},
   "outputs": [],
   "source": [
    "# CREATE TABLE creates a new table in the database. \n",
    "# It allows you to specify the name of the table and the name of each column in the table.\n",
    "CREATE TABLE table_name (\n",
    "  column_1 datatype, \n",
    "  column_2 datatype, \n",
    "  column_3 datatype\n",
    ");"
   ]
  },
  {
   "cell_type": "code",
   "execution_count": null,
   "metadata": {},
   "outputs": [],
   "source": [
    "# DELETE statements are used to remove rows from a table.\n",
    "DELETE FROM \n",
    "  table_name \n",
    "WHERE \n",
    "  some_column = some_value;"
   ]
  },
  {
   "cell_type": "code",
   "execution_count": null,
   "metadata": {},
   "outputs": [],
   "source": [
    "# GROUP BY is a clause in SQL that is only used with aggregate functions. \n",
    "# It is used in collaboration with the SELECT statement to arrange identical data into groups.\n",
    "SELECT \n",
    "  column_name, \n",
    "  COUNT(*) \n",
    "FROM \n",
    "  table_name \n",
    "GROUP BY \n",
    "  column_name;"
   ]
  },
  {
   "cell_type": "code",
   "execution_count": null,
   "metadata": {},
   "outputs": [],
   "source": [
    "# HAVING was added to SQL because the WHERE keyword \n",
    "# could not be used with aggregate functions.\n",
    "SELECT \n",
    "  column_name, \n",
    "  COUNT(*) \n",
    "FROM \n",
    "  table_name \n",
    "GROUP BY \n",
    "  column_name \n",
    "HAVING \n",
    "  COUNT(*) > value;"
   ]
  },
  {
   "cell_type": "code",
   "execution_count": null,
   "metadata": {},
   "outputs": [],
   "source": [
    "# An inner JOIN will combine rows from different tables if the join condition is true.\n",
    "SELECT \n",
    "  column_name(s) \n",
    "FROM \n",
    "  table_1 \n",
    "  JOIN table_2 ON table_1.column_name = table_2.column_name;"
   ]
  },
  {
   "cell_type": "code",
   "execution_count": null,
   "metadata": {},
   "outputs": [],
   "source": [
    "# INSERT statements are used to add a new row to a table.\n",
    "INSERT INTO table_name (column_1, column_2, column_3) \n",
    "VALUES \n",
    "  (value_1, 'value_2', value_3);"
   ]
  },
  {
   "cell_type": "code",
   "execution_count": null,
   "metadata": {},
   "outputs": [],
   "source": [
    "# IS NULL and IS NOT NULL are operators used with the WHERE clause to test for empty values.\n",
    "SELECT \n",
    "  column_name(s) \n",
    "FROM \n",
    "  table_name \n",
    "WHERE \n",
    "  column_name IS NULL;"
   ]
  },
  {
   "cell_type": "code",
   "execution_count": null,
   "metadata": {},
   "outputs": [],
   "source": [
    "# LIKE is a special operator used with the WHERE clause to search for \n",
    "# a specific pattern in a column.\n",
    "SELECT \n",
    "  column_name(s) \n",
    "FROM \n",
    "  table_name \n",
    "WHERE \n",
    "  column_name LIKE pattern;"
   ]
  },
  {
   "cell_type": "code",
   "execution_count": null,
   "metadata": {},
   "outputs": [],
   "source": [
    "# LIMIT is a clause that lets you specify\n",
    "# the maximum number of rows the result set will have.\n",
    "SELECT \n",
    "  column_name(s) \n",
    "FROM \n",
    "  table_name \n",
    "LIMIT \n",
    "  number;"
   ]
  },
  {
   "cell_type": "code",
   "execution_count": null,
   "metadata": {},
   "outputs": [],
   "source": [
    "# MAX() is a function that takes the name of a column as an argument \n",
    "# and returns the largest value in that column.\n",
    "SELECT \n",
    "  MAX(column_name) \n",
    "FROM \n",
    "  table_name;"
   ]
  },
  {
   "cell_type": "code",
   "execution_count": 5,
   "metadata": {},
   "outputs": [],
   "source": [
    "# MIN() is a function that takes the name of a column as an argument \n",
    "# and returns the smallest value in that column.\n",
    "SELECT \n",
    "  MIN(column_name) \n",
    "FROM \n",
    "  table_name;"
   ]
  },
  {
   "cell_type": "code",
   "execution_count": null,
   "metadata": {},
   "outputs": [],
   "source": [
    "# OR is an operator that filters the result set to only include rows where \n",
    "# either condition is true.\n",
    "SELECT \n",
    "  column_name \n",
    "FROM \n",
    "  table_name \n",
    "WHERE \n",
    "  column_name = value_1 \n",
    "  OR column_name = value_2;"
   ]
  },
  {
   "cell_type": "code",
   "execution_count": null,
   "metadata": {},
   "outputs": [],
   "source": [
    "# ORDER BY is a clause that indicates you want to sort the result set \n",
    "# by a particular column either alphabetically or numerically.\n",
    "SELECT \n",
    "  column_name \n",
    "FROM \n",
    "  table_name \n",
    "ORDER BY \n",
    "  column_name ASC | DESC;"
   ]
  },
  {
   "cell_type": "code",
   "execution_count": null,
   "metadata": {},
   "outputs": [],
   "source": [
    "# An outer JOIN will combine rows from different tables even if \n",
    "# the join condition is not met. \n",
    "# Every row in the left table is returned in the result set, \n",
    "# and if the join condition is not met, \n",
    "# then NULL values are used to fill in the columns from the right table.\n",
    "SELECT \n",
    "  column_name(s) \n",
    "FROM \n",
    "  table_1 \n",
    "  LEFT JOIN table_2 ON table_1.column_name = table_2.column_name;"
   ]
  },
  {
   "cell_type": "code",
   "execution_count": null,
   "metadata": {},
   "outputs": [],
   "source": [
    "# ROUND() is a function that takes a column name and an integer as arguments.\n",
    "# It rounds the values in the column to the number of decimal places specified by \n",
    "# the integer.\n",
    "SELECT \n",
    "  ROUND(column_name, integer) \n",
    "FROM \n",
    "  table_name;"
   ]
  },
  {
   "cell_type": "code",
   "execution_count": null,
   "metadata": {},
   "outputs": [],
   "source": [
    "# SELECT statements are used to fetch data from a database. \n",
    "# Every query will begin with SELECT.\n",
    "SELECT \n",
    "  column_name \n",
    "FROM \n",
    "  table_name;"
   ]
  },
  {
   "cell_type": "code",
   "execution_count": null,
   "metadata": {},
   "outputs": [],
   "source": [
    "# SELECT DISTINCT specifies that the statement is going to be a query \n",
    "# that returns unique values in the specified column(s).\n",
    "SELECT \n",
    "  DISTINCT column_name \n",
    "FROM \n",
    "  table_name;"
   ]
  },
  {
   "cell_type": "code",
   "execution_count": null,
   "metadata": {},
   "outputs": [],
   "source": [
    "# SUM() is a function that takes the name of a column as an argument \n",
    "# and returns the sum of all the values in that column.\n",
    "SELECT \n",
    "  SUM(column_name) \n",
    "FROM \n",
    "  table_name;"
   ]
  },
  {
   "cell_type": "code",
   "execution_count": null,
   "metadata": {},
   "outputs": [],
   "source": [
    "# UPDATE statements allow you to edit rows in a table.\n",
    "UPDATE \n",
    "  table_name \n",
    "SET \n",
    "  some_column = some_value \n",
    "WHERE \n",
    "  some_column = some_value;"
   ]
  },
  {
   "cell_type": "code",
   "execution_count": null,
   "metadata": {},
   "outputs": [],
   "source": [
    "# WHERE is a clause that indicates you want to filter the result set to include \n",
    "# only rows where the following condition is true.\n",
    "SELECT \n",
    "  column_name(s) \n",
    "FROM \n",
    "  table_name \n",
    "WHERE \n",
    "  column_name operator value;"
   ]
  },
  {
   "cell_type": "code",
   "execution_count": null,
   "metadata": {},
   "outputs": [],
   "source": [
    "# WITH clause lets you store the result of a query in a temporary table using an alias. \n",
    "# You can also define multiple temporary tables using a comma \n",
    "# and with one instance of the WITH keyword.\n",
    "# The WITH clause is also known as common table expression (CTE) and subquery factoring.\n",
    "WITH temporary_name AS (\n",
    "  SELECT \n",
    "    * \n",
    "  FROM \n",
    "    table_name\n",
    ") \n",
    "SELECT \n",
    "  * \n",
    "FROM \n",
    "  temporary_name \n",
    "WHERE \n",
    "  column_name operator value;"
   ]
  },
  {
   "cell_type": "code",
   "execution_count": null,
   "metadata": {},
   "outputs": [],
   "source": []
  },
  {
   "cell_type": "markdown",
   "metadata": {},
   "source": [
    "LEARN SQL COURSE"
   ]
  },
  {
   "cell_type": "code",
   "execution_count": null,
   "metadata": {},
   "outputs": [],
   "source": [
    "# LESSON 1 'MANIPULATION'"
   ]
  },
  {
   "cell_type": "code",
   "execution_count": null,
   "metadata": {},
   "outputs": [],
   "source": [
    "# SELECT statements are used to fetch data from a database.\n",
    "SELECT \n",
    "  * \n",
    "FROM \n",
    "  celebs;"
   ]
  },
  {
   "cell_type": "code",
   "execution_count": null,
   "metadata": {},
   "outputs": [],
   "source": [
    "# CREATE statements allow us to create a new table in the database.\n",
    "CREATE TABLE table_name (\n",
    "   column_1 data_type, \n",
    "   column_2 data_type, \n",
    "   column_3 data_type\n",
    ");"
   ]
  },
  {
   "cell_type": "code",
   "execution_count": null,
   "metadata": {},
   "outputs": [],
   "source": [
    "# CREATE example\n",
    "CREATE TABLE celebs (\n",
    "  id INTEGER,\n",
    "  name TEXT,\n",
    "  age INTEGER\n",
    ");"
   ]
  },
  {
   "cell_type": "code",
   "execution_count": null,
   "metadata": {},
   "outputs": [],
   "source": [
    "# The INSERT statement inserts a new row into a table\n",
    "INSERT INTO celebs (id, name, age) \n",
    "VALUES \n",
    "  (1, 'Justin Bieber', 22), \n",
    "  (2, 'Beyonce Knowles', 33), \n",
    "  (3, 'Jeremy Lin', 26), \n",
    "  (4, 'Taylor Swift', 26);"
   ]
  },
  {
   "cell_type": "code",
   "execution_count": null,
   "metadata": {},
   "outputs": [],
   "source": [
    "# The ALTER TABLE statement adds a new column to a table.\n",
    "ALTER TABLE \n",
    "  celebs \n",
    "ADD \n",
    "  COLUMN twitter_handle TEXT;"
   ]
  },
  {
   "cell_type": "code",
   "execution_count": null,
   "metadata": {},
   "outputs": [],
   "source": [
    "# The UPDATE statement edits a row in a table. \n",
    "UPDATE \n",
    "  celebs \n",
    "SET \n",
    "  twitter_handle = '@taylorswift13' \n",
    "WHERE \n",
    "  id = 4;"
   ]
  },
  {
   "cell_type": "code",
   "execution_count": null,
   "metadata": {},
   "outputs": [],
   "source": [
    "# The DELETE FROM statement deletes one or more rows from a table.\n",
    "\n",
    "# The statement below deletes all records in the celeb table with no twitter_handle\n",
    "DELETE FROM \n",
    "  celebs \n",
    "WHERE \n",
    "  twitter_handle IS NULL;\n",
    "\n",
    "# To delete only a specific number of rows, you can utilize the LIMIT statement. \n",
    "# The value provided for LIMIT will be how many rows to affect.\n",
    "DELETE FROM \n",
    "  table \n",
    "WHERE \n",
    "  condition \n",
    "LIMIT \n",
    "  5;"
   ]
  },
  {
   "cell_type": "code",
   "execution_count": null,
   "metadata": {},
   "outputs": [],
   "source": [
    "# CONSTRAINTS that add information about how a column can be used \n",
    "# are invoked after specifying the data type for a column.\n",
    "# They can be used to tell the database to reject inserted data that does not \n",
    "# adhere to a certain restriction. \n",
    "# The statement below sets constraints on the celebs table.\n",
    "CREATE TABLE celebs (\n",
    "   id INTEGER PRIMARY KEY, \n",
    "   name TEXT UNIQUE,\n",
    "   date_of_birth TEXT NOT NULL,\n",
    "   date_of_death TEXT DEFAULT 'Not Applicable'\n",
    ");"
   ]
  },
  {
   "cell_type": "code",
   "execution_count": null,
   "metadata": {},
   "outputs": [],
   "source": [
    "# CONSTRAINTS examples:\n",
    "# -- PRIMARY KEY columns can be used to uniquely identify the row. \n",
    "#    Attempts to insert a row with an identical value to a row already \n",
    "#    in the table will result in a constraint violation which will not allow you \n",
    "#    to insert the new row.\n",
    "#    By using a constraint like the PRIMARY KEY, we can ensure that \n",
    "#    every row has their own unique id value.\n",
    "# -- UNIQUE columns have a different value for every row. \n",
    "#    This is similar to PRIMARY KEY except a table can have many different \n",
    "#    UNIQUE columns.\n",
    "# -- NOT NULL columns must have a value. \n",
    "#    Attempts to insert a row without a value for a NOT NULL column will result in \n",
    "#    a constraint violation and the new row will not be inserted.\n",
    "# -- DEFAULT columns take an additional argument that will be the assumed value \n",
    "#    for an inserted row if the new row does not specify a value for that column.\n",
    "\n",
    "# Example\n",
    "CREATE TABLE awards (\n",
    "   id INTEGER PRIMARY KEY,\n",
    "   recipient TEXT NOT NULL,\n",
    "   award_name TEXT DEFAULT 'Grammy'\n",
    ");"
   ]
  },
  {
   "cell_type": "code",
   "execution_count": null,
   "metadata": {},
   "outputs": [],
   "source": [
    "# LESSON 1 REVIEW:\n",
    "# -- CREATE TABLE creates a new table.\n",
    "# -- INSERT INTO adds a new row to a table.\n",
    "# -- SELECT queries data from a table.\n",
    "# -- ALTER TABLE changes an existing table.\n",
    "# -- UPDATE edits a row in a table.\n",
    "# -- DELETE FROM deletes rows from a table."
   ]
  },
  {
   "cell_type": "code",
   "execution_count": null,
   "metadata": {},
   "outputs": [],
   "source": []
  },
  {
   "cell_type": "code",
   "execution_count": null,
   "metadata": {},
   "outputs": [],
   "source": [
    "# LESSON 2 'QUERIES'"
   ]
  },
  {
   "cell_type": "code",
   "execution_count": null,
   "metadata": {},
   "outputs": [],
   "source": [
    "# SELECT all\n",
    "SELECT \n",
    "  * \n",
    "FROM \n",
    "  movies;"
   ]
  },
  {
   "cell_type": "code",
   "execution_count": null,
   "metadata": {},
   "outputs": [],
   "source": [
    "# SELECT specified columns (name, genre, year)\n",
    "SELECT \n",
    "  name, \n",
    "  genre, \n",
    "  year \n",
    "FROM \n",
    "  movies;"
   ]
  },
  {
   "cell_type": "code",
   "execution_count": null,
   "metadata": {},
   "outputs": [],
   "source": [
    "# AS is a keyword in SQL that allows you to rename a column or table using an alias.\n",
    "# When using AS, the columns are not being renamed in the table. The aliases only appear in the result.\n",
    "SELECT \n",
    "  imdb_rating as 'IMDb' \n",
    "FROM \n",
    "  movies;"
   ]
  },
  {
   "cell_type": "code",
   "execution_count": null,
   "metadata": {},
   "outputs": [],
   "source": [
    "# DISTINCT is used to return unique values in the output. It filters out all duplicate values in the specified column(s).\n",
    "SELECT \n",
    "  DISTINCT genre \n",
    "FROM \n",
    "  movies;"
   ]
  },
  {
   "cell_type": "code",
   "execution_count": null,
   "metadata": {},
   "outputs": [],
   "source": [
    "# We can restrict our query results using the WHERE clause in order to obtain only the information we want.\n",
    "SELECT \n",
    "  * \n",
    "FROM \n",
    "  movies \n",
    "WHERE \n",
    "  imdb_rating < 5;"
   ]
  },
  {
   "cell_type": "code",
   "execution_count": null,
   "metadata": {},
   "outputs": [],
   "source": [
    "# LIKE can be a useful operator when you want to compare similar values. \n",
    "# LIKE is a special operator used with the WHERE clause to search for \n",
    "# a specific pattern in a column.\n",
    "SELECT \n",
    "  * \n",
    "FROM \n",
    "  movies \n",
    "WHERE \n",
    "  name LIKE 'Se_en';  # The names Seven and Se7en both match this pattern.\n",
    "\n",
    "# The _ means you can substitute any individual character here without breaking \n",
    "# the pattern. \n",
    "\n",
    "# % is a wildcard character that matches zero or more missing letters in the pattern.\n",
    "# For example:\n",
    "# -- A% matches all movies with names that begin with letter ‘A’\n",
    "# -- %a matches all movies that end with ‘a’\n",
    "# We can also use % both before and after a pattern:\n",
    "SELECT \n",
    "  * \n",
    "FROM \n",
    "  movies \n",
    "WHERE \n",
    "  name LIKE '%man%';\n",
    "\n",
    "# LIKE is not case sensitive."
   ]
  },
  {
   "cell_type": "code",
   "execution_count": null,
   "metadata": {},
   "outputs": [],
   "source": [
    "# Unknown values are indicated by NULL.\n",
    "\n",
    "# It is not possible to test for NULL values with comparison operators, \n",
    "# such as = and !=. \n",
    "# Instead, we will have to use these operators:\n",
    "# -- IS NULL\n",
    "# -- IS NOT NULL\n",
    "SELECT \n",
    "  name \n",
    "FROM \n",
    "  movies \n",
    "WHERE \n",
    "  imdb_rating IS NULL;"
   ]
  },
  {
   "cell_type": "code",
   "execution_count": null,
   "metadata": {},
   "outputs": [],
   "source": [
    "# The BETWEEN operator is used in a WHERE clause to filter the result \n",
    "# set within a certain range. \n",
    "# It accepts two values that are either numbers, text or dates.\n",
    "\n",
    "# Using the BETWEEN operator, write a query that selects all information \n",
    "# about movies whose name begins with the letters ‘D’, ‘E’, and ‘F’.\n",
    "SELECT \n",
    "  * \n",
    "FROM \n",
    "  movies \n",
    "WHERE \n",
    "  name BETWEEN 'D' \n",
    "  AND 'G';\n",
    "\n",
    "# Using the BETWEEN operator, write a new query that selects all information \n",
    "# about movies that were released in the 1970’s.\n",
    "SELECT \n",
    "  * \n",
    "FROM \n",
    "  movies \n",
    "WHERE \n",
    "  year BETWEEN 1970 \n",
    "  AND 1979;\n"
   ]
  },
  {
   "cell_type": "code",
   "execution_count": null,
   "metadata": {},
   "outputs": [],
   "source": [
    "# With AND, both conditions must be true for the row to be included in the result.\n",
    "\n",
    "# let’s retrieve every movie released in the 70’s, that’s also well received. \n",
    "SELECT \n",
    "  * \n",
    "FROM \n",
    "  movies \n",
    "WHERE \n",
    "  year BETWEEN 1990 \n",
    "  AND 1999 \n",
    "  AND genre = 'romance';\n",
    "    \n",
    "# we have a picky friend who only wants to watch old horror films.    \n",
    "SELECT \n",
    "  * \n",
    "FROM \n",
    "  movies \n",
    "WHERE \n",
    "  year < 1985 \n",
    "  AND genre = 'horror';"
   ]
  },
  {
   "cell_type": "code",
   "execution_count": null,
   "metadata": {},
   "outputs": [],
   "source": [
    "# OR operator displays a row if any condition is true.\n",
    "\n",
    "# write a query that returns all movies that were released after 2014 or are action movies.\n",
    "SELECT \n",
    "  * \n",
    "FROM \n",
    "  movies \n",
    "WHERE \n",
    "  year > 2014 \n",
    "  OR genre = 'action'\n",
    "\n",
    "# write a query that returns all movies that are either a romance or a comedy.\n",
    "SELECT \n",
    "  * \n",
    "FROM \n",
    "  movies \n",
    "WHERE \n",
    "  genre = 'romance' \n",
    "  OR genre = 'comedy'"
   ]
  },
  {
   "cell_type": "code",
   "execution_count": null,
   "metadata": {},
   "outputs": [],
   "source": [
    "# Queries can combine multiple conditions using AND and OR without a real limit \n",
    "# to how many conditions you can combine\n",
    "\n",
    "# This will select movies with id values \n",
    "# from 10 to 20 inclusive, OR with id \n",
    "# values from 50 to 60 inclusive.\n",
    "SELECT \n",
    "  * \n",
    "FROM \n",
    "  movies \n",
    "WHERE \n",
    "  (\n",
    "    id > 10 \n",
    "    AND id < 20\n",
    "  ) \n",
    "  OR (\n",
    "    id > 50 \n",
    "    AND id < 60\n",
    "  );"
   ]
  },
  {
   "cell_type": "code",
   "execution_count": null,
   "metadata": {},
   "outputs": [],
   "source": [
    "# We can sort the results using ORDER BY, either alphabetically or numerically. \n",
    "\n",
    "# ORDER BY always goes after WHERE (if WHERE is present).\n",
    "SELECT \n",
    "  * \n",
    "FROM \n",
    "  movies \n",
    "WHERE \n",
    "  imdb_rating > 8 \n",
    "ORDER BY \n",
    "  year DESC;\n",
    "\n",
    "# Suppose we want to retrieve the name and year columns of all the movies, \n",
    "# ordered by their name alphabetically.\n",
    "SELECT \n",
    "  name, \n",
    "  year \n",
    "FROM \n",
    "  movies \n",
    "GROUP BY \n",
    "  name\n",
    "\n",
    "# Write a new query that retrieves the name, year, and imdb_rating columns \n",
    "# of all the movies, ordered highest to lowest by their ratings.\n",
    "SELECT \n",
    "  name, \n",
    "  year, \n",
    "  imdb_rating \n",
    "FROM \n",
    "  movies \n",
    "ORDER BY \n",
    "  imdb_rating DESC;\n",
    "\n",
    "# ORDER BY with multiple columns\n",
    "# Following the ORDER BY, you can list more than one column for which to order the data by.\n",
    "# When ordering by more than one column, it will first order the data on the first column,\n",
    "# then, keeping the previous column order, it will order on the next column, and so on."
   ]
  },
  {
   "cell_type": "code",
   "execution_count": null,
   "metadata": {},
   "outputs": [],
   "source": [
    "# LIMIT lets you specify the maximum number of rows the result set will have.\n",
    "# LIMIT always goes at the very end of the query.\n",
    "# it is not supported in all SQL databases.\n",
    "\n",
    "# write a query that returns the top 3 highest rated movies.\n",
    "SELECT \n",
    "  * \n",
    "FROM \n",
    "  movies \n",
    "ORDER BY \n",
    "  imdb_rating DESC \n",
    "LIMIT \n",
    "  3;"
   ]
  },
  {
   "cell_type": "code",
   "execution_count": null,
   "metadata": {},
   "outputs": [],
   "source": [
    "# A CASE statement allows us to create different outputs \n",
    "# It is SQL’s way of handling if-then logic.\n",
    "\n",
    "SELECT name,\n",
    " CASE\n",
    "  WHEN imdb_rating > 8 THEN 'Fantastic'\n",
    "  WHEN imdb_rating > 6 THEN 'Poorly Received'\n",
    "  ELSE 'Avoid at All Costs'\n",
    " END AS 'Review'  # AS to shorten the name of the new column\n",
    "FROM movies;"
   ]
  },
  {
   "cell_type": "code",
   "execution_count": null,
   "metadata": {},
   "outputs": [],
   "source": [
    "# Same queries:\n",
    "# Option 1:\n",
    "SELECT name,\n",
    " CASE\n",
    "  WHEN genre = 'romance' THEN 'Chill'\n",
    "  WHEN genre = 'comedy'  THEN 'Chill'\n",
    "  ELSE 'Intense'\n",
    " END AS 'Mood'\n",
    "FROM movies;\n",
    "\n",
    "# Option 2:\n",
    "SELECT name,\n",
    " CASE\n",
    "  WHEN genre = 'romance' OR genre = 'comedy' \n",
    "   THEN 'Chill'\n",
    "  ELSE 'Intense'\n",
    " END AS 'Mood'\n",
    "FROM movies;"
   ]
  },
  {
   "cell_type": "code",
   "execution_count": null,
   "metadata": {},
   "outputs": [],
   "source": [
    "# LESSON 2 REVIEW:\n",
    "# -- SELECT is the clause we use every time we want to query information from a database.\n",
    "# -- AS renames a column or table.\n",
    "# -- DISTINCT return unique values.\n",
    "# -- WHERE is a popular command that lets you filter the results of the query based on conditions that you specify.\n",
    "# -- LIKE and BETWEEN are special operators.\n",
    "# -- AND and OR combines multiple conditions.\n",
    "# -- ORDER BY sorts the result.\n",
    "# -- LIMIT specifies the maximum number of rows that the query will return.\n",
    "# -- CASE creates different outputs."
   ]
  },
  {
   "cell_type": "code",
   "execution_count": null,
   "metadata": {},
   "outputs": [],
   "source": []
  },
  {
   "cell_type": "code",
   "execution_count": null,
   "metadata": {},
   "outputs": [],
   "source": [
    "# LESSON 3 'AGGREGATE FUNCTIONS'"
   ]
  },
  {
   "cell_type": "code",
   "execution_count": null,
   "metadata": {},
   "outputs": [],
   "source": [
    "# Quick preview of some important aggregates:\n",
    "# -- COUNT(): count the number of rows\n",
    "# -- SUM(): the sum of the values in a column\n",
    "# -- MAX()/MIN(): the largest/smallest value\n",
    "# -- AVG(): the average of the values in a column\n",
    "# -- ROUND(): round the values in the column"
   ]
  },
  {
   "cell_type": "code",
   "execution_count": null,
   "metadata": {},
   "outputs": [],
   "source": [
    "# COUNT() is a function that takes the name of a column as an argument and counts \n",
    "# the number of non-empty values in that column.\n",
    "\n",
    "# count how many free apps are in the table.\n",
    "SELECT \n",
    "  COUNT(*) \n",
    "FROM \n",
    "  fake_apps \n",
    "WHERE \n",
    "  price == 0;"
   ]
  },
  {
   "cell_type": "code",
   "execution_count": null,
   "metadata": {},
   "outputs": [],
   "source": [
    "# SUM() is a function that takes the name of a column as an argument \n",
    "# and returns the sum of all the values in that column.\n",
    "\n",
    "# what is the total number of downloads for all of the apps combined?\n",
    "SELECT \n",
    "  SUM(downloads) \n",
    "FROM \n",
    "  fake_apps;"
   ]
  },
  {
   "cell_type": "code",
   "execution_count": null,
   "metadata": {},
   "outputs": [],
   "source": [
    "# MAX() and MIN() functions return the highest and lowest values in a column\n",
    "\n",
    "# what is the least number of times an app has been downloaded?\n",
    "SELECT \n",
    "  MIN(downloads) \n",
    "FROM \n",
    "  fake_apps;\n",
    "\n",
    "# How can you make the output show all rows that contain the maximum price, \n",
    "# instead of just top one?\n",
    "SELECT \n",
    "  name, \n",
    "  price \n",
    "FROM \n",
    "  fake_apps \n",
    "WHERE \n",
    "  price = (\n",
    "    SELECT \n",
    "      MAX(price) \n",
    "    FROM \n",
    "      fake_apps\n",
    "  );\n",
    "# rather than SELECT-ing rows from the table where the price is exactly some number \n",
    "# we specify, we compare price to the result of another query, \n",
    "# in this case a MAX query."
   ]
  },
  {
   "cell_type": "code",
   "execution_count": null,
   "metadata": {},
   "outputs": [],
   "source": [
    "# AVG() function to quickly calculate the average value of a particular column.\n",
    "\n",
    "# the average number of downloads for an app in our database:\n",
    "SELECT \n",
    "  AVG(downloads) \n",
    "FROM \n",
    "  fake_apps;\n",
    "\n",
    "# get the average of only the unique values of a column:\n",
    "SELECT \n",
    "  AVG(DISTINCT price) \n",
    "FROM \n",
    "  fake_apps;"
   ]
  },
  {
   "cell_type": "code",
   "execution_count": null,
   "metadata": {},
   "outputs": [],
   "source": [
    "# ROUND() function takes 2 arguments inside the parenthesis: a column name; an integer.\n",
    "# It rounds the values in the column to the number of decimal places specified by \n",
    "# the integer. \n",
    "\n",
    "# return the name column and a rounded price column.\n",
    "SELECT \n",
    "  name, \n",
    "  ROUND(price, 0) \n",
    "FROM \n",
    "  fake_apps;\n",
    "\n",
    "# return the avg price of an app rounded up to 2 decimal places\n",
    "SELECT \n",
    "  ROUND(\n",
    "    AVG(price), \n",
    "      2) \n",
    "FROM \n",
    "  fake_apps;"
   ]
  },
  {
   "cell_type": "code",
   "execution_count": null,
   "metadata": {},
   "outputs": [],
   "source": [
    "# GROUP BY is a clause in SQL that is used with aggregate functions. \n",
    "# It is used in collaboration with the SELECT statement to arrange identical data \n",
    "# into groups.\n",
    "# The GROUP BY statement comes after any WHERE statements, but before ORDER BY or LIMIT.\n",
    "\n",
    "# The result contains the total number of apps for each price.\n",
    "SELECT \n",
    "  price, \n",
    "  COUNT(*) \n",
    "FROM \n",
    "  fake_apps \n",
    "GROUP BY \n",
    "  price;\n",
    "\n",
    "# count the total number of apps that have been downloaded more than 20,000 times, \n",
    "# at each price.\n",
    "SELECT \n",
    "  price, \n",
    "  COUNT(*) \n",
    "FROM \n",
    "  fake_apps \n",
    "WHERE \n",
    "  downloads > 20000 \n",
    "GROUP BY \n",
    "  price;\n",
    "\n",
    "# Write a new query that calculates the total number of downloads for each category.\n",
    "SELECT \n",
    "  category, \n",
    "  SUM(downloads) \n",
    "FROM \n",
    "  fake_apps \n",
    "GROUP BY \n",
    "  category;"
   ]
  },
  {
   "cell_type": "code",
   "execution_count": null,
   "metadata": {},
   "outputs": [],
   "source": [
    "# SQL lets us use column reference(s) in our GROUP BY that will make our lives easier.\n",
    "\n",
    "# We might want to know how many movies have IMDb ratings that round to 1, 2, 3, 4, 5. \n",
    "# Here, the 1 refers to the first column in our SELECT statement, ROUND(imdb_rating).\n",
    "SELECT \n",
    "  ROUND(imdb_rating), \n",
    "  COUNT(name) \n",
    "FROM \n",
    "  movies \n",
    "GROUP BY \n",
    "  1 \n",
    "ORDER BY \n",
    "  1;"
   ]
  },
  {
   "cell_type": "code",
   "execution_count": null,
   "metadata": {},
   "outputs": [],
   "source": [
    "# These are the same:\n",
    "# Option 1:\n",
    "SELECT \n",
    "  category, \n",
    "  price, \n",
    "  AVG(downloads) \n",
    "FROM \n",
    "  fake_apps \n",
    "GROUP BY \n",
    "  category, \n",
    "  price;\n",
    "\n",
    "# Option 2:\n",
    "SELECT \n",
    "  category, \n",
    "  price, \n",
    "  AVG(downloads) \n",
    "FROM \n",
    "  fake_apps \n",
    "GROUP BY \n",
    "  1, \n",
    "  2;"
   ]
  },
  {
   "cell_type": "code",
   "execution_count": null,
   "metadata": {},
   "outputs": [],
   "source": [
    "# HAVING is very similar to WHERE. \n",
    "# In fact, all types of WHERE clauses you learned about thus far \n",
    "# can be used with HAVING.\n",
    "\n",
    "# When we want to limit the results of a query based on values of the individual rows, \n",
    "# use WHERE.\n",
    "\n",
    "# When we want to limit the results of a query based on an aggregate property, \n",
    "# use HAVING. \n",
    "\n",
    "# HAVING statement always comes after GROUP BY, but before ORDER BY and LIMIT.\n",
    "SELECT \n",
    "  year, \n",
    "  genre, \n",
    "  COUNT(name) \n",
    "FROM \n",
    "  movies \n",
    "GROUP BY \n",
    "  1, \n",
    "  2 \n",
    "HAVING \n",
    "  COUNT(name) > 10;\n",
    "\n",
    "# Example\n",
    "# It returns the average downloads (rounded) and the number of apps at each price point.\n",
    "# HAVING clause restricts the query to price points that have more than 10 apps.\n",
    "SELECT \n",
    "  price, \n",
    "  ROUND(\n",
    "    AVG(downloads)\n",
    "  ), \n",
    "  COUNT(*) \n",
    "FROM \n",
    "  fake_apps \n",
    "GROUP BY \n",
    "  price \n",
    "HAVING \n",
    "  COUNT(price) > 10;"
   ]
  },
  {
   "cell_type": "code",
   "execution_count": null,
   "metadata": {},
   "outputs": [],
   "source": [
    "# This will first filter the movies with a box_office > 500000.\n",
    "# Then, it will group those results by genre, and finally restrict\n",
    "# the query to genres that have more than 5 movies.\n",
    "SELECT \n",
    "  genre, \n",
    "  ROUND(\n",
    "    AVG(score)\n",
    "  ) \n",
    "FROM \n",
    "  movies \n",
    "WHERE \n",
    "  box_office > 500000 \n",
    "GROUP BY \n",
    "  genre \n",
    "HAVING \n",
    "  COUNT(*) > 5;"
   ]
  },
  {
   "cell_type": "code",
   "execution_count": null,
   "metadata": {},
   "outputs": [],
   "source": [
    "# LESSON 3 REVIEW:\n",
    "# -- COUNT(): count the number of rows\n",
    "# -- SUM(): the sum of the values in a column\n",
    "# -- MAX()/MIN(): the largest/smallest value\n",
    "# -- AVG(): the average of the values in a column\n",
    "# -- ROUND(): round the values in the column\n",
    "\n",
    "# Aggregate functions combine multiple rows together to form a single value\n",
    "# of more meaningful information:\n",
    "# -- GROUP BY is a clause used with aggregate functions to combine data \n",
    "#    from one or more columns.\n",
    "# -- HAVING limit the results of a query based on an aggregate property."
   ]
  },
  {
   "cell_type": "code",
   "execution_count": null,
   "metadata": {},
   "outputs": [],
   "source": []
  },
  {
   "cell_type": "code",
   "execution_count": null,
   "metadata": {},
   "outputs": [],
   "source": [
    "# LESSON 4 'MULTIPLE TABLES'"
   ]
  },
  {
   "cell_type": "code",
   "execution_count": null,
   "metadata": {},
   "outputs": [],
   "source": [
    "# SQL gives us an easy way to combine tables: it’s called a JOIN.\n",
    "# When we perform a simple JOIN (often called an inner join) \n",
    "# our result only includes rows that match our ON condition.\n",
    "\n",
    "# If we want to combine table_1 and table_2 on customer_id column, we would type:\n",
    "SELECT \n",
    "  * \n",
    "FROM \n",
    "  table_1 \n",
    "  JOIN table_2 ON table_1.customer_id = table_2.customer_id;\n",
    "    \n",
    "# Join orders table and subscriptions table and select all columns.\n",
    "# Make sure to join on the subscription_id column \n",
    "# where description is equal to ‘Fashion Magazine’..\n",
    "SELECT \n",
    "  * \n",
    "FROM \n",
    "  orders \n",
    "  JOIN subscriptions ON orders.subscription_id = subscriptions.subscription_id;\n",
    "WHERE \n",
    "  description = 'Fashion Magazine';\n",
    "\n",
    "# count the number of subscribers of both services\n",
    "SELECT \n",
    "  COUNT(*) AS subscribers_of_both \n",
    "FROM \n",
    "  newspaper \n",
    "  JOIN online ON newspaper.id = online.id;"
   ]
  },
  {
   "cell_type": "code",
   "execution_count": null,
   "metadata": {},
   "outputs": [],
   "source": [
    "# LEFT JOIN will keep all rows from the first table, \n",
    "# regardless of whether there is a matching row in the second table.\n",
    "\n",
    "# LEFT JOIN says: “Return all the data from the first table no matter what. \n",
    "# If there are any matches with the second table, provide that information as well, \n",
    "# but if not, just fill the missing data with NULL values.”\n",
    "\n",
    "# The final result will keep all rows of the first table \n",
    "# but will omit the un-matched rows from the second table.\n",
    "SELECT \n",
    "  * \n",
    "FROM \n",
    "  table1 \n",
    "  LEFT JOIN table2 ON table1.c2 = table2.c2;\n",
    "    \n",
    "# which users do not subscribe to the online edition\n",
    "# (add where clause)\n",
    "SELECT \n",
    "  * \n",
    "FROM \n",
    "  newspaper \n",
    "  LEFT JOIN online ON newspaper.id = online.id \n",
    "WHERE \n",
    "  online.id IS NULL;\n"
   ]
  },
  {
   "cell_type": "code",
   "execution_count": null,
   "metadata": {},
   "outputs": [],
   "source": [
    "# PRIMARY KEYS\n",
    "# Primary keys are unique identifiers that have following requirements:\n",
    "# -- None of the values can be NULL.\n",
    "# -- Each value must be unique.\n",
    "# -- A table can not have more than one primary key column."
   ]
  },
  {
   "cell_type": "code",
   "execution_count": null,
   "metadata": {},
   "outputs": [],
   "source": [
    "# FOREIGN KEYS\n",
    "# When the primary key for one table appears in a different table, \n",
    "# it is called a foreign key. \n",
    "\n",
    "# For example, an _id is a primary key when it appears in classes, \n",
    "# but it will be a foreign key with a name class_id when it appears in students.\n",
    "SELECT \n",
    "  * \n",
    "FROM \n",
    "  classes \n",
    "  JOIN students ON classes.id = students.class_id;"
   ]
  },
  {
   "cell_type": "code",
   "execution_count": null,
   "metadata": {},
   "outputs": [],
   "source": [
    "# CROSS JOIN\n",
    "# Sometimes, we just want to combine all rows of one table with all rows \n",
    "# of another table. \n",
    "\n",
    "# For instance, if we had a table of shirts and a table of pants, \n",
    "# we might want to know all the possible combinations to create different outfits.\n",
    "SELECT \n",
    "  shirts.shirt_color, \n",
    "  pants.pants_color \n",
    "FROM \n",
    "  shirts CROSS \n",
    "  JOIN pants;\n",
    "\n",
    "# A more common usage of CROSS JOIN is when we need to compare each row of a table \n",
    "# to a list of values."
   ]
  },
  {
   "cell_type": "code",
   "execution_count": null,
   "metadata": {},
   "outputs": [],
   "source": [
    "# count the number of customers who were subscribed to the newspaper during March. \n",
    "# “During March” means that the customer’s starting month was in or before March \n",
    "# and final month was in or after March:\n",
    "SELECT \n",
    "  COUNT(*) \n",
    "FROM \n",
    "  newspaper \n",
    "WHERE \n",
    "  start_month <= 3 \n",
    "  AND end_month >= 3;"
   ]
  },
  {
   "cell_type": "code",
   "execution_count": null,
   "metadata": {},
   "outputs": [],
   "source": [
    "# Create a final query where you aggregate over each month \n",
    "# to count the number of subscribers.\n",
    "SELECT \n",
    "  month, \n",
    "  COUNT(*) \n",
    "FROM \n",
    "  newspaper CROSS \n",
    "  JOIN months \n",
    "WHERE \n",
    "  start_month <= month \n",
    "  AND end_month >= month \n",
    "GROUP BY \n",
    "  month;"
   ]
  },
  {
   "cell_type": "code",
   "execution_count": null,
   "metadata": {},
   "outputs": [],
   "source": [
    "# You can CROSS JOIN as many tables as you want.\n",
    "# Example\n",
    "SELECT \n",
    "  shirts.shirt_color, \n",
    "  pants.pants_color, \n",
    "  socks.sock_color \n",
    "FROM \n",
    "  shirts CROSS \n",
    "  JOIN pants CROSS \n",
    "  JOIN socks;"
   ]
  },
  {
   "cell_type": "code",
   "execution_count": null,
   "metadata": {},
   "outputs": [],
   "source": [
    "# Sometimes we just want to stack one dataset on top of the other. The UNION operator\n",
    "# allows us to do that.\n",
    "# When you combine tables with UNION, duplicate rows will be excluded.\n",
    "\n",
    "# SQL has strict rules for appending data:\n",
    "# -- Tables must have the same number of columns.\n",
    "# -- The columns must have the same data types in the same order as the first table.\n",
    "\n",
    "# We’d like to create one big table with both sets of data. \n",
    "SELECT \n",
    "  * \n",
    "FROM \n",
    "  table1 \n",
    "UNION \n",
    "SELECT \n",
    "  * \n",
    "FROM \n",
    "  table2;"
   ]
  },
  {
   "cell_type": "code",
   "execution_count": null,
   "metadata": {},
   "outputs": [],
   "source": [
    "# The WITH statement allows us to perform a separate query \n",
    "# (such as aggregating customer’s subscriptions)\n",
    "# previous_results is the alias that we will use to reference any columns \n",
    "# from the query inside of the WITH clause\n",
    "# We can then go on to do whatever we want with this temporary table \n",
    "# (such as join the temporary table with another table)\n",
    "WITH previous_results AS (\n",
    "   SELECT \n",
    "   ...\n",
    "   ...\n",
    "   ...\n",
    "   ...\n",
    ")\n",
    "SELECT \n",
    "  * \n",
    "FROM \n",
    "  previous_results \n",
    "  JOIN customers ON _____ = _____;\n",
    "\n",
    "# Thus, we are putting a whole first query inside the parentheses () \n",
    "# and giving it a name. After that, we can use this name as if it’s a table \n",
    "# and write a new query using the first query."
   ]
  },
  {
   "cell_type": "code",
   "execution_count": null,
   "metadata": {},
   "outputs": [],
   "source": [
    "# EXAMPLE\n",
    "WITH previous_query AS (\n",
    "  SELECT \n",
    "    customer_id, \n",
    "    COUNT(subscription_id) AS 'subscriptions' \n",
    "  FROM \n",
    "    orders \n",
    "  GROUP BY \n",
    "    customer_id\n",
    ") \n",
    "SELECT \n",
    "  customers.customer_name, \n",
    "  previous_query.subscriptions \n",
    "FROM \n",
    "  previous_query \n",
    "  JOIN customers ON previous_query.customer_id = customers.customer_id;"
   ]
  },
  {
   "cell_type": "code",
   "execution_count": null,
   "metadata": {},
   "outputs": [],
   "source": [
    "# You can use WITH for more than one nested query. \n",
    "# You can do so by listing each query using commas after the WITH.\n",
    "WITH\n",
    "query1 AS (SELECT column1 FROM table1 WHERE condition1),\n",
    "query2 AS (SELECT column2 FROM table2 WHERE condition2)\n",
    "…"
   ]
  },
  {
   "cell_type": "code",
   "execution_count": null,
   "metadata": {},
   "outputs": [],
   "source": [
    "# LESSON 4 REVIEW:\n",
    "# -- JOIN will combine rows from different tables if the join condition is true.\n",
    "# -- LEFT JOIN will return every row in the left table, \n",
    "#    and if the join condition is not met, NULL values are used to fill in the columns \n",
    "#    from the right table.\n",
    "# -- Primary key is a column that serves a unique identifier for the rows in the table.\n",
    "# -- Foreign key is a column that contains the primary key to another table.\n",
    "# -- CROSS JOIN lets us combine all rows of one table with all rows of another table.\n",
    "# -- UNION stacks one dataset on top of another.\n",
    "# -- WITH allows us to define one or more temporary tables that can be used \n",
    "#    in the final query."
   ]
  }
 ],
 "metadata": {
  "kernelspec": {
   "display_name": "Python 3",
   "language": "python",
   "name": "python3"
  },
  "language_info": {
   "codemirror_mode": {
    "name": "ipython",
    "version": 3
   },
   "file_extension": ".py",
   "mimetype": "text/x-python",
   "name": "python",
   "nbconvert_exporter": "python",
   "pygments_lexer": "ipython3",
   "version": "3.7.6"
  }
 },
 "nbformat": 4,
 "nbformat_minor": 4
}
