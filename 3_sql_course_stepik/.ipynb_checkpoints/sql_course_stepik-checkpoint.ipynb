{
 "cells": [
  {
   "cell_type": "markdown",
   "metadata": {},
   "source": [
    "ИНТЕРАКТИВНЫЙ ТРЕНАЖЕР ПО SQL (stepik.org)  \n",
    "(Дальневосточный федеральный университет)\n"
   ]
  },
  {
   "cell_type": "markdown",
   "metadata": {},
   "source": [
    "1. Основы Реляционной Модели и SQL"
   ]
  },
  {
   "cell_type": "code",
   "execution_count": null,
   "metadata": {},
   "outputs": [],
   "source": [
    "# LESSON 1. Отношение (таблица)"
   ]
  },
  {
   "cell_type": "code",
   "execution_count": null,
   "metadata": {},
   "outputs": [],
   "source": [
    "# Типы данных:\n",
    "# INTEGER (INT) -- Целое число, могут принимать значения от -2147483648 до 2147483647\n",
    "\n",
    "# DECIMAL (4, 1) -- Вещественное число, в скобках указывается максимальная\n",
    "# длина числа (включает символы слева и справа от десятичной запятой) \n",
    "# и количество знаков после запятой. Принимают значения в диапазоне -10^38+1 до 10^38-1.\n",
    "\n",
    "# NUMERIC(6,3) -- аналогично DECIMAL\n",
    "\n",
    "# DATE -- дата в формате YYYY-MM-DD\n",
    "\n",
    "# VARCHAR(20) -- Строка длиной не более 255 символов, в скобках указывается максимальная \n",
    "# длина строки"
   ]
  },
  {
   "cell_type": "code",
   "execution_count": null,
   "metadata": {},
   "outputs": [],
   "source": [
    "# Для описания ключевого поля используйте описание:\n",
    "INT PRIMARY KEY AUTO_INCREMENT"
   ]
  },
  {
   "cell_type": "code",
   "execution_count": null,
   "metadata": {},
   "outputs": [],
   "source": [
    "# Task 1\n",
    "# Сформулируйте SQL запрос для создания таблицы book\n",
    "CREATE TABLE book (\n",
    "  book_id INT PRIMARY KEY AUTO_INCREMENT, \n",
    "  title VARCHAR(50), \n",
    "  author VARCHAR(30), \n",
    "  price DECIMAL(8, 2), \n",
    "  amount INT\n",
    ");"
   ]
  },
  {
   "cell_type": "code",
   "execution_count": null,
   "metadata": {},
   "outputs": [],
   "source": [
    "# to comment a block of code in SQL use: /* some text */\n",
    "# to comment a block of code till the end of the line in SQL use: -- some text"
   ]
  },
  {
   "cell_type": "code",
   "execution_count": null,
   "metadata": {},
   "outputs": [],
   "source": [
    "# Task 2\n",
    "# Занесите новую строку в таблицу book \n",
    "INSERT INTO book (title, author, price, amount) \n",
    "VALUES \n",
    "  (\n",
    "    \"Мастер и Маргарита\", \n",
    "    \"Булгаков М.А.\", \n",
    "    670.99, \n",
    "    3\n",
    "  );"
   ]
  },
  {
   "cell_type": "code",
   "execution_count": null,
   "metadata": {},
   "outputs": [],
   "source": [
    "# Task 3\n",
    "# Занесите еще три записи в таблицу book. Каждая строка вставляется отдельным SQL \n",
    "# запросом, запросы обязательно разделять точкой с запятой\n",
    "INSERT INTO book (title, author, price, amount) \n",
    "VALUES ('Белая гвардия', 'Булгаков М.А.', 540.50, 5);\n",
    "  \n",
    "INSERT INTO book (title, author, price, amount) \n",
    "VALUES ('Идиот', 'Достоевский Ф.М.', 460.00, 10);\n",
    "  \n",
    "INSERT INTO book (title, author, price, amount) \n",
    "VALUES ('Братья Карамазовы', 'Достоевский Ф.М.', 799.01, 2);"
   ]
  },
  {
   "cell_type": "code",
   "execution_count": null,
   "metadata": {},
   "outputs": [],
   "source": []
  },
  {
   "cell_type": "code",
   "execution_count": null,
   "metadata": {},
   "outputs": [],
   "source": [
    "# LESSON 2. Выборка данных"
   ]
  },
  {
   "cell_type": "code",
   "execution_count": null,
   "metadata": {},
   "outputs": [],
   "source": []
  },
  {
   "cell_type": "code",
   "execution_count": null,
   "metadata": {},
   "outputs": [],
   "source": []
  },
  {
   "cell_type": "code",
   "execution_count": null,
   "metadata": {},
   "outputs": [],
   "source": []
  },
  {
   "cell_type": "code",
   "execution_count": null,
   "metadata": {},
   "outputs": [],
   "source": []
  },
  {
   "cell_type": "code",
   "execution_count": null,
   "metadata": {},
   "outputs": [],
   "source": []
  },
  {
   "cell_type": "code",
   "execution_count": null,
   "metadata": {},
   "outputs": [],
   "source": []
  },
  {
   "cell_type": "code",
   "execution_count": null,
   "metadata": {},
   "outputs": [],
   "source": []
  },
  {
   "cell_type": "code",
   "execution_count": null,
   "metadata": {},
   "outputs": [],
   "source": []
  },
  {
   "cell_type": "code",
   "execution_count": null,
   "metadata": {},
   "outputs": [],
   "source": []
  }
 ],
 "metadata": {
  "kernelspec": {
   "display_name": "Python 3",
   "language": "python",
   "name": "python3"
  },
  "language_info": {
   "codemirror_mode": {
    "name": "ipython",
    "version": 3
   },
   "file_extension": ".py",
   "mimetype": "text/x-python",
   "name": "python",
   "nbconvert_exporter": "python",
   "pygments_lexer": "ipython3",
   "version": "3.7.6"
  }
 },
 "nbformat": 4,
 "nbformat_minor": 4
}
