{
 "cells": [
  {
   "cell_type": "markdown",
   "metadata": {},
   "source": [
    "ИНТЕРАКТИВНЫЙ ТРЕНАЖЕР ПО SQL (stepik.org)  \n",
    "(Дальневосточный федеральный университет)\n"
   ]
  },
  {
   "cell_type": "markdown",
   "metadata": {},
   "source": [
    "1. Основы Реляционной Модели и SQL"
   ]
  },
  {
   "cell_type": "code",
   "execution_count": null,
   "metadata": {},
   "outputs": [],
   "source": [
    "# LESSON 1. Отношение (таблица)"
   ]
  },
  {
   "cell_type": "code",
   "execution_count": null,
   "metadata": {},
   "outputs": [],
   "source": [
    "# Типы данных:\n",
    "# INTEGER (INT) -- Целое число, могут принимать значения от -2147483648 до 2147483647\n",
    "\n",
    "# DECIMAL (4, 1) -- Вещественное число, в скобках указывается максимальная\n",
    "# длина числа (включает символы слева и справа от десятичной запятой) \n",
    "# и количество знаков после запятой. Принимают значения в диапазоне -10^38+1 до 10^38-1.\n",
    "\n",
    "# NUMERIC(6,3) -- аналогично DECIMAL\n",
    "\n",
    "# DATE -- дата в формате YYYY-MM-DD\n",
    "\n",
    "# VARCHAR(20) -- Строка длиной не более 255 символов, в скобках указывается максимальная \n",
    "# длина строки"
   ]
  },
  {
   "cell_type": "code",
   "execution_count": null,
   "metadata": {},
   "outputs": [],
   "source": [
    "# Для описания ключевого поля используйте описание:\n",
    "INT PRIMARY KEY AUTO_INCREMENT"
   ]
  },
  {
   "cell_type": "code",
   "execution_count": null,
   "metadata": {},
   "outputs": [],
   "source": [
    "# Task 1\n",
    "# Сформулируйте SQL запрос для создания таблицы book\n",
    "CREATE TABLE book (\n",
    "  book_id INT PRIMARY KEY AUTO_INCREMENT, \n",
    "  title VARCHAR(50), \n",
    "  author VARCHAR(30), \n",
    "  price DECIMAL(8, 2), \n",
    "  amount INT\n",
    ");"
   ]
  },
  {
   "cell_type": "code",
   "execution_count": null,
   "metadata": {},
   "outputs": [],
   "source": [
    "# to comment a block of code in SQL use: /* some text */\n",
    "# to comment a block of code till the end of the line in SQL use: -- some text"
   ]
  },
  {
   "cell_type": "code",
   "execution_count": null,
   "metadata": {},
   "outputs": [],
   "source": [
    "# Task 2\n",
    "# Занесите новую строку в таблицу book \n",
    "INSERT INTO book (title, author, price, amount) \n",
    "VALUES \n",
    "  (\n",
    "    \"Мастер и Маргарита\", \n",
    "    \"Булгаков М.А.\", \n",
    "    670.99, \n",
    "    3\n",
    "  );"
   ]
  },
  {
   "cell_type": "code",
   "execution_count": null,
   "metadata": {},
   "outputs": [],
   "source": [
    "# Task 3\n",
    "# Занесите еще три записи в таблицу book. Каждая строка вставляется отдельным SQL \n",
    "# запросом, запросы обязательно разделять точкой с запятой\n",
    "INSERT INTO book (title, author, price, amount) \n",
    "VALUES ('Белая гвардия', 'Булгаков М.А.', 540.50, 5);\n",
    "  \n",
    "INSERT INTO book (title, author, price, amount) \n",
    "VALUES ('Идиот', 'Достоевский Ф.М.', 460.00, 10);\n",
    "  \n",
    "INSERT INTO book (title, author, price, amount) \n",
    "VALUES ('Братья Карамазовы', 'Достоевский Ф.М.', 799.01, 2);"
   ]
  },
  {
   "cell_type": "code",
   "execution_count": null,
   "metadata": {},
   "outputs": [],
   "source": []
  },
  {
   "cell_type": "code",
   "execution_count": null,
   "metadata": {},
   "outputs": [],
   "source": [
    "# LESSON 2. Выборка данных"
   ]
  },
  {
   "cell_type": "code",
   "execution_count": null,
   "metadata": {},
   "outputs": [],
   "source": [
    "# В окне кода можно использовать комментарии для сохранения разных \n",
    "# вариантов запросов или пояснений. Комментарии заключаются в /* и */"
   ]
  },
  {
   "cell_type": "code",
   "execution_count": null,
   "metadata": {},
   "outputs": [],
   "source": [
    "# Task 1\n",
    "# Вывести информацию о всех книгах, хранящихся на складе. \n",
    "SELECT \n",
    "  * \n",
    "FROM \n",
    "  book;"
   ]
  },
  {
   "cell_type": "code",
   "execution_count": null,
   "metadata": {},
   "outputs": [],
   "source": [
    "# Task 2\n",
    "# Выбрать авторов, название книг и их цену из таблицы book.\n",
    "SELECT \n",
    "  author, \n",
    "  title, \n",
    "  price \n",
    "FROM \n",
    "  book;"
   ]
  },
  {
   "cell_type": "code",
   "execution_count": null,
   "metadata": {},
   "outputs": [],
   "source": [
    "# Task 3\n",
    "# Выбрать названия книг и авторов из таблицы book, \n",
    "# для поля title задать новое имя Название, для поля author –  Автор.\n",
    "SELECT \n",
    "  title AS 'Название', \n",
    "  author AS 'Автор' \n",
    "FROM \n",
    "  book;"
   ]
  },
  {
   "cell_type": "code",
   "execution_count": null,
   "metadata": {},
   "outputs": [],
   "source": [
    "# Task 4\n",
    "# Для упаковки каждой книги требуется 1 лист бумаги, \n",
    "# цена которого 1 рубль 65 копеек. \n",
    "# Посчитать стоимость упаковки для каждой книги \n",
    "# (сколько денег потребуется, чтобы упаковать все экземпляры книги). \n",
    "# В запросе вывести название книги, ее количество и стоимость упаковки, \n",
    "# последний столбец назвать pack.\n",
    "SELECT \n",
    "  title, \n",
    "  amount, \n",
    "  amount * 1.65 AS pack \n",
    "FROM \n",
    "  book;"
   ]
  },
  {
   "cell_type": "code",
   "execution_count": null,
   "metadata": {},
   "outputs": [],
   "source": [
    "# В SQL реализовано множество  математических функций для работы \n",
    "# с числовыми данными.Некоторые из них.\n",
    "\n",
    "# CEILING(x) -- возвращает наименьшее число, большее или равное Х\n",
    "\n",
    "# ROUND(x, k) -- округляет значение Х до К знаков после запятой,\n",
    "#                если К не указано, Х округляется до целого\n",
    "\n",
    "# FLOOR(x) -- возвращает наибольшее целое число, меньшее или равное Х\n",
    "#             floor(4.2)=4; floor(-5.8)=-6\n",
    "\n",
    "# POWER(x, y) -- возведение Х в степень У\n",
    "\n",
    "# SQRT(X) -- квадратный корень из Х\n",
    "\n",
    "# DEGREES(x) -- конвертирует значение Х из радианы в градусы\n",
    "\n",
    "# RADIANS(x) -- конвертирует значение Х из градусов в радианы\n",
    "\n",
    "# ABS(x) -- модуль числа Х\n",
    "\n",
    "# PI() -- число pi = 3.1415926.."
   ]
  },
  {
   "cell_type": "code",
   "execution_count": null,
   "metadata": {},
   "outputs": [],
   "source": [
    "# Task 5\n",
    "# В конце года цену всех книг на складе пересчитывают – снижают ее на 30%. \n",
    "# Написать SQL запрос, который из таблицы book выбирает \n",
    "# названия, авторов, количества и вычисляет новые цены книг. \n",
    "# Столбец с новой ценой назвать new_price, цену округлить до 2-х знаков \n",
    "# после запятой.\n",
    "SELECT \n",
    "  title, \n",
    "  author, \n",
    "  amount, \n",
    "  ROUND(price * 0.7, 2) AS new_price \n",
    "FROM \n",
    "  book;"
   ]
  },
  {
   "cell_type": "code",
   "execution_count": null,
   "metadata": {},
   "outputs": [],
   "source": [
    "# В SQL реализована возможность заносить в поле значение \n",
    "# в зависимости от условия:\n",
    "# IF(логическое_выражение, выражение_1, выражение_2)\n",
    "\n",
    "# Допускается использование вложенных функций, вместо выражения_1 \n",
    "# или выражения_2 может стоять новая функция IF."
   ]
  },
  {
   "cell_type": "code",
   "execution_count": null,
   "metadata": {},
   "outputs": [],
   "source": [
    "# Example:\n",
    "# Вычисление скидки в зависимости от количества книг. \n",
    "# Если количество книг меньше 4 – то скидка 50%, меньше 11 – 30%, \n",
    "# в остальных случаях – 10%. \n",
    "# И еще укажем какая именно скидка на каждую книгу.\n",
    "SELECT \n",
    "  title, \n",
    "  amount, \n",
    "  price, \n",
    "  round(\n",
    "    IF(\n",
    "      amount < 4, \n",
    "      price * 0.5, \n",
    "      IF(amount < 11, price * 0.7, price * 0.9)\n",
    "    ), \n",
    "    2\n",
    "  ) AS sale, \n",
    "  IF(\n",
    "    amount < 4, \n",
    "    'скидка 50%', \n",
    "    IF(\n",
    "      amount < 11, 'скидка 30%', 'скидка 10%'\n",
    "    )\n",
    "  ) AS Ваша_скидка \n",
    "FROM \n",
    "  book;"
   ]
  },
  {
   "cell_type": "code",
   "execution_count": null,
   "metadata": {},
   "outputs": [],
   "source": [
    "# Task 6\n",
    "# При анализе продаж книг выяснилось, что наибольшей популярностью пользуются\n",
    "# книги Михаила Булгакова, на втором месте книги Сергея Есенина.\n",
    "# Исходя из этого решили поднять цену книг Булгакова на 10%, \n",
    "# а цену книг Есенина - на 5%. Написать запрос, куда включить автора, \n",
    "# название книги и новую цену, последний столбец назвать new_price. \n",
    "# Значение округлить до двух знаков после запятой.\n",
    "SELECT \n",
    "  author, \n",
    "  title, \n",
    "  round(\n",
    "    IF(\n",
    "      author = 'Булгаков М.А.', \n",
    "      price * 1.1, \n",
    "      IF(\n",
    "        author = 'Есенин С.А.', price * 1.05, \n",
    "        price\n",
    "      )\n",
    "    ), \n",
    "    2\n",
    "  ) AS new_price \n",
    "FROM \n",
    "  book;"
   ]
  },
  {
   "cell_type": "code",
   "execution_count": null,
   "metadata": {},
   "outputs": [],
   "source": [
    "# WHERE\n",
    "# Логическое выражение может включать операторы сравнения:\n",
    "# равно «=», \n",
    "# не равно «<>», \n",
    "# больше «>», \n",
    "# меньше «<», \n",
    "# больше или равно«>=», \n",
    "# меньше или равно «<=») \n",
    "# и выражения, допустимые в SQL.\n",
    "\n",
    "# В логическом выражении после WHERE нельзя использовать названия столбцов,\n",
    "# присвоенные им с помощью AS"
   ]
  },
  {
   "cell_type": "code",
   "execution_count": null,
   "metadata": {},
   "outputs": [],
   "source": [
    "# Task 7\n",
    "# Вывести автора, название  и цены тех книг, количество которых меньше 10.\n",
    "SELECT \n",
    "  author, \n",
    "  title, \n",
    "  price \n",
    "FROM \n",
    "  book \n",
    "WHERE \n",
    "  amount < 10;"
   ]
  },
  {
   "cell_type": "code",
   "execution_count": null,
   "metadata": {},
   "outputs": [],
   "source": [
    "# Логическое выражение после ключевого слова WHERE \n",
    "# кроме операторов сравненияи выражений может включать логические операции \n",
    "# (И «and», ИЛИ «or», НЕ «not») и круглые скобки, \n",
    "# изменяющие приоритеты выполнения операций."
   ]
  },
  {
   "cell_type": "code",
   "execution_count": null,
   "metadata": {},
   "outputs": [],
   "source": [
    "# Приоритеты операций:\n",
    "# -- круглые скобки\n",
    "# -- умножение  (*),  деление (/)\n",
    "# -- сложение  (+), вычитание (-)\n",
    "# -- операторы сравнения (=, >, <, >=, <=, <>)\n",
    "# -- NOT\n",
    "# -- AND\n",
    "# -- OR"
   ]
  },
  {
   "cell_type": "code",
   "execution_count": null,
   "metadata": {},
   "outputs": [],
   "source": [
    "# Task 8\n",
    "# Вывести название, автора,  цену  и количество всех книг, \n",
    "# цена которых меньше 500 или больше 600, \n",
    "# а стоимость всех экземпляров этих книг больше или равна 5000.\n",
    "SELECT \n",
    "  title, \n",
    "  author, \n",
    "  price, \n",
    "  amount \n",
    "FROM \n",
    "  book \n",
    "WHERE \n",
    "  (\n",
    "    price < 500 \n",
    "    OR price > 600\n",
    "  ) \n",
    "  AND price * amount >= 5000;"
   ]
  },
  {
   "cell_type": "code",
   "execution_count": null,
   "metadata": {},
   "outputs": [],
   "source": [
    "# Логическое выражение после ключевого слова WHERE может включать операторы\n",
    "# BETWEEN и IN. Эти операторы имеют самый низкий приоритет (как  OR).\n",
    "\n",
    "# Example (BETWEEN - интервал включая его границы):\n",
    "SELECT title, amount \n",
    "FROM book\n",
    "WHERE amount BETWEEN 5 AND 14;\n",
    "\n",
    "# Example (IN):\n",
    "SELECT title, price \n",
    "FROM book\n",
    "WHERE author IN ('Булгаков М.А.', 'Достоевский Ф.М.');"
   ]
  },
  {
   "cell_type": "code",
   "execution_count": null,
   "metadata": {},
   "outputs": [],
   "source": [
    "# Task 9\n",
    "# Вывести название и авторов тех книг, \n",
    "# цены которых принадлежат интервалу от 540.50 до 800 (включая границы),  \n",
    "# а количество или 2, или 3, или 5, или 7.\n",
    "SELECT \n",
    "  title, \n",
    "  author \n",
    "FROM \n",
    "  book \n",
    "WHERE \n",
    "  (\n",
    "    price BETWEEN 540.50 \n",
    "    AND 800\n",
    "  ) \n",
    "  AND amount IN (2, 3, 5, 7);"
   ]
  },
  {
   "cell_type": "code",
   "execution_count": null,
   "metadata": {},
   "outputs": [],
   "source": [
    "# Оператор LIKE используется для сравнения строк. \n",
    "# В отличие от операторов отношения равно (=) и не равно (<>), \n",
    "# LIKE позволяет сравнивать строки не на полное совпадение (не совпадение), \n",
    "# а в соответствии с шаблоном. \n",
    "# Шаблон может включать обычные символы и символы-шаблоны:\n",
    "# % -- Любая строка, содержащая ноль или более символов\n",
    "# _ -- Любой одиночный символ\n",
    "\n",
    "# Example:\n",
    "# выполняет поиск и выдает все книги, инициалы авторов которых содержат «М.»\n",
    "SELECT * FROM book WHERE author LIKE '%М.%'; \n",
    "\n",
    "# Example:\n",
    "# выполняет выдает книги, названия которых либо «Поэма», либо «Поэмы» и пр.\n",
    "SELECT * FROM book WHERE title LIKE 'Поэм_'; \n",
    "\n",
    "# Example:\n",
    "# Вывести название книг, состоящих ровно из 5 букв.\n",
    "SELECT title FROM book \n",
    "WHERE title LIKE \"_____\"\n",
    "\n",
    "# Example:\n",
    "# Вывести книги, название которых длиннее 5 символов:\n",
    "SELECT title FROM book \n",
    "WHERE title LIKE \"______%\";\n",
    "# эквивалентные условия \n",
    "# title LIKE \"%______\"\n",
    "# title LIKE \"%______%\"\n",
    "\n",
    "# Example:\n",
    "# Вывести названия книг, которые состоят ровно из одного слова, \n",
    "# если считать, что слова в названии отделяются друг от друга пробелами .\n",
    "SELECT title FROM book \n",
    "WHERE title NOT LIKE \"% %\";    \n",
    "\n",
    "\n",
    "# NB! Строчные и прописные буквы в строках эквивалентны."
   ]
  },
  {
   "cell_type": "code",
   "execution_count": null,
   "metadata": {},
   "outputs": [],
   "source": [
    "# Task 10\n",
    "# Вывести название и автора тех книг, название которых состоит из двух и более\n",
    "# слов, а инициалы автора содержат букву «С». \n",
    "# Считать, что в названии слова отделяются друг от друга пробелами и \n",
    "# не содержат знаков препинания, между фамилией автора и инициалами \n",
    "# обязателен пробел, инициалы записываются без пробела в формате: \n",
    "# буква, точка, буква, точка.\n",
    "SELECT \n",
    "  title, \n",
    "  author \n",
    "FROM \n",
    "  book \n",
    "WHERE \n",
    "  title LIKE '_% _%' \n",
    "  AND author LIKE '%С.%';"
   ]
  },
  {
   "cell_type": "code",
   "execution_count": null,
   "metadata": {},
   "outputs": [],
   "source": [
    "# При выборке можно указывать столбец или несколько столбцов, \n",
    "# по которым необходимо отсортировать отобранные строки. \n",
    "# Для этого используются ключевые слова ORDER BY, \n",
    "# после которых задаются имена столбцов. \n",
    "\n",
    "# По умолчанию ORDER BY выполняет сортировку по возрастанию. \n",
    "# Чтобы управлять направлением сортировки вручную, \n",
    "# после имени столбца указывается ключевое слово ASC (по возрастанию) \n",
    "# или DESC (по убыванию). \n",
    "\n",
    "# Example\n",
    "# Вывести автора, название и количество книг, \n",
    "# в отсортированном в алфавитном порядке по автору и по убыванию количества,\n",
    "# для тех книг, цены которых меньше 750 рублей.\n",
    "SELECT author, title, amount AS Количество\n",
    "FROM book\n",
    "WHERE price < 750\n",
    "ORDER BY author, amount DESC;"
   ]
  },
  {
   "cell_type": "code",
   "execution_count": null,
   "metadata": {},
   "outputs": [],
   "source": [
    "# Task 11\n",
    "# Вывести  автора и название  книг, количество которых принадлежит \n",
    "# интервалу от 2 до 14 (включая границы). \n",
    "# Информацию  отсортировать по авторам (в обратном алфавитном порядке) \n",
    "# и названиям (по алфавиту).\n",
    "SELECT \n",
    "  author, \n",
    "  title \n",
    "FROM \n",
    "  book \n",
    "WHERE \n",
    "  amount BETWEEN 2 \n",
    "  AND 14 \n",
    "ORDER BY \n",
    "  author DESC, \n",
    "  title;"
   ]
  },
  {
   "cell_type": "code",
   "execution_count": null,
   "metadata": {},
   "outputs": [],
   "source": [
    "# Task 12\n",
    "# Your own query\n",
    "SELECT \n",
    "  author, \n",
    "  title, \n",
    "  price * amount AS inventory_price \n",
    "FROM \n",
    "  book \n",
    "WHERE \n",
    "  price * amount BETWEEN 2000 \n",
    "  AND 4000 \n",
    "ORDER BY \n",
    "  inventory_price DESC;"
   ]
  },
  {
   "cell_type": "code",
   "execution_count": null,
   "metadata": {},
   "outputs": [],
   "source": []
  },
  {
   "cell_type": "code",
   "execution_count": null,
   "metadata": {},
   "outputs": [],
   "source": [
    "# LESSON 3. Запросы, групповые операции"
   ]
  },
  {
   "cell_type": "code",
   "execution_count": null,
   "metadata": {},
   "outputs": [],
   "source": [
    "# Task 1"
   ]
  },
  {
   "cell_type": "code",
   "execution_count": null,
   "metadata": {},
   "outputs": [],
   "source": []
  },
  {
   "cell_type": "code",
   "execution_count": null,
   "metadata": {},
   "outputs": [],
   "source": []
  },
  {
   "cell_type": "code",
   "execution_count": null,
   "metadata": {},
   "outputs": [],
   "source": []
  },
  {
   "cell_type": "code",
   "execution_count": null,
   "metadata": {},
   "outputs": [],
   "source": []
  },
  {
   "cell_type": "code",
   "execution_count": null,
   "metadata": {},
   "outputs": [],
   "source": []
  },
  {
   "cell_type": "code",
   "execution_count": null,
   "metadata": {},
   "outputs": [],
   "source": []
  }
 ],
 "metadata": {
  "kernelspec": {
   "display_name": "Python 3",
   "language": "python",
   "name": "python3"
  },
  "language_info": {
   "codemirror_mode": {
    "name": "ipython",
    "version": 3
   },
   "file_extension": ".py",
   "mimetype": "text/x-python",
   "name": "python",
   "nbconvert_exporter": "python",
   "pygments_lexer": "ipython3",
   "version": "3.7.6"
  }
 },
 "nbformat": 4,
 "nbformat_minor": 4
}
