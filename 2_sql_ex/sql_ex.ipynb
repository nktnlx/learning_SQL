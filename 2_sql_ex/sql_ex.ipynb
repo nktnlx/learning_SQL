{
 "cells": [
  {
   "cell_type": "markdown",
   "metadata": {},
   "source": [
    "SQL-EX.RU"
   ]
  },
  {
   "cell_type": "markdown",
   "metadata": {},
   "source": [
    "DATABASE DESCRIPTION \"Computer firm\":\n",
    "\n",
    "The database scheme consists of four tables:  \n",
    "* Product(maker, model, type)  \n",
    "* PC(code, model, speed, ram, hd, cd, price)  \n",
    "* Laptop(code, model, speed, ram, hd, screen, price)  \n",
    "* Printer(code, model, color, type, price)  \n",
    "\n",
    "The Product table contains data on the maker, model number, and type of product ('PC', 'Laptop', or 'Printer'). It is assumed that model numbers in the Product table are unique for all makers and product types. Each personal computer in the PC table is unambiguously identified by a unique code, and is additionally characterized by its model (foreign key referring to the Product table), processor speed (in MHz) – speed field, RAM capacity (in Mb) - ram, hard disk drive capacity (in Gb) – hd, CD-ROM speed (e.g, '4x') - cd, and its price. The Laptop table is similar to the PC table, except that instead of the CD-ROM speed, it contains the screen size (in inches) – screen. For each printer model in the Printer table, its output type (‘y’ for color and ‘n’ for monochrome) – color field, printing technology ('Laser', 'Jet', or 'Matrix') – type, and price are specified."
   ]
  },
  {
   "cell_type": "code",
   "execution_count": null,
   "metadata": {},
   "outputs": [],
   "source": [
    "# Task 1\n",
    "# Find the model number, speed and hard drive capacity for all the PCs with prices \n",
    "# below $500.\n",
    "# Result set: model, speed, hd.\n",
    "SELECT \n",
    "  model, \n",
    "  speed, \n",
    "  hd \n",
    "FROM \n",
    "  pc \n",
    "WHERE \n",
    "  price < 500;"
   ]
  },
  {
   "cell_type": "code",
   "execution_count": null,
   "metadata": {},
   "outputs": [],
   "source": [
    "# Task 2\n",
    "# List all printer makers. \n",
    "# Result set: maker. \n",
    "SELECT \n",
    "  DISTINCT maker \n",
    "FROM \n",
    "  product \n",
    "WHERE \n",
    "  type = 'Printer';"
   ]
  },
  {
   "cell_type": "code",
   "execution_count": null,
   "metadata": {},
   "outputs": [],
   "source": [
    "# Task 3\n",
    "# Find the model number, RAM and screen size of the laptops with prices over $1000. \n",
    "SELECT \n",
    "  model, \n",
    "  ram, \n",
    "  screen \n",
    "FROM \n",
    "  laptop \n",
    "WHERE \n",
    "  price > 1000;"
   ]
  },
  {
   "cell_type": "code",
   "execution_count": null,
   "metadata": {},
   "outputs": [],
   "source": [
    "# Task 4\n",
    "# Find all records from the Printer table containing data about color printers.\n",
    "SELECT \n",
    "  * \n",
    "FROM \n",
    "  printer \n",
    "WHERE \n",
    "  color = 'y';"
   ]
  },
  {
   "cell_type": "code",
   "execution_count": null,
   "metadata": {},
   "outputs": [],
   "source": [
    "# Task 5\n",
    "# Find the model number, speed and hard drive capacity of PCs cheaper than \n",
    "# $600 having a 12x or a 24x CD drive. \n",
    "SELECT \n",
    "  model, \n",
    "  speed, \n",
    "  hd \n",
    "FROM \n",
    "  pc \n",
    "WHERE \n",
    "  (\n",
    "    cd = '12x' \n",
    "    OR cd = '24x'\n",
    "  ) \n",
    "  AND price < 600;"
   ]
  },
  {
   "cell_type": "code",
   "execution_count": null,
   "metadata": {},
   "outputs": [],
   "source": [
    "# Task 6\n",
    "# For each maker producing laptops with a hard drive capacity of 10 Gb or higher, \n",
    "# find the speed of such laptops. \n",
    "# Result set: maker, speed. \n",
    "SELECT \n",
    "  DISTINCT maker, \n",
    "  speed \n",
    "FROM \n",
    "  product \n",
    "  JOIN laptop ON product.model = laptop.model \n",
    "WHERE \n",
    "  hd >= 10;"
   ]
  },
  {
   "cell_type": "code",
   "execution_count": null,
   "metadata": {},
   "outputs": [],
   "source": [
    "# Task 7\n",
    "# Get the models and prices for all commercially available products (of any type) \n",
    "# produced by maker B. \n",
    "SELECT \n",
    "  DISTINCT product.model, \n",
    "  price \n",
    "FROM \n",
    "  product \n",
    "  JOIN pc ON product.model = pc.model \n",
    "WHERE \n",
    "  maker = 'B' \n",
    "UNION \n",
    "SELECT \n",
    "  DISTINCT product.model, \n",
    "  price \n",
    "FROM \n",
    "  product \n",
    "  JOIN laptop ON product.model = laptop.model \n",
    "WHERE \n",
    "  maker = 'B' \n",
    "UNION \n",
    "SELECT \n",
    "  DISTINCT product.model, \n",
    "  price \n",
    "FROM \n",
    "  product \n",
    "  JOIN printer ON product.model = printer.model \n",
    "WHERE \n",
    "  maker = 'B';"
   ]
  },
  {
   "cell_type": "code",
   "execution_count": null,
   "metadata": {},
   "outputs": [],
   "source": [
    "# Task 8\n",
    "# Find the makers producing PCs but not laptops. \n",
    "SELECT \n",
    "  DISTINCT maker \n",
    "FROM \n",
    "  product \n",
    "WHERE \n",
    "  type = 'PC' \n",
    "  AND maker NOT in (\n",
    "    SELECT \n",
    "      DISTINCT maker \n",
    "    FROM \n",
    "      product \n",
    "    WHERE \n",
    "      type = 'Laptop'\n",
    "  );"
   ]
  },
  {
   "cell_type": "code",
   "execution_count": null,
   "metadata": {},
   "outputs": [],
   "source": [
    "# Task 9\n",
    "# Find the makers of PCs with a processor speed of 450 MHz or more. \n",
    "# Result set: maker. \n",
    "SELECT \n",
    "  DISTINCT maker \n",
    "FROM \n",
    "  product \n",
    "  JOIN pc ON product.model = pc.model \n",
    "WHERE \n",
    "  pc.speed >= 450;"
   ]
  },
  {
   "cell_type": "code",
   "execution_count": null,
   "metadata": {},
   "outputs": [],
   "source": [
    "# Task 10\n",
    "# Find the printer models having the highest price. \n",
    "# Result set: model, price.\n",
    "SELECT \n",
    "  model, \n",
    "  price \n",
    "FROM \n",
    "  printer \n",
    "WHERE \n",
    "  price = (\n",
    "    SELECT \n",
    "      MAX(price) \n",
    "    FROM \n",
    "      printer\n",
    "  );"
   ]
  },
  {
   "cell_type": "code",
   "execution_count": null,
   "metadata": {},
   "outputs": [],
   "source": [
    "# Task 11\n",
    "# Find out the average speed of PCs. \n",
    "SELECT \n",
    "  AVG(speed) AS avg_pc_speed \n",
    "FROM \n",
    "  pc;"
   ]
  },
  {
   "cell_type": "code",
   "execution_count": null,
   "metadata": {},
   "outputs": [],
   "source": [
    "# Task 12\n",
    "# Find out the average speed of the laptops priced over $1000. \n",
    "SELECT \n",
    "  AVG(speed) \n",
    "FROM \n",
    "  laptop \n",
    "WHERE \n",
    "  price > 1000;"
   ]
  },
  {
   "cell_type": "code",
   "execution_count": null,
   "metadata": {},
   "outputs": [],
   "source": [
    "# Task 13\n",
    "# Find out the average speed of the PCs produced by maker A. \n",
    "SELECT \n",
    "  AVG(speed) \n",
    "FROM \n",
    "  pc \n",
    "  JOIN product ON pc.model = product.model \n",
    "WHERE \n",
    "  maker = 'A';"
   ]
  },
  {
   "cell_type": "markdown",
   "metadata": {},
   "source": [
    "DATABASE DESCRIPTION \"Ships\":\n",
    "\n",
    "The database of naval ships that took part in World War II is under consideration. The database consists of the following relations:  \n",
    "* Classes(class, type, country, numGuns, bore, displacement)  \n",
    "* Ships(name, class, launched)  \n",
    "* Battles(name, date)  \n",
    "* Outcomes(ship, battle, result)  \n",
    "\n",
    "Ships in classes all have the same general design. A class is normally assigned either the name of the first ship built according to the corresponding design, or a name that is different from any ship name in the database. The ship whose name is assigned to a class is called a lead ship.  \n",
    "The Classes relation includes the name of the class, type (can be either bb for a battle ship, or bc for a battle cruiser), country the ship was built in, the number of main guns, gun caliber (bore diameter in inches), and displacement (weight in tons). The Ships relation holds information about the ship name, the name of its corresponding class, and the year the ship was launched. The Battles relation contains names and dates of battles the ships participated in, and the Outcomes relation - the battle result for a given ship (may be sunk, damaged, or OK, the last value meaning the ship survived the battle unharmed).  \n",
    "\n",
    "Notes: 1) The Outcomes relation may contain ships not present in the Ships relation. 2) A ship sunk can’t participate in later battles. 3) For historical reasons, lead ships are referred to as head ships in many exercises.4) A ship found in the Outcomes table but not in the Ships table is still considered in the database. This is true even if it is sunk."
   ]
  },
  {
   "cell_type": "code",
   "execution_count": null,
   "metadata": {},
   "outputs": [],
   "source": [
    "# Task 14\n",
    "# For the ships in the Ships table that have at least 10 guns, get the class, \n",
    "# name, and country.\n",
    "SELECT \n",
    "  classes.class, \n",
    "  name, \n",
    "  country \n",
    "FROM \n",
    "  classes \n",
    "  JOIN ships ON classes.class = ships.class \n",
    "WHERE \n",
    "  numGuns >= 10;"
   ]
  },
  {
   "cell_type": "code",
   "execution_count": null,
   "metadata": {},
   "outputs": [],
   "source": [
    "# Task 15\n",
    "# Get hard drive capacities that are identical for two or more PCs.\n",
    "# Result set: hd. \n",
    "SELECT \n",
    "  hd \n",
    "FROM \n",
    "  pc \n",
    "GROUP BY \n",
    "  hd \n",
    "HAVING \n",
    "  COUNT(model) >= 2;"
   ]
  },
  {
   "cell_type": "code",
   "execution_count": null,
   "metadata": {},
   "outputs": [],
   "source": [
    "# Task 16\n",
    "# Get pairs of PC models with identical speeds and the same RAM capacity. \n",
    "# Each resulting pair should be displayed only once, i.e. (i, j) but not (j, i).\n",
    "# Result set: model with the bigger number, model with the smaller number, speed, RAM. \n",
    "SELECT \n",
    "  DISTINCT a.model, \n",
    "  b.model, \n",
    "  a.speed, \n",
    "  a.ram \n",
    "FROM \n",
    "  pc AS a, \n",
    "  pc b \n",
    "WHERE \n",
    "  (\n",
    "    a.speed = b.speed \n",
    "    AND a.ram = b.ram\n",
    "  ) \n",
    "  AND a.model > b.model;"
   ]
  },
  {
   "cell_type": "code",
   "execution_count": null,
   "metadata": {},
   "outputs": [],
   "source": [
    "# Task 17\n",
    "# Get the laptop models that have a speed smaller than the speed of any PC.\n",
    "# Result set: type, model, speed. \n",
    "SELECT \n",
    "  DISTINCT product.type AS Type, \n",
    "  laptop.model AS Model, \n",
    "  laptop.speed AS speed \n",
    "FROM \n",
    "  product \n",
    "  JOIN laptop ON product.model = laptop.model \n",
    "WHERE \n",
    "  laptop.speed < (\n",
    "    SELECT \n",
    "      MIN (speed) \n",
    "    FROM \n",
    "      PC\n",
    "  ) \n",
    "  AND product.type = 'laptop';"
   ]
  },
  {
   "cell_type": "code",
   "execution_count": null,
   "metadata": {},
   "outputs": [],
   "source": [
    "# Task 18\n",
    "# Find the makers of the cheapest color printers.\n",
    "# Result set: maker, price.\n",
    "SELECT \n",
    "  DISTINCT product.maker, \n",
    "  printer.price \n",
    "FROM \n",
    "  product \n",
    "  JOIN printer ON product.model = printer.model \n",
    "WHERE \n",
    "  printer.price = (\n",
    "    SELECT \n",
    "      MIN(printer.price) \n",
    "    FROM \n",
    "      printer \n",
    "    WHERE \n",
    "      printer.color = 'y'\n",
    "  ) \n",
    "  AND printer.color = 'y';"
   ]
  },
  {
   "cell_type": "code",
   "execution_count": null,
   "metadata": {},
   "outputs": [],
   "source": [
    "# Task 19\n",
    "# For each maker having models in the Laptop table, find out the average screen size \n",
    "# of the laptops he produces.\n",
    "# Result set: maker, average screen size. \n",
    "SELECT \n",
    "  p.maker, \n",
    "  AVG(l.screen) \n",
    "FROM \n",
    "  product AS p \n",
    "  JOIN laptop AS l ON p.model = l.model \n",
    "GROUP BY \n",
    "  p.maker;"
   ]
  },
  {
   "cell_type": "code",
   "execution_count": null,
   "metadata": {},
   "outputs": [],
   "source": [
    "# Task 20\n",
    "# Find the makers producing at least three distinct models of PCs.\n",
    "# Result set: maker, number of PC models.\n",
    "SELECT \n",
    "  maker, \n",
    "  COUNT(model) AS Count_Model \n",
    "FROM \n",
    "  product \n",
    "WHERE \n",
    "  type = 'pc' \n",
    "GROUP BY \n",
    "  maker \n",
    "HAVING \n",
    "  COUNT(DISTINCT model) >= 3;"
   ]
  },
  {
   "cell_type": "code",
   "execution_count": null,
   "metadata": {},
   "outputs": [],
   "source": [
    "# Task 21\n",
    "# Find out the maximum PC price for each maker having models in the PC table. \n",
    "# Result set: maker, maximum price. \n",
    "SELECT \n",
    "  maker, \n",
    "  MAX(price) \n",
    "FROM \n",
    "  pc \n",
    "  JOIN product ON pc.model = product.model \n",
    "GROUP BY \n",
    "  maker;"
   ]
  },
  {
   "cell_type": "code",
   "execution_count": null,
   "metadata": {},
   "outputs": [],
   "source": [
    "# Task 22\n",
    "# For each value of PC speed that exceeds 600 MHz, find out the average price of PCs \n",
    "# with identical speeds.\n",
    "# Result set: speed, average price. \n",
    "SELECT \n",
    "  speed, \n",
    "  AVG(price) \n",
    "FROM \n",
    "  pc \n",
    "GROUP BY \n",
    "  speed \n",
    "HAVING \n",
    "  speed > 600;"
   ]
  },
  {
   "cell_type": "code",
   "execution_count": null,
   "metadata": {},
   "outputs": [],
   "source": [
    "# Task 23\n",
    "# Get the makers producing both PCs having a speed of 750 MHz or higher \n",
    "# and laptops with a speed of 750 MHz or higher.\n",
    "# Result set: maker \n",
    "SELECT \n",
    "  DISTINCT maker \n",
    "FROM \n",
    "  pc \n",
    "  JOIN product ON pc.model = product.model \n",
    "WHERE \n",
    "  pc.speed >= 750 \n",
    "  AND maker IN (\n",
    "    SELECT \n",
    "      maker \n",
    "    FROM \n",
    "      laptop \n",
    "      JOIN product ON laptop.model = product.model \n",
    "    WHERE \n",
    "      laptop.speed >= 750\n",
    "  );"
   ]
  },
  {
   "cell_type": "code",
   "execution_count": null,
   "metadata": {},
   "outputs": [],
   "source": [
    "# Task 24\n",
    "tbc.."
   ]
  },
  {
   "cell_type": "code",
   "execution_count": null,
   "metadata": {},
   "outputs": [],
   "source": []
  }
 ],
 "metadata": {
  "kernelspec": {
   "display_name": "Python 3",
   "language": "python",
   "name": "python3"
  },
  "language_info": {
   "codemirror_mode": {
    "name": "ipython",
    "version": 3
   },
   "file_extension": ".py",
   "mimetype": "text/x-python",
   "name": "python",
   "nbconvert_exporter": "python",
   "pygments_lexer": "ipython3",
   "version": "3.7.6"
  }
 },
 "nbformat": 4,
 "nbformat_minor": 4
}
